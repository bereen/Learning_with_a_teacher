{
 "cells": [
  {
   "cell_type": "markdown",
   "metadata": {},
   "source": [
    "# Отток клиентов"
   ]
  },
  {
   "cell_type": "markdown",
   "metadata": {},
   "source": [
    "Из «Бета-Банка» стали уходить клиенты. Каждый месяц. Немного, но заметно. Банковские маркетологи посчитали: сохранять текущих клиентов дешевле, чем привлекать новых.\n",
    "\n",
    "Нужно спрогнозировать, уйдёт клиент из банка в ближайшее время или нет. Вам предоставлены исторические данные о поведении клиентов и расторжении договоров с банком. \n",
    "\n",
    "Постройте модель с предельно большим значением *F1*-меры. Чтобы сдать проект успешно, нужно довести метрику до 0.59. Проверьте *F1*-меру на тестовой выборке самостоятельно.\n",
    "\n",
    "Дополнительно измеряйте *AUC-ROC*, сравнивайте её значение с *F1*-мерой.\n",
    "\n",
    "Источник данных: [https://www.kaggle.com/barelydedicated/bank-customer-churn-modeling](https://www.kaggle.com/barelydedicated/bank-customer-churn-modeling)"
   ]
  },
  {
   "cell_type": "markdown",
   "metadata": {},
   "source": [
    "## <font color ='TURQUOISE'>Импорт модулей</font>"
   ]
  },
  {
   "cell_type": "code",
   "execution_count": 66,
   "metadata": {},
   "outputs": [
    {
     "name": "stdout",
     "output_type": "stream",
     "text": [
      "CPU times: user 14.5 ms, sys: 0 ns, total: 14.5 ms\n",
      "Wall time: 13.7 ms\n"
     ]
    }
   ],
   "source": [
    "%%time\n",
    "%%capture\n",
    "\n",
    "import numpy as np \n",
    "import pandas as pd\n",
    "import gc\n",
    "# Сброс ограничений на количество выводимых рядов\n",
    "pd.set_option('display.max_rows', 2)\n",
    " # Сброс ограничений на число столбцов\n",
    "pd.set_option('display.max_columns', None)\n",
    " # Сброс ограничений на количество символов в записи\n",
    "# pd.set_option('display.max_colwidth', None)\n",
    "# При записи изменённых признаков в исходный датафрейм код может вызывать предупреждение SettingWithCopy.\n",
    "# Причина в особенности поведения sklearn и pandas. \n",
    "# Чтобы предупреждение не появлялось, в код добавляют строчку:\n",
    "pd.options.mode.chained_assignment = None\n",
    "\n",
    "import matplotlib.pyplot as plt\n",
    "%matplotlib inline\n",
    "import math\n",
    "from math import factorial, exp\n",
    "from scipy import stats as st\n",
    "import seaborn as sns\n",
    "import warnings\n",
    "\n",
    "from scipy.stats import binom #помогает получить вероятности биномиального распределения\n",
    "from scipy.stats import poisson #значения функции распределения для распределения Пуассона\n",
    "\n",
    "from ipywidgets import IntProgress\n",
    "from IPython.display import display\n",
    "import time\n",
    "import datetime\n",
    "# Помогаторные функции\n",
    "def кп(текст): #красный подчеркнутый\n",
    "    return f\"\\033[31m\\033[4m{текст}\\033[0m\"\n",
    "def сп(текст): #синий подчеркнутый\n",
    "    return f\"\\033[34m\\033[4m{текст}\\033[0m\"\n",
    "def з(текст): #синий подчеркнутый\n",
    "    return f\"\\033[32m{текст}\\033[0m\"\n",
    "pd.set_option('display.float_format', '{:.2f}'.format)\n",
    "def print_df(df):\n",
    "    with warnings.catch_warnings():\n",
    "        warnings.simplefilter('ignore')\n",
    "        warnings.filterwarnings('ignore')\n",
    "        display(HTML(df.to_html()))\n",
    "def t():\n",
    "    return datetime.datetime.now()\n",
    "\n",
    "import random\n",
    "def цвет():\n",
    "    return f'rgb({random.randrange(255)},{random.randrange(255)},{random.randrange(255)})'\n",
    "\n",
    "def info_df(df):\n",
    "    print(f'запуск проверки {сп(t())}, на моент запуска {сп(len(df))} строк')\n",
    "    дубликатов = df.duplicated().sum()\n",
    "    if дубликатов >= 1:\n",
    "        print(кп('Найдены дубликаты:'))\n",
    "        print(df.value_counts())\n",
    "        print(f'Нужно удалить {кп(дубликатов)} дублей')\n",
    "    строк = df.reset_index()['index'].count()\n",
    "    print(з(df.info()))\n",
    "    display(df.describe())    \n",
    "    if строк>3:\n",
    "        display(df.sample(3))\n",
    "    else:\n",
    "        print(f\"Набор данных содержит {кп(строк)} строк. Вывожу весь набор данных\")\n",
    "        display(df.sample(строк))\n",
    "\n",
    "def f1():\n",
    "    print(f'''\n",
    "{сп('1. Функции вызова')}\n",
    "    1.1 {з('print_df(df)')} - выводит набор данных полностью\n",
    "    1.5 {з('t()')} - выводит текущую дату и время\n",
    "    1.6 {з('цвет()')} - выводит цветовую палитру, пример rgb(7,40,89)\n",
    "{сп('2. Визуализация данных')}\n",
    "    2.1 {з('info_df(df):')} - выводит информацию о данных (.info()), проверяет наличие дублей (.duplicated().sum()), если они есть, то предупреждает о них, описывает числительные данные (.describe()).\n",
    "    2.2 {з('диаграмма(df, target, col, x, name):')} - выводит диаграмму, target - значение по оси ординат, x - значение по оси абсцисс, col - поле содержащее информацию о легенде, name -наименование графика.\n",
    "    2.3 {з('boxplot(df, target, col, name):')} - выводит boxplot, target - значение по оси ординат, x - значение по оси абсцисс, col - поле содержащее информацию о легенде, name -наименование графика.\n",
    "    2.4 {з('линия(df, target, x, name='', legend=0, col=''):')} - выводит линейный график, target - значение по оси ординат, x - значение по оси абсцисс, col - поле содержащее информацию о легенде, name -наименование графика. legend=0 означает, что легенда на графике не нужна, а значит не нужно указывать параметр col\n",
    "    2.5 {з('гистограмма(df, target, col, name):')} - выводит гистограмму, target - значение по оси ординат, x - значение по оси абсцисс, col - поле содержащее информацию о легенде, name -наименование графика.\n",
    "    2.6 {з('кп(текст)')} - цвет красный подчеркнутый\n",
    "    2.7 {з('сп(текст)')} - цвет синий подчеркнутый\n",
    "    2.8 {з('з(текст)')} - цвет зеленый\n",
    "    ''')\n",
    "#\n",
    "# Модели\n",
    "from sklearn.linear_model import LogisticRegression\n",
    "from sklearn.tree import DecisionTreeClassifier\n",
    "from sklearn.ensemble import RandomForestClassifier, RandomForestRegressor\n",
    "\n",
    "\n",
    "from sklearn.model_selection import train_test_split\n",
    "\n",
    "\n",
    "\n",
    "\n",
    "def наборы_обучения(df, целевой_признак, p = 1):\n",
    "    train = df.drop(целевой_признак, axis=1)\n",
    "    valid = df[целевой_признак]\n",
    "    features_train, features_valid_all, target_train, target_valid_all = train_test_split(\n",
    "        train, valid, test_size=0.4, random_state=12345)\n",
    "    features_valid, features_test, target_valid, target_test = train_test_split(\n",
    "            features_valid_all, target_valid_all, test_size=0.5, random_state=12345)\n",
    "    return features_train, features_valid, features_test, target_train, target_valid, target_test\n",
    "    if p ==1:\n",
    "        print('Размеры исходных датафреймов')\n",
    "        print('Загруженный файл', df.shape)\n",
    "        print('features_train', features_train.shape)\n",
    "        print('features_valid_all', target_valid_all.shape)\n",
    "        \n",
    "        print('features_valid', features_valid.shape)\n",
    "        print('features_test', features_test.shape)\n",
    "    \n",
    "\n",
    "\n",
    "from sklearn.preprocessing import StandardScaler #стандартизация данных\n",
    "from sklearn.metrics import f1_score\n",
    "# Полнота и точность оценивают качество прогноза положительного класса с разных позиций.\n",
    "# Recall описывает, как хорошо модель разобралась в особенностях этого класса и распознала его.\n",
    "# Precision выявляет, не переусердствует ли модель, присваивая положительные метки. \n",
    "# когда полнота или точность близки к нулю, то к 0 приближается и само среднее гармоническое\n",
    "# Единица в F1 означает, что соотношение полноты и точности равно 1:1\n",
    "# Если положительный класс плохо прогнозируется по одной из шкал (Recall или Precision), \n",
    "# то близкая к нулю F1-мера покажет, что прогноз класса 1 не удался.\n",
    "\n",
    "\n",
    "\n",
    "from sklearn.utils import shuffle\n",
    "\n",
    "\n",
    "\n",
    "def строковые_столбцы(df):\n",
    "    цифровые_столбцы = []\n",
    "    for coll in df.columns:\n",
    "        if df[coll].dtypes==\"object\":\n",
    "            цифровые_столбцы += [coll]\n",
    "    return цифровые_столбцы\n",
    "\n",
    "from sklearn.metrics import accuracy_score, precision_score, recall_score, roc_auc_score, roc_curve\n",
    "from sklearn.metrics import mean_squared_error, r2_score\n",
    "\n",
    "def зкште(trt):\n",
    "    return print(trt)"
   ]
  },
  {
   "cell_type": "markdown",
   "metadata": {},
   "source": [
    "## Загрузите и подготовьте данные. Поясните порядок действий."
   ]
  },
  {
   "cell_type": "code",
   "execution_count": 67,
   "metadata": {},
   "outputs": [
    {
     "name": "stdout",
     "output_type": "stream",
     "text": [
      "2023-10-22 16:30:32.964656\n",
      "запуск проверки \u001b[34m\u001b[4m2023-10-22 16:30:33.007452\u001b[0m, на моент запуска \u001b[34m\u001b[4m10000\u001b[0m строк\n",
      "<class 'pandas.core.frame.DataFrame'>\n",
      "RangeIndex: 10000 entries, 0 to 9999\n",
      "Data columns (total 14 columns):\n",
      " #   Column           Non-Null Count  Dtype  \n",
      "---  ------           --------------  -----  \n",
      " 0   RowNumber        10000 non-null  int64  \n",
      " 1   CustomerId       10000 non-null  int64  \n",
      " 2   Surname          10000 non-null  object \n",
      " 3   CreditScore      10000 non-null  int64  \n",
      " 4   Geography        10000 non-null  object \n",
      " 5   Gender           10000 non-null  object \n",
      " 6   Age              10000 non-null  int64  \n",
      " 7   Tenure           9091 non-null   float64\n",
      " 8   Balance          10000 non-null  float64\n",
      " 9   NumOfProducts    10000 non-null  int64  \n",
      " 10  HasCrCard        10000 non-null  int64  \n",
      " 11  IsActiveMember   10000 non-null  int64  \n",
      " 12  EstimatedSalary  10000 non-null  float64\n",
      " 13  Exited           10000 non-null  int64  \n",
      "dtypes: float64(3), int64(8), object(3)\n",
      "memory usage: 1.1+ MB\n",
      "\u001b[32mNone\u001b[0m\n"
     ]
    },
    {
     "data": {
      "text/html": [
       "<div>\n",
       "<style scoped>\n",
       "    .dataframe tbody tr th:only-of-type {\n",
       "        vertical-align: middle;\n",
       "    }\n",
       "\n",
       "    .dataframe tbody tr th {\n",
       "        vertical-align: top;\n",
       "    }\n",
       "\n",
       "    .dataframe thead th {\n",
       "        text-align: right;\n",
       "    }\n",
       "</style>\n",
       "<table border=\"1\" class=\"dataframe\">\n",
       "  <thead>\n",
       "    <tr style=\"text-align: right;\">\n",
       "      <th></th>\n",
       "      <th>RowNumber</th>\n",
       "      <th>CustomerId</th>\n",
       "      <th>CreditScore</th>\n",
       "      <th>Age</th>\n",
       "      <th>Tenure</th>\n",
       "      <th>Balance</th>\n",
       "      <th>NumOfProducts</th>\n",
       "      <th>HasCrCard</th>\n",
       "      <th>IsActiveMember</th>\n",
       "      <th>EstimatedSalary</th>\n",
       "      <th>Exited</th>\n",
       "    </tr>\n",
       "  </thead>\n",
       "  <tbody>\n",
       "    <tr>\n",
       "      <th>count</th>\n",
       "      <td>10000.00</td>\n",
       "      <td>10000.00</td>\n",
       "      <td>10000.00</td>\n",
       "      <td>10000.00</td>\n",
       "      <td>9091.00</td>\n",
       "      <td>10000.00</td>\n",
       "      <td>10000.00</td>\n",
       "      <td>10000.00</td>\n",
       "      <td>10000.00</td>\n",
       "      <td>10000.00</td>\n",
       "      <td>10000.00</td>\n",
       "    </tr>\n",
       "    <tr>\n",
       "      <th>...</th>\n",
       "      <td>...</td>\n",
       "      <td>...</td>\n",
       "      <td>...</td>\n",
       "      <td>...</td>\n",
       "      <td>...</td>\n",
       "      <td>...</td>\n",
       "      <td>...</td>\n",
       "      <td>...</td>\n",
       "      <td>...</td>\n",
       "      <td>...</td>\n",
       "      <td>...</td>\n",
       "    </tr>\n",
       "    <tr>\n",
       "      <th>max</th>\n",
       "      <td>10000.00</td>\n",
       "      <td>15815690.00</td>\n",
       "      <td>850.00</td>\n",
       "      <td>92.00</td>\n",
       "      <td>10.00</td>\n",
       "      <td>250898.09</td>\n",
       "      <td>4.00</td>\n",
       "      <td>1.00</td>\n",
       "      <td>1.00</td>\n",
       "      <td>199992.48</td>\n",
       "      <td>1.00</td>\n",
       "    </tr>\n",
       "  </tbody>\n",
       "</table>\n",
       "<p>8 rows × 11 columns</p>\n",
       "</div>"
      ],
      "text/plain": [
       "       RowNumber  CustomerId  CreditScore      Age  Tenure   Balance  \\\n",
       "count   10000.00    10000.00     10000.00 10000.00 9091.00  10000.00   \n",
       "...          ...         ...          ...      ...     ...       ...   \n",
       "max     10000.00 15815690.00       850.00    92.00   10.00 250898.09   \n",
       "\n",
       "       NumOfProducts  HasCrCard  IsActiveMember  EstimatedSalary   Exited  \n",
       "count       10000.00   10000.00        10000.00         10000.00 10000.00  \n",
       "...              ...        ...             ...              ...      ...  \n",
       "max             4.00       1.00            1.00        199992.48     1.00  \n",
       "\n",
       "[8 rows x 11 columns]"
      ]
     },
     "metadata": {},
     "output_type": "display_data"
    },
    {
     "data": {
      "text/html": [
       "<div>\n",
       "<style scoped>\n",
       "    .dataframe tbody tr th:only-of-type {\n",
       "        vertical-align: middle;\n",
       "    }\n",
       "\n",
       "    .dataframe tbody tr th {\n",
       "        vertical-align: top;\n",
       "    }\n",
       "\n",
       "    .dataframe thead th {\n",
       "        text-align: right;\n",
       "    }\n",
       "</style>\n",
       "<table border=\"1\" class=\"dataframe\">\n",
       "  <thead>\n",
       "    <tr style=\"text-align: right;\">\n",
       "      <th></th>\n",
       "      <th>RowNumber</th>\n",
       "      <th>CustomerId</th>\n",
       "      <th>Surname</th>\n",
       "      <th>CreditScore</th>\n",
       "      <th>Geography</th>\n",
       "      <th>Gender</th>\n",
       "      <th>Age</th>\n",
       "      <th>Tenure</th>\n",
       "      <th>Balance</th>\n",
       "      <th>NumOfProducts</th>\n",
       "      <th>HasCrCard</th>\n",
       "      <th>IsActiveMember</th>\n",
       "      <th>EstimatedSalary</th>\n",
       "      <th>Exited</th>\n",
       "    </tr>\n",
       "  </thead>\n",
       "  <tbody>\n",
       "    <tr>\n",
       "      <th>7937</th>\n",
       "      <td>7938</td>\n",
       "      <td>15775886</td>\n",
       "      <td>Su</td>\n",
       "      <td>670</td>\n",
       "      <td>France</td>\n",
       "      <td>Male</td>\n",
       "      <td>36</td>\n",
       "      <td>NaN</td>\n",
       "      <td>0.00</td>\n",
       "      <td>1</td>\n",
       "      <td>1</td>\n",
       "      <td>0</td>\n",
       "      <td>140754.19</td>\n",
       "      <td>1</td>\n",
       "    </tr>\n",
       "    <tr>\n",
       "      <th>...</th>\n",
       "      <td>...</td>\n",
       "      <td>...</td>\n",
       "      <td>...</td>\n",
       "      <td>...</td>\n",
       "      <td>...</td>\n",
       "      <td>...</td>\n",
       "      <td>...</td>\n",
       "      <td>...</td>\n",
       "      <td>...</td>\n",
       "      <td>...</td>\n",
       "      <td>...</td>\n",
       "      <td>...</td>\n",
       "      <td>...</td>\n",
       "      <td>...</td>\n",
       "    </tr>\n",
       "    <tr>\n",
       "      <th>8580</th>\n",
       "      <td>8581</td>\n",
       "      <td>15801915</td>\n",
       "      <td>Rendall</td>\n",
       "      <td>529</td>\n",
       "      <td>France</td>\n",
       "      <td>Female</td>\n",
       "      <td>31</td>\n",
       "      <td>6.00</td>\n",
       "      <td>152310.55</td>\n",
       "      <td>1</td>\n",
       "      <td>1</td>\n",
       "      <td>0</td>\n",
       "      <td>13054.25</td>\n",
       "      <td>0</td>\n",
       "    </tr>\n",
       "  </tbody>\n",
       "</table>\n",
       "<p>3 rows × 14 columns</p>\n",
       "</div>"
      ],
      "text/plain": [
       "      RowNumber  CustomerId  Surname  CreditScore Geography  Gender  Age  \\\n",
       "7937       7938    15775886       Su          670    France    Male   36   \n",
       "...         ...         ...      ...          ...       ...     ...  ...   \n",
       "8580       8581    15801915  Rendall          529    France  Female   31   \n",
       "\n",
       "      Tenure   Balance  NumOfProducts  HasCrCard  IsActiveMember  \\\n",
       "7937     NaN      0.00              1          1               0   \n",
       "...      ...       ...            ...        ...             ...   \n",
       "8580    6.00 152310.55              1          1               0   \n",
       "\n",
       "      EstimatedSalary  Exited  \n",
       "7937        140754.19       1  \n",
       "...               ...     ...  \n",
       "8580         13054.25       0  \n",
       "\n",
       "[3 rows x 14 columns]"
      ]
     },
     "metadata": {},
     "output_type": "display_data"
    }
   ],
   "source": [
    "print(t())\n",
    "df_Churn = pd.read_csv(r'/datasets/Churn.csv')\n",
    "info_df(df_Churn)\n",
    "\n",
    "целевой_признак = 'Exited'"
   ]
  },
  {
   "cell_type": "markdown",
   "metadata": {},
   "source": [
    "##### Промежуточные выводы\n",
    "В данных 10000 строк, встречаются текстовые форматы данных.\n",
    "Столбец \"Tenure\" — сколько лет человек является клиентом банка в некоторых случаях не заполнен.\n",
    "Целевой столбец \"Exited\"— факт ухода клиента имет формат \"int64\", заполнен во всех случаях.\n",
    "Полагаю, что столбцы 'Surname', 'CustomerId', 'RowNumber' малозначимы для подготовки моделей, более того, они могут ухудшить результаты."
   ]
  },
  {
   "cell_type": "code",
   "execution_count": 68,
   "metadata": {},
   "outputs": [],
   "source": [
    "df_Churn = df_Churn.drop(['Surname', 'CustomerId', 'RowNumber'], axis=1)"
   ]
  },
  {
   "cell_type": "markdown",
   "metadata": {},
   "source": [
    "## Исследуйте баланс классов, обучите модель без учёта дисбаланса. Кратко опишите выводы."
   ]
  },
  {
   "cell_type": "markdown",
   "metadata": {},
   "source": [
    "###  Обучим модель регрессии на исходных данных"
   ]
  },
  {
   "cell_type": "code",
   "execution_count": 4,
   "metadata": {},
   "outputs": [
    {
     "name": "stdout",
     "output_type": "stream",
     "text": [
      "2023-10-22 12:05:37.813999\n",
      "\u001b[31m\u001b[4mОшибка выполнения\u001b[0m\n",
      "\u001b[34m\u001b[4mcould not convert string to float: 'Spain'\u001b[0m\n",
      "\u001b[34m\u001b[4mCreditScore    int64\n",
      "               ...  \n",
      "Exited         int64\n",
      "Length: 11, dtype: object\u001b[0m\n",
      "CPU times: user 5.44 ms, sys: 4.4 ms, total: 9.84 ms\n",
      "Wall time: 8.82 ms\n"
     ]
    }
   ],
   "source": [
    "%%time\n",
    "print(t())\n",
    "\n",
    "features_train, features_valid, features_test, target_train, target_valid, target_test = (\n",
    "    наборы_обучения(df_Churn, целевой_признак))\n",
    "try:\n",
    "    model = LogisticRegression()\n",
    "    model.fit(features_train, target_train)\n",
    "    print(з('Обучение удалось'))\n",
    "except Exception as e:\n",
    "    print(кп('Ошибка выполнения'))\n",
    "    print(сп(e))\n",
    "    print(сп(df_Churn.dtypes))"
   ]
  },
  {
   "cell_type": "markdown",
   "metadata": {},
   "source": [
    "##### Промежуточный вывод\n",
    "Принадлежность к категории логистическая регрессия вычисляет по формуле, состоящей из признаков. Они могут быть только численные. Наши данные содержали и категориальные признаки тоже — в этом и есть ошибка.<br>\n",
    "Чтобы это побороть, применяю метод прямого кодирования One-Hot Encoding, этот метод подходит для всех типов моделей. Метод Ordinal Encoding не подходит для логистической регрессии."
   ]
  },
  {
   "cell_type": "markdown",
   "metadata": {},
   "source": [
    "### Применяю прямое кодирование ко всему датафрейму One-Hot Encoding"
   ]
  },
  {
   "cell_type": "code",
   "execution_count": 69,
   "metadata": {},
   "outputs": [
    {
     "name": "stdout",
     "output_type": "stream",
     "text": [
      "<class 'pandas.core.frame.DataFrame'>\n",
      "RangeIndex: 10000 entries, 0 to 9999\n",
      "Data columns (total 12 columns):\n",
      " #   Column             Non-Null Count  Dtype  \n",
      "---  ------             --------------  -----  \n",
      " 0   CreditScore        10000 non-null  int64  \n",
      " 1   Age                10000 non-null  int64  \n",
      " 2   Tenure             9091 non-null   float64\n",
      " 3   Balance            10000 non-null  float64\n",
      " 4   NumOfProducts      10000 non-null  int64  \n",
      " 5   HasCrCard          10000 non-null  int64  \n",
      " 6   IsActiveMember     10000 non-null  int64  \n",
      " 7   EstimatedSalary    10000 non-null  float64\n",
      " 8   Exited             10000 non-null  int64  \n",
      " 9   Geography_Germany  10000 non-null  uint8  \n",
      " 10  Geography_Spain    10000 non-null  uint8  \n",
      " 11  Gender_Male        10000 non-null  uint8  \n",
      "dtypes: float64(3), int64(6), uint8(3)\n",
      "memory usage: 732.5 KB\n",
      "None\n",
      "Было строк 10000 стало строк 10000\n"
     ]
    },
    {
     "data": {
      "text/html": [
       "<div>\n",
       "<style scoped>\n",
       "    .dataframe tbody tr th:only-of-type {\n",
       "        vertical-align: middle;\n",
       "    }\n",
       "\n",
       "    .dataframe tbody tr th {\n",
       "        vertical-align: top;\n",
       "    }\n",
       "\n",
       "    .dataframe thead th {\n",
       "        text-align: right;\n",
       "    }\n",
       "</style>\n",
       "<table border=\"1\" class=\"dataframe\">\n",
       "  <thead>\n",
       "    <tr style=\"text-align: right;\">\n",
       "      <th></th>\n",
       "      <th>CreditScore</th>\n",
       "      <th>Age</th>\n",
       "      <th>Tenure</th>\n",
       "      <th>Balance</th>\n",
       "      <th>NumOfProducts</th>\n",
       "      <th>HasCrCard</th>\n",
       "      <th>IsActiveMember</th>\n",
       "      <th>EstimatedSalary</th>\n",
       "      <th>Exited</th>\n",
       "      <th>Geography_Germany</th>\n",
       "      <th>Geography_Spain</th>\n",
       "      <th>Gender_Male</th>\n",
       "    </tr>\n",
       "  </thead>\n",
       "  <tbody>\n",
       "    <tr>\n",
       "      <th>0</th>\n",
       "      <td>619</td>\n",
       "      <td>42</td>\n",
       "      <td>2.00</td>\n",
       "      <td>0.00</td>\n",
       "      <td>1</td>\n",
       "      <td>1</td>\n",
       "      <td>1</td>\n",
       "      <td>101348.88</td>\n",
       "      <td>1</td>\n",
       "      <td>0</td>\n",
       "      <td>0</td>\n",
       "      <td>0</td>\n",
       "    </tr>\n",
       "    <tr>\n",
       "      <th>...</th>\n",
       "      <td>...</td>\n",
       "      <td>...</td>\n",
       "      <td>...</td>\n",
       "      <td>...</td>\n",
       "      <td>...</td>\n",
       "      <td>...</td>\n",
       "      <td>...</td>\n",
       "      <td>...</td>\n",
       "      <td>...</td>\n",
       "      <td>...</td>\n",
       "      <td>...</td>\n",
       "      <td>...</td>\n",
       "    </tr>\n",
       "    <tr>\n",
       "      <th>9999</th>\n",
       "      <td>792</td>\n",
       "      <td>28</td>\n",
       "      <td>NaN</td>\n",
       "      <td>130142.79</td>\n",
       "      <td>1</td>\n",
       "      <td>1</td>\n",
       "      <td>0</td>\n",
       "      <td>38190.78</td>\n",
       "      <td>0</td>\n",
       "      <td>0</td>\n",
       "      <td>0</td>\n",
       "      <td>0</td>\n",
       "    </tr>\n",
       "  </tbody>\n",
       "</table>\n",
       "<p>10000 rows × 12 columns</p>\n",
       "</div>"
      ],
      "text/plain": [
       "      CreditScore  Age  Tenure   Balance  NumOfProducts  HasCrCard  \\\n",
       "0             619   42    2.00      0.00              1          1   \n",
       "...           ...  ...     ...       ...            ...        ...   \n",
       "9999          792   28     NaN 130142.79              1          1   \n",
       "\n",
       "      IsActiveMember  EstimatedSalary  Exited  Geography_Germany  \\\n",
       "0                  1        101348.88       1                  0   \n",
       "...              ...              ...     ...                ...   \n",
       "9999               0         38190.78       0                  0   \n",
       "\n",
       "      Geography_Spain  Gender_Male  \n",
       "0                   0            0  \n",
       "...               ...          ...  \n",
       "9999                0            0  \n",
       "\n",
       "[10000 rows x 12 columns]"
      ]
     },
     "metadata": {},
     "output_type": "display_data"
    },
    {
     "data": {
      "text/html": [
       "<div>\n",
       "<style scoped>\n",
       "    .dataframe tbody tr th:only-of-type {\n",
       "        vertical-align: middle;\n",
       "    }\n",
       "\n",
       "    .dataframe tbody tr th {\n",
       "        vertical-align: top;\n",
       "    }\n",
       "\n",
       "    .dataframe thead th {\n",
       "        text-align: right;\n",
       "    }\n",
       "</style>\n",
       "<table border=\"1\" class=\"dataframe\">\n",
       "  <thead>\n",
       "    <tr style=\"text-align: right;\">\n",
       "      <th></th>\n",
       "      <th>CreditScore</th>\n",
       "      <th>Geography</th>\n",
       "      <th>Gender</th>\n",
       "      <th>Age</th>\n",
       "      <th>Tenure</th>\n",
       "      <th>Balance</th>\n",
       "      <th>NumOfProducts</th>\n",
       "      <th>HasCrCard</th>\n",
       "      <th>IsActiveMember</th>\n",
       "      <th>EstimatedSalary</th>\n",
       "      <th>Exited</th>\n",
       "    </tr>\n",
       "  </thead>\n",
       "  <tbody>\n",
       "    <tr>\n",
       "      <th>0</th>\n",
       "      <td>619</td>\n",
       "      <td>France</td>\n",
       "      <td>Female</td>\n",
       "      <td>42</td>\n",
       "      <td>2.00</td>\n",
       "      <td>0.00</td>\n",
       "      <td>1</td>\n",
       "      <td>1</td>\n",
       "      <td>1</td>\n",
       "      <td>101348.88</td>\n",
       "      <td>1</td>\n",
       "    </tr>\n",
       "    <tr>\n",
       "      <th>...</th>\n",
       "      <td>...</td>\n",
       "      <td>...</td>\n",
       "      <td>...</td>\n",
       "      <td>...</td>\n",
       "      <td>...</td>\n",
       "      <td>...</td>\n",
       "      <td>...</td>\n",
       "      <td>...</td>\n",
       "      <td>...</td>\n",
       "      <td>...</td>\n",
       "      <td>...</td>\n",
       "    </tr>\n",
       "    <tr>\n",
       "      <th>9999</th>\n",
       "      <td>792</td>\n",
       "      <td>France</td>\n",
       "      <td>Female</td>\n",
       "      <td>28</td>\n",
       "      <td>NaN</td>\n",
       "      <td>130142.79</td>\n",
       "      <td>1</td>\n",
       "      <td>1</td>\n",
       "      <td>0</td>\n",
       "      <td>38190.78</td>\n",
       "      <td>0</td>\n",
       "    </tr>\n",
       "  </tbody>\n",
       "</table>\n",
       "<p>10000 rows × 11 columns</p>\n",
       "</div>"
      ],
      "text/plain": [
       "      CreditScore Geography  Gender  Age  Tenure   Balance  NumOfProducts  \\\n",
       "0             619    France  Female   42    2.00      0.00              1   \n",
       "...           ...       ...     ...  ...     ...       ...            ...   \n",
       "9999          792    France  Female   28     NaN 130142.79              1   \n",
       "\n",
       "      HasCrCard  IsActiveMember  EstimatedSalary  Exited  \n",
       "0             1               1        101348.88       1  \n",
       "...         ...             ...              ...     ...  \n",
       "9999          1               0         38190.78       0  \n",
       "\n",
       "[10000 rows x 11 columns]"
      ]
     },
     "metadata": {},
     "output_type": "display_data"
    },
    {
     "data": {
      "text/plain": [
       "[]"
      ]
     },
     "metadata": {},
     "output_type": "display_data"
    }
   ],
   "source": [
    "data_ohe = pd.DataFrame()\n",
    "data_ohe = data_ohe.append(pd.get_dummies(df_Churn, drop_first=True))\n",
    "print(data_ohe.info())\n",
    "print(f'Было строк {len(df_Churn)} стало строк {len(data_ohe)}')\n",
    "display(data_ohe)\n",
    "display(df_Churn)\n",
    "display(строковые_столбцы(data_ohe))"
   ]
  },
  {
   "cell_type": "markdown",
   "metadata": {},
   "source": [
    "##### промежуточный выод\n",
    "Таблица стала шире. Транспонировались столбцы: Geography, Surnameб Gender.\n",
    "Количество строк осталось без изменений. В data_ohe отсутствуют строковые столбцы."
   ]
  },
  {
   "cell_type": "markdown",
   "metadata": {},
   "source": [
    "### Стандартизация данных"
   ]
  },
  {
   "cell_type": "code",
   "execution_count": 72,
   "metadata": {},
   "outputs": [
    {
     "name": "stdout",
     "output_type": "stream",
     "text": [
      "2023-10-22 16:32:27.743782\n"
     ]
    },
    {
     "data": {
      "text/html": [
       "<div>\n",
       "<style scoped>\n",
       "    .dataframe tbody tr th:only-of-type {\n",
       "        vertical-align: middle;\n",
       "    }\n",
       "\n",
       "    .dataframe tbody tr th {\n",
       "        vertical-align: top;\n",
       "    }\n",
       "\n",
       "    .dataframe thead th {\n",
       "        text-align: right;\n",
       "    }\n",
       "</style>\n",
       "<table border=\"1\" class=\"dataframe\">\n",
       "  <thead>\n",
       "    <tr style=\"text-align: right;\">\n",
       "      <th></th>\n",
       "      <th>CreditScore</th>\n",
       "      <th>Age</th>\n",
       "      <th>Tenure</th>\n",
       "      <th>Balance</th>\n",
       "      <th>NumOfProducts</th>\n",
       "      <th>HasCrCard</th>\n",
       "      <th>IsActiveMember</th>\n",
       "      <th>EstimatedSalary</th>\n",
       "      <th>Geography_Germany</th>\n",
       "      <th>Geography_Spain</th>\n",
       "      <th>Gender_Male</th>\n",
       "    </tr>\n",
       "  </thead>\n",
       "  <tbody>\n",
       "    <tr>\n",
       "      <th>0</th>\n",
       "      <td>-0.89</td>\n",
       "      <td>-0.37</td>\n",
       "      <td>1.12</td>\n",
       "      <td>1.23</td>\n",
       "      <td>-0.89</td>\n",
       "      <td>0.64</td>\n",
       "      <td>-1.06</td>\n",
       "      <td>-0.19</td>\n",
       "      <td>-0.57</td>\n",
       "      <td>1.73</td>\n",
       "      <td>0.91</td>\n",
       "    </tr>\n",
       "    <tr>\n",
       "      <th>...</th>\n",
       "      <td>...</td>\n",
       "      <td>...</td>\n",
       "      <td>...</td>\n",
       "      <td>...</td>\n",
       "      <td>...</td>\n",
       "      <td>...</td>\n",
       "      <td>...</td>\n",
       "      <td>...</td>\n",
       "      <td>...</td>\n",
       "      <td>...</td>\n",
       "      <td>...</td>\n",
       "    </tr>\n",
       "    <tr>\n",
       "      <th>5999</th>\n",
       "      <td>0.40</td>\n",
       "      <td>-0.09</td>\n",
       "      <td>-1.37</td>\n",
       "      <td>-1.23</td>\n",
       "      <td>0.83</td>\n",
       "      <td>-1.56</td>\n",
       "      <td>-1.06</td>\n",
       "      <td>-0.95</td>\n",
       "      <td>-0.57</td>\n",
       "      <td>-0.58</td>\n",
       "      <td>0.91</td>\n",
       "    </tr>\n",
       "  </tbody>\n",
       "</table>\n",
       "<p>6000 rows × 11 columns</p>\n",
       "</div>"
      ],
      "text/plain": [
       "      CreditScore   Age  Tenure  Balance  NumOfProducts  HasCrCard  \\\n",
       "0           -0.89 -0.37    1.12     1.23          -0.89       0.64   \n",
       "...           ...   ...     ...      ...            ...        ...   \n",
       "5999         0.40 -0.09   -1.37    -1.23           0.83      -1.56   \n",
       "\n",
       "      IsActiveMember  EstimatedSalary  Geography_Germany  Geography_Spain  \\\n",
       "0              -1.06            -0.19              -0.57             1.73   \n",
       "...              ...              ...                ...              ...   \n",
       "5999           -1.06            -0.95              -0.57            -0.58   \n",
       "\n",
       "      Gender_Male  \n",
       "0            0.91  \n",
       "...           ...  \n",
       "5999         0.91  \n",
       "\n",
       "[6000 rows x 11 columns]"
      ]
     },
     "metadata": {},
     "output_type": "display_data"
    },
    {
     "name": "stdout",
     "output_type": "stream",
     "text": [
      "CPU times: user 30.6 ms, sys: 3.83 ms, total: 34.4 ms\n",
      "Wall time: 36.9 ms\n"
     ]
    }
   ],
   "source": [
    "%%time\n",
    "print(t())\n",
    "features_train, features_valid, features_test, target_train, target_valid, target_test = (\n",
    "#     наборы_обучения(data_ohe.fillna(0), целевой_признак))\n",
    "    наборы_обучения(data_ohe.fillna(3), целевой_признак))\n",
    "# Создадим объект этой структуры и настроим его на обучающих данных. Настройка — это вычисление среднего и дисперсии:\n",
    "scaler = StandardScaler()\n",
    "scaler.fit(features_train)\n",
    "\n",
    "\n",
    "\n",
    "# Преобразуем обучающую и валидационную выборки функцией transform().\n",
    "# Изменённые наборы сохраним в переменных: features_train_scaled (англ. «масштабированные признаки для обучения»)\n",
    "# и features_valid_scaled (англ. «масштабированные признаки для проверки»):\n",
    "\n",
    "features_train_scaled = pd.DataFrame(data=scaler.transform(features_train), columns=features_train.columns)\n",
    "features_valid_scaled = pd.DataFrame(data=scaler.transform(features_valid), columns=features_train.columns)\n",
    "features_test_scaled = pd.DataFrame(data=scaler.transform(features_test), columns=features_train.columns)\n",
    "display(features_train_scaled)"
   ]
  },
  {
   "cell_type": "markdown",
   "metadata": {},
   "source": [
    "##### промежуточный выод\n",
    "Есть немного странные данные, но зато теперь масштаб у всех признаков теперь одинаковый."
   ]
  },
  {
   "cell_type": "markdown",
   "metadata": {},
   "source": [
    "### Проверка адекватности модели"
   ]
  },
  {
   "cell_type": "code",
   "execution_count": 74,
   "metadata": {
    "scrolled": true
   },
   "outputs": [
    {
     "name": "stdout",
     "output_type": "stream",
     "text": [
      "2023-10-22 16:33:06.098296\n",
      "\u001b[32mОбучение удалось\u001b[0m\n",
      "Точность модели 83.45%\n",
      "CPU times: user 27.9 ms, sys: 244 µs, total: 28.1 ms\n",
      "Wall time: 25.7 ms\n"
     ]
    }
   ],
   "source": [
    "%%time\n",
    "print(t())\n",
    "\n",
    "# features_train_scaled\n",
    "# features_valid_scaled\n",
    "\n",
    "\n",
    "try:\n",
    "    model = DecisionTreeClassifier(random_state=12345, max_depth=10)\n",
    "    model.fit(features_train_scaled, target_train)\n",
    "    print(з('Обучение удалось'))\n",
    "    predicted_valid = model.predict(features_valid_scaled)\n",
    "    accuracy_score = accuracy_score(target_valid, predicted_valid)\n",
    "    print(f'''Точность модели {f'{accuracy_score*100:.2f}%'}''')\n",
    "except Exception as e:\n",
    "    print(кп('Ошибка выполнения'))\n",
    "    print(сп(e))"
   ]
  },
  {
   "cell_type": "markdown",
   "metadata": {},
   "source": [
    "##### промежуточный выод\n",
    "Доля правильных ответов — 83%"
   ]
  },
  {
   "cell_type": "markdown",
   "metadata": {},
   "source": [
    "### Исследуем целевой признак"
   ]
  },
  {
   "cell_type": "code",
   "execution_count": 75,
   "metadata": {},
   "outputs": [
    {
     "name": "stdout",
     "output_type": "stream",
     "text": [
      "Распределение целевого признака Exited\n"
     ]
    },
    {
     "data": {
      "text/plain": [
       "0   0.80\n",
       "1   0.20\n",
       "Name: Exited, dtype: float64"
      ]
     },
     "metadata": {},
     "output_type": "display_data"
    },
    {
     "data": {
      "text/plain": [
       "<AxesSubplot:>"
      ]
     },
     "execution_count": 75,
     "metadata": {},
     "output_type": "execute_result"
    },
    {
     "data": {
      "image/png": "[encoded data removed]",
      "text/plain": [
       "<Figure size 432x288 with 1 Axes>"
      ]
     },
     "metadata": {
      "needs_background": "light"
     },
     "output_type": "display_data"
    }
   ],
   "source": [
    "print(f'Распределение целевого признака {целевой_признак}')\n",
    "class_frequency = data_ohe[целевой_признак].value_counts(normalize=True)\n",
    "display(class_frequency)\n",
    "class_frequency.plot(kind='bar')"
   ]
  },
  {
   "cell_type": "markdown",
   "metadata": {},
   "source": [
    "##### промежуточный выод\n",
    "Наблюдаю сильный дисбаланс целевого признкака. Проанализирую частоты классов в результатах предсказаний решающего дерева."
   ]
  },
  {
   "cell_type": "code",
   "execution_count": 9,
   "metadata": {},
   "outputs": [
    {
     "name": "stdout",
     "output_type": "stream",
     "text": [
      "частоты классов в результатах предсказаний решающего дерева\n"
     ]
    },
    {
     "data": {
      "text/plain": [
       "0   0.69\n",
       "1   0.31\n",
       "dtype: float64"
      ]
     },
     "metadata": {},
     "output_type": "display_data"
    },
    {
     "data": {
      "text/plain": [
       "<AxesSubplot:>"
      ]
     },
     "execution_count": 9,
     "metadata": {},
     "output_type": "execute_result"
    },
    {
     "data": {
      "image/png": "[encoded data removed]",
      "text/plain": [
       "<Figure size 432x288 with 1 Axes>"
      ]
     },
     "metadata": {
      "needs_background": "light"
     },
     "output_type": "display_data"
    }
   ],
   "source": [
    "class_frequency = pd.Series(predicted_valid).value_counts(normalize=True)\n",
    "print('частоты классов в результатах предсказаний решающего дерева')\n",
    "display(class_frequency)\n",
    "class_frequency.plot(kind='bar')"
   ]
  },
  {
   "cell_type": "markdown",
   "metadata": {},
   "source": [
    "##### промежуточный выод\n",
    "Аналогичный дисбаланс и в предсказании. Создам константную модель и проверю предсказания на ней."
   ]
  },
  {
   "cell_type": "markdown",
   "metadata": {},
   "source": [
    "### Вывод раздела\n",
    "Точность константной модели 80%, что почти схоже с текущей моделью.\n",
    "<br> <b>вывод точность на адекватность модель не прошла.</b>"
   ]
  },
  {
   "cell_type": "markdown",
   "metadata": {},
   "source": [
    "## Улучшите качество модели, учитывая дисбаланс классов. Обучите разные модели и найдите лучшую. Кратко опишите выводы."
   ]
  },
  {
   "cell_type": "markdown",
   "metadata": {},
   "source": [
    "### Взвешивание классов"
   ]
  },
  {
   "cell_type": "code",
   "execution_count": 77,
   "metadata": {},
   "outputs": [
    {
     "name": "stdout",
     "output_type": "stream",
     "text": [
      "\u001b[32mОбучение удалось\u001b[0m\n",
      "F1-мера до перераспределения веса целевого признака: 33.28%\n",
      "\u001b[31m\u001b[4mОшибка выполнения\u001b[0m\n",
      "\u001b[34m\u001b[4m'numpy.float64' object is not callable\u001b[0m\n"
     ]
    }
   ],
   "source": [
    "try:\n",
    "    model = LogisticRegression(random_state=12345, solver='liblinear')\n",
    "    model.fit(features_train_scaled, target_train)\n",
    "    print(з('Обучение удалось'))\n",
    "    predicted_valid = model.predict(features_valid_scaled)\n",
    "    f1мера = f1_score(target_valid, predicted_valid)\n",
    "    print(f'F1-мера до перераспределения веса целевого признака: {round(f1мера*100, 2)}%')\n",
    "    accuracy_score = accuracy_score(target_valid, predicted_valid)\n",
    "    print(f'''Точность модели {accuracy_score}%''')\n",
    "    \n",
    "    model = LogisticRegression(random_state=12345, solver='liblinear', class_weight='balanced')\n",
    "    model.fit(features_train_scaled, target_train)\n",
    "    print(з('Обучение удалось'))\n",
    "    predicted_valid = model.predict(features_valid_scaled)\n",
    "    f1мера = f1_score(target_valid, predicted_valid)\n",
    "    print(f'F1-мера после перераспределения веса целевого признака: {f\"{round(f1мера*100, 2)}%\"}')\n",
    "    \n",
    "    accuracy_score = accuracy_score(target_valid, predicted_valid)\n",
    "    print(f'''Точность модели {round(accuracy_score*100, 2)}%''')\n",
    "    \n",
    "except Exception as e:\n",
    "    print(кп('Ошибка выполнения'))\n",
    "    print(сп(e))"
   ]
  },
  {
   "cell_type": "markdown",
   "metadata": {},
   "source": [
    "##### Промежуточный вывод\n",
    "F1-мера далека от 1, это означает, что положительный класс плохо прогнозируется по одной из шкал (Recall или Precision). Стоит отметить, что после взвешивания классов F1-мера подросла."
   ]
  },
  {
   "cell_type": "code",
   "execution_count": 12,
   "metadata": {},
   "outputs": [
    {
     "name": "stdout",
     "output_type": "stream",
     "text": [
      "\u001b[31m\u001b[4mОшибка выполнения\u001b[0m\n",
      "\u001b[34m\u001b[4m'numpy.float64' object is not callable\u001b[0m\n"
     ]
    }
   ],
   "source": [
    "try:\n",
    "    accuracy_score(pd.Series([1,0,1,0,1,1,1,0,1,0]).astype('float64'), pd.Series([1,1,1,0,1,1,1,0,1,0]).astype('float64'))\n",
    "except Exception as e:\n",
    "    print(кп('Ошибка выполнения'))\n",
    "    print(сп(e))"
   ]
  },
  {
   "cell_type": "code",
   "execution_count": 13,
   "metadata": {},
   "outputs": [
    {
     "name": "stdout",
     "output_type": "stream",
     "text": [
      "\u001b[31m\u001b[4mОшибка выполнения\u001b[0m\n",
      "\u001b[34m\u001b[4m'numpy.float64' object is not callable\u001b[0m\n"
     ]
    }
   ],
   "source": [
    "try:\n",
    "    accuracy_score(pd.Series([1,0,1,0,1,1,1,0,1,0]).astype('int'), pd.Series([1,1,1,0,1,1,1,0,1,0]).astype('int'))\n",
    "except Exception as e:\n",
    "    print(кп('Ошибка выполнения'))\n",
    "    print(сп(e))"
   ]
  },
  {
   "cell_type": "code",
   "execution_count": 14,
   "metadata": {},
   "outputs": [
    {
     "name": "stdout",
     "output_type": "stream",
     "text": [
      "\u001b[31m\u001b[4mОшибка выполнения\u001b[0m\n",
      "\u001b[34m\u001b[4m'numpy.float64' object is not callable\u001b[0m\n"
     ]
    }
   ],
   "source": [
    "try:\n",
    "    accuracy_score(pd.Series([1,0,1,0,1,1,1,0,1,0]).astype('double'), pd.Series([1,1,1,0,1,1,1,0,1,0]).astype('double'))\n",
    "except Exception as e:\n",
    "    print(кп('Ошибка выполнения'))\n",
    "    print(сп(e))"
   ]
  },
  {
   "cell_type": "markdown",
   "metadata": {},
   "source": [
    "### Увеличение выборки"
   ]
  },
  {
   "cell_type": "code",
   "execution_count": 15,
   "metadata": {},
   "outputs": [],
   "source": [
    "def upsample(features, target, repeat):\n",
    "    features_zeros = features[target == 0]\n",
    "    features_ones = features[target == 1]\n",
    "    target_zeros = target[target == 0]\n",
    "    target_ones = target[target == 1]\n",
    "\n",
    "    features_upsampled = pd.concat([features_zeros] + [features_ones] * repeat)\n",
    "    target_upsampled = pd.concat([target_zeros] + [target_ones] * repeat)\n",
    "    \n",
    "    features_upsampled, target_upsampled = shuffle(\n",
    "        features_upsampled, target_upsampled, random_state=12345)\n",
    "    \n",
    "    return features_upsampled, target_upsampled"
   ]
  },
  {
   "cell_type": "code",
   "execution_count": 16,
   "metadata": {},
   "outputs": [
    {
     "name": "stdout",
     "output_type": "stream",
     "text": [
      "Распределение целевого признака Exited\n"
     ]
    },
    {
     "data": {
      "text/plain": [
       "0   0.80\n",
       "1   0.20\n",
       "Name: Exited, dtype: float64"
      ]
     },
     "metadata": {},
     "output_type": "display_data"
    },
    {
     "data": {
      "text/plain": [
       "<AxesSubplot:>"
      ]
     },
     "execution_count": 16,
     "metadata": {},
     "output_type": "execute_result"
    },
    {
     "data": {
      "image/png": "[encoded data removed]",
      "text/plain": [
       "<Figure size 432x288 with 1 Axes>"
      ]
     },
     "metadata": {
      "needs_background": "light"
     },
     "output_type": "display_data"
    }
   ],
   "source": [
    "print(f'Распределение целевого признака {целевой_признак}')\n",
    "class_frequency = df_Churn[целевой_признак].value_counts(normalize=True)\n",
    "display(class_frequency)\n",
    "class_frequency.plot(kind='bar')"
   ]
  },
  {
   "cell_type": "code",
   "execution_count": 19,
   "metadata": {},
   "outputs": [
    {
     "name": "stdout",
     "output_type": "stream",
     "text": [
      "F1-мера после перераспределения веса целевого признака: 42.48%\n",
      "F1-мера после увеличения выборки: 43.61%. Выборка увеличена в 3 раз.\n",
      "Распределение целевого признака Exited\n"
     ]
    },
    {
     "data": {
      "text/plain": [
       "0   0.57\n",
       "1   0.43\n",
       "Name: Exited, dtype: float64"
      ]
     },
     "metadata": {},
     "output_type": "display_data"
    },
    {
     "name": "stdout",
     "output_type": "stream",
     "text": [
      "CPU times: user 8.3 s, sys: 1.43 s, total: 9.72 s\n",
      "Wall time: 9.73 s\n"
     ]
    },
    {
     "data": {
      "text/plain": [
       "<AxesSubplot:>"
      ]
     },
     "execution_count": 19,
     "metadata": {},
     "output_type": "execute_result"
    },
    {
     "data": {
      "image/png": "[encoded data removed]",
      "text/plain": [
       "<Figure size 432x288 with 1 Axes>"
      ]
     },
     "metadata": {
      "needs_background": "light"
     },
     "output_type": "display_data"
    }
   ],
   "source": [
    "%%time\n",
    "data_ohe = pd.DataFrame()\n",
    "data_ohe = data_ohe.append(pd.get_dummies(df_Churn.fillna(0), drop_first=True))\n",
    "\n",
    "target = data_ohe[целевой_признак]\n",
    "features = data_ohe.drop(целевой_признак, axis=1)\n",
    "features_train, features_valid, target_train, target_valid = train_test_split(\n",
    "    features, target, test_size=0.25, random_state=12345)\n",
    "\n",
    "\n",
    "лучшее_повторение = 2\n",
    "print(f'F1-мера после перераспределения веса целевого признака: {f\"{round(f1мера*100, 2)}%\"}')\n",
    "f1мера_1=0\n",
    "for i in range(2,20):\n",
    "#     print(i)\n",
    "    gc.collect()\n",
    "    features_upsampled, target_upsampled = upsample(features_train, target_train, i)\n",
    "    model = LogisticRegression(solver='liblinear', random_state=12345)\n",
    "    model.fit(features_upsampled, target_upsampled)\n",
    "    predicted_valid = model.predict(features_valid)\n",
    "    f1мера_1 = f1_score(target_valid, predicted_valid)\n",
    "    if f1мера_1>f1мера:\n",
    "        f1мера=f1мера_1\n",
    "        лучшее_повторение = i\n",
    "        features_train = features_upsampled.copy()\n",
    "        target_train = target_upsampled.copy()\n",
    "    del features_upsampled, target_upsampled\n",
    "    gc.collect()\n",
    "print(f'F1-мера после увеличения выборки: {f\"{round(f1мера*100, 2)}%\"}. Выборка увеличена в {лучшее_повторение} раз.')\n",
    "print(f'Распределение целевого признака {целевой_признак}')\n",
    "class_frequency = pd.Series(target_train).value_counts(normalize=True)\n",
    "display(class_frequency)\n",
    "class_frequency.plot(kind='bar')"
   ]
  },
  {
   "cell_type": "code",
   "execution_count": 79,
   "metadata": {},
   "outputs": [
    {
     "name": "stdout",
     "output_type": "stream",
     "text": [
      "Распределение целевого признака Exited\n"
     ]
    },
    {
     "data": {
      "text/plain": [
       "1   0.50\n",
       "0   0.50\n",
       "Name: Exited, dtype: float64"
      ]
     },
     "metadata": {},
     "output_type": "display_data"
    },
    {
     "data": {
      "text/plain": [
       "<AxesSubplot:>"
      ]
     },
     "execution_count": 79,
     "metadata": {},
     "output_type": "execute_result"
    },
    {
     "data": {
      "image/png": "[encoded data removed]",
      "text/plain": [
       "<Figure size 432x288 with 1 Axes>"
      ]
     },
     "metadata": {
      "needs_background": "light"
     },
     "output_type": "display_data"
    }
   ],
   "source": [
    "data_ohe = pd.DataFrame()\n",
    "data_ohe = data_ohe.append(pd.get_dummies(df_Churn.fillna(0), drop_first=True))\n",
    "\n",
    "target = data_ohe[целевой_признак]\n",
    "features = data_ohe.drop(целевой_признак, axis=1)\n",
    "features_train, features_valid, target_train, target_valid = train_test_split(\n",
    "    features, target, test_size=0.25, random_state=12345)\n",
    "\n",
    "features_upsampled, target_upsampled = upsample(features_train, target_train, 4)\n",
    "\n",
    "scaler = StandardScaler()\n",
    "scaler.fit(features_upsampled)\n",
    "features_train_scaled = pd.DataFrame(data=scaler.transform(features_upsampled), columns=features_upsampled.columns)\n",
    "\n",
    "\n",
    "print(f'Распределение целевого признака {целевой_признак}')\n",
    "class_frequency = pd.Series(target_upsampled).value_counts(normalize=True)\n",
    "display(class_frequency)\n",
    "class_frequency.plot(kind='bar')"
   ]
  },
  {
   "cell_type": "markdown",
   "metadata": {},
   "source": [
    "##### Промежуточный вывод\n",
    "F1-мера все еще далека от 1. Путем увеличения выборки при 4 повтарениях достигнуто равновесие по целевому признаку. Попробуем обратный путь - уменьшение отрицательных ответов, возможно выкинув лишнее модель станет лучше предсказывать."
   ]
  },
  {
   "cell_type": "markdown",
   "metadata": {},
   "source": [
    "### Уменьшение выборки"
   ]
  },
  {
   "cell_type": "code",
   "execution_count": 22,
   "metadata": {},
   "outputs": [],
   "source": [
    "def downsample(features, target, fraction):\n",
    "    features_zeros = features[target == 0]\n",
    "    features_ones = features[target == 1]\n",
    "    target_zeros = target[target == 0]\n",
    "    target_ones = target[target == 1]\n",
    "\n",
    "    features_downsampled = pd.concat(\n",
    "        [features_zeros.sample(frac=fraction, random_state=12345)] + [features_ones])\n",
    "    target_downsampled = pd.concat(\n",
    "        [target_zeros.sample(frac=fraction, random_state=12345)] + [target_ones])\n",
    "    \n",
    "    features_downsampled, target_downsampled = shuffle(\n",
    "        features_downsampled, target_downsampled, random_state=12345)\n",
    "    \n",
    "    return features_downsampled, target_downsampled"
   ]
  },
  {
   "cell_type": "code",
   "execution_count": 23,
   "metadata": {},
   "outputs": [
    {
     "name": "stdout",
     "output_type": "stream",
     "text": [
      "F1-мера после перераспределения веса целевого признака: 43.61%\n",
      "F1-мера после увеличения выборки: 44.2%. Выборка уменьшена в 0.20000000000000004 раз.\n",
      "Распределение целевого признака Exited\n"
     ]
    },
    {
     "data": {
      "text/plain": [
       "1   0.56\n",
       "0   0.44\n",
       "Name: Exited, dtype: float64"
      ]
     },
     "metadata": {},
     "output_type": "display_data"
    },
    {
     "name": "stdout",
     "output_type": "stream",
     "text": [
      "CPU times: user 4.1 s, sys: 1.49 s, total: 5.6 s\n",
      "Wall time: 5.61 s\n"
     ]
    },
    {
     "data": {
      "text/plain": [
       "<AxesSubplot:>"
      ]
     },
     "execution_count": 23,
     "metadata": {},
     "output_type": "execute_result"
    },
    {
     "data": {
      "image/png": "[encoded data removed]",
      "text/plain": [
       "<Figure size 432x288 with 1 Axes>"
      ]
     },
     "metadata": {
      "needs_background": "light"
     },
     "output_type": "display_data"
    }
   ],
   "source": [
    "%%time\n",
    "data_ohe = pd.DataFrame()\n",
    "data_ohe = data_ohe.append(pd.get_dummies(df_Churn.fillna(0), drop_first=True))\n",
    "\n",
    "target = data_ohe[целевой_признак]\n",
    "features = data_ohe.drop(целевой_признак, axis=1)\n",
    "features_train, features_valid, target_train, target_valid = train_test_split(\n",
    "    features, target, test_size=0.25, random_state=12345)\n",
    "лучшее_повторение = 0.1\n",
    "f1мера_1=0\n",
    "print(f'F1-мера после перераспределения веса целевого признака: {f\"{round(f1мера*100, 2)}%\"}')\n",
    "for i in np.arange(0.1, 1, 0.05):\n",
    "#     print(i)\n",
    "    gc.collect()\n",
    "    features_downsampled, target_downsampled = downsample(features_train, target_train, i)\n",
    "    model = LogisticRegression(solver='liblinear', random_state=12345)\n",
    "    model.fit(features_downsampled, target_downsampled)\n",
    "    predicted_valid = model.predict(features_valid)\n",
    "    f1мера_1 = f1_score(target_valid, predicted_valid)\n",
    "    if f1мера_1>f1мера:\n",
    "        f1мера=f1мера_1\n",
    "        лучшее_повторение = i\n",
    "        features_train = features_downsampled.copy()\n",
    "        target_train = target_downsampled.copy()\n",
    "    del features_downsampled, target_downsampled\n",
    "    gc.collect()\n",
    "print(f'F1-мера после увеличения выборки: {f\"{round(f1мера*100, 2)}%\"}. Выборка уменьшена в {лучшее_повторение} раз.')\n",
    "print(f'Распределение целевого признака {целевой_признак}')\n",
    "class_frequency = pd.Series(target_train).value_counts(normalize=True)\n",
    "display(class_frequency)\n",
    "class_frequency.plot(kind='bar')"
   ]
  },
  {
   "cell_type": "markdown",
   "metadata": {},
   "source": [
    "##### Промежуточный вывод\n",
    "F1-мера все еще далека от 1. Путем снижения выборки особо ощутимого результата не наблюдается. Оставим способ увеличения выборки."
   ]
  },
  {
   "cell_type": "markdown",
   "metadata": {},
   "source": []
  },
  {
   "cell_type": "markdown",
   "metadata": {},
   "source": [
    "### Изменение порога"
   ]
  },
  {
   "cell_type": "code",
   "execution_count": 25,
   "metadata": {},
   "outputs": [
    {
     "name": "stdout",
     "output_type": "stream",
     "text": [
      "Порог = 0.00 | Точность = 0.214, Полнота = 1.000, f1мера 0.353\n",
      "Порог = 0.05 | Точность = 0.214, Полнота = 1.000, f1мера 0.353\n",
      "Порог = 0.10 | Точность = 0.214, Полнота = 1.000, f1мера 0.353\n",
      "Порог = 0.15 | Точность = 0.214, Полнота = 1.000, f1мера 0.353\n",
      "Порог = 0.20 | Точность = 0.217, Полнота = 1.000, f1мера 0.356\n",
      "Порог = 0.25 | Точность = 0.220, Полнота = 0.993, f1мера 0.360\n",
      "Порог = 0.30 | Точность = 0.226, Полнота = 0.981, f1мера 0.367\n",
      "Порог = 0.35 | Точность = 0.238, Полнота = 0.966, f1мера 0.382\n",
      "Порог = 0.40 | Точность = 0.257, Полнота = 0.940, f1мера 0.403\n",
      "Порог = 0.45 | Точность = 0.277, Полнота = 0.873, f1мера 0.420\n",
      "Порог = 0.50 | Точность = 0.300, Полнота = 0.800, f1мера 0.437\n",
      "Порог = 0.55 | Точность = 0.338, Полнота = 0.731, f1мера 0.462\n",
      "Порог = 0.60 | Точность = 0.370, Полнота = 0.611, f1мера 0.461\n",
      "Порог = 0.65 | Точность = 0.408, Полнота = 0.499, f1мера 0.449\n",
      "Порог = 0.70 | Точность = 0.439, Полнота = 0.368, f1мера 0.400\n",
      "Порог = 0.75 | Точность = 0.469, Полнота = 0.269, f1мера 0.342\n",
      "Порог = 0.80 | Точность = 0.448, Полнота = 0.151, f1мера 0.226\n",
      "Порог = 0.85 | Точность = 0.354, Полнота = 0.065, f1мера 0.110\n",
      "Порог = 0.90 | Точность = 0.156, Полнота = 0.009, f1мера 0.018\n",
      "Порог = 0.95 | Точность = 0.000, Полнота = 0.000, f1мера 0.000\n"
     ]
    }
   ],
   "source": [
    "probabilities_valid = model.predict_proba(features_valid)\n",
    "probabilities_one_valid = probabilities_valid[:, 1]\n",
    "for threshold in np.arange(0, 1, 0.05):\n",
    "    predicted_valid = probabilities_one_valid > threshold\n",
    "    precision = precision_score(target_valid, predicted_valid)\n",
    "    recall = recall_score(target_valid, predicted_valid)\n",
    "    f1мера = f1_score(target_valid, predicted_valid)\n",
    "\n",
    "    print(\"Порог = {:.2f} | Точность = {:.3f}, Полнота = {:.3f}, f1мера {:.3f}\".format(\n",
    "        threshold, precision, recall, f1мера))"
   ]
  },
  {
   "cell_type": "markdown",
   "metadata": {},
   "source": [
    "##### Промежуточный вывод\n",
    "В связи с тем, что F1-мера все еще далека от 1, можно увеличить точность в ущерб полноты, выставив порог в районе 0,6"
   ]
  },
  {
   "cell_type": "code",
   "execution_count": 26,
   "metadata": {},
   "outputs": [
    {
     "data": {
      "text/plain": [
       "Text(0.5, 1.0, 'ROC-кривая с площадью 0.72')"
      ]
     },
     "execution_count": 26,
     "metadata": {},
     "output_type": "execute_result"
    },
    {
     "data": {
      "image/png": "[encoded data removed]",
      "text/plain": [
       "<Figure size 432x288 with 1 Axes>"
      ]
     },
     "metadata": {
      "needs_background": "light"
     },
     "output_type": "display_data"
    }
   ],
   "source": [
    "probabilities_valid = model.predict_proba(features_valid)\n",
    "probabilities_one_valid = probabilities_valid[:, 1]\n",
    "fpr, tpr, thresholds = roc_curve(target_valid, probabilities_one_valid) \n",
    "auc_roc = roc_auc_score(target_valid, probabilities_one_valid)\n",
    "\n",
    "plt.figure()\n",
    "plt.plot(fpr, tpr)\n",
    "plt.plot([0, 1], [0, 1], linestyle='--')\n",
    "plt.xlim([0.0, 1.0])\n",
    "plt.ylim([0.0, 1.0])\n",
    "plt.xlabel('False Positive Rate')\n",
    "plt.ylabel('True Positive Rate')\n",
    "plt.title(f'ROC-кривая с площадью {round(auc_roc, 2)}')"
   ]
  },
  {
   "cell_type": "markdown",
   "metadata": {},
   "source": [
    "##### Промежуточный вывод\n",
    "Площать под ROC-кривой в районе 0,72, что означает, что модель предсказывает лучше, чем случайная модель."
   ]
  },
  {
   "cell_type": "markdown",
   "metadata": {},
   "source": [
    "##### Промежуточный вывод\n",
    "Нужно искать способы улучшения модели."
   ]
  },
  {
   "cell_type": "markdown",
   "metadata": {},
   "source": [
    "### Попробую обучить случайный лес"
   ]
  },
  {
   "cell_type": "code",
   "execution_count": 51,
   "metadata": {},
   "outputs": [
    {
     "name": "stdout",
     "output_type": "stream",
     "text": [
      "CPU times: user 35.2 ms, sys: 101 µs, total: 35.3 ms\n",
      "Wall time: 44.1 ms\n"
     ]
    }
   ],
   "source": [
    "%%time\n",
    "data_ohe = pd.DataFrame()\n",
    "data_ohe = data_ohe.append(pd.get_dummies(df_Churn.fillna(0), drop_first=True))\n",
    "target = data_ohe[целевой_признак]\n",
    "features = data_ohe.drop(целевой_признак, axis=1)\n",
    "features_train, features_valid, target_train, target_valid = train_test_split(\n",
    "    features, target, test_size=0.25, random_state=12345)\n",
    "features_upsampled, target_upsampled = upsample(features_train, target_train, 4)\n",
    "\n",
    "scaler = StandardScaler()\n",
    "scaler.fit(features_upsampled)\n",
    "\n",
    "features_train = pd.DataFrame(data=scaler.transform(features_upsampled), columns=features_upsampled.columns)\n",
    "features_valid = pd.DataFrame(data=scaler.transform(features_valid), columns=features_upsampled.columns)"
   ]
  },
  {
   "cell_type": "code",
   "execution_count": 56,
   "metadata": {},
   "outputs": [
    {
     "name": "stdout",
     "output_type": "stream",
     "text": [
      "Количество деревьев: 12 Площать под ROC-кривой 0.8529756723978027 F1-мера: 64.01%\n",
      "CPU times: user 26.5 s, sys: 71 ms, total: 26.6 s\n",
      "Wall time: 26.6 s\n"
     ]
    }
   ],
   "source": [
    "%%time\n",
    "\n",
    "# подбераю глубину леса при небольшом числе деревьев\n",
    "лучшая_модель = None\n",
    "лучший_результат = 0\n",
    "лучшая_оценка = 0\n",
    "f1мера = 0\n",
    "# r2 = 0\n",
    "auc_roc = 0\n",
    "for depth in range(1, 101, 1):\n",
    "    model = RandomForestClassifier(n_estimators=20, max_depth=depth, random_state=12345)\n",
    "    model.fit(features_train, target_upsampled)\n",
    "    predicted_valid = model.predict(features_valid)\n",
    "    f1мера_1 = f1_score(target_valid, predicted_valid)\n",
    "#     r2_1 = r2_score(target_valid, predicted_valid)\n",
    "    probabilities_valid = model.predict_proba(features_valid)\n",
    "    probabilities_one_valid = probabilities_valid[:, 1]\n",
    "    auc_roc_1 = roc_auc_score(target_valid, probabilities_one_valid)\n",
    "    if лучший_результат < f1мера_1:\n",
    "        лучшая_модель = model\n",
    "        лучший_результат = f1мера_1\n",
    "        лучшая_оценка = depth\n",
    "        f1мера = f1мера_1\n",
    "        auc_roc = auc_roc_1\n",
    "print(\n",
    "#     \"Точность (R2) наилучшей модели на валидационной выборке:\", round(лучший_результат, 2)\n",
    "      \"Количество деревьев:\", лучшая_оценка\n",
    "#       , r2_описание(лучший_результат)\n",
    "      , f'Площать под ROC-кривой {auc_roc}'\n",
    "      , f'F1-мера: {f\"{round(f1мера*100, 2)}%\"}'\n",
    "     )"
   ]
  },
  {
   "cell_type": "code",
   "execution_count": 61,
   "metadata": {},
   "outputs": [
    {
     "name": "stdout",
     "output_type": "stream",
     "text": [
      "Деревьев 12\n",
      "глубина: 30 Площать под ROC-кривой 0.8590506765594159 F1-мера: 64.31%\n",
      "CPU times: user 6.49 s, sys: 20.3 ms, total: 6.51 s\n",
      "Wall time: 6.52 s\n"
     ]
    },
    {
     "data": {
      "text/plain": [
       "Text(0.5, 1.0, 'ROC-кривая с площадью 0.86')"
      ]
     },
     "execution_count": 61,
     "metadata": {},
     "output_type": "execute_result"
    },
    {
     "data": {
      "image/png": "[encoded data removed]",
      "text/plain": [
       "<Figure size 432x288 with 1 Axes>"
      ]
     },
     "metadata": {
      "needs_background": "light"
     },
     "output_type": "display_data"
    }
   ],
   "source": [
    "%%time\n",
    "лучшая_глубина = 20\n",
    "print(f'Деревьев {лучшая_оценка}')\n",
    "for n_estimators in range(20, 101, 10):\n",
    "    model = RandomForestClassifier(n_estimators=n_estimators, max_depth=лучшая_оценка,  random_state=12345)\n",
    "    model.fit(features_train, target_upsampled)\n",
    "    predicted_valid = model.predict(features_valid)\n",
    "    f1мера_1 = f1_score(target_valid, predicted_valid)\n",
    "#     r2_1 = r2_score(target_valid, predicted_valid)\n",
    "    probabilities_valid = model.predict_proba(features_valid)\n",
    "    probabilities_one_valid = probabilities_valid[:, 1]\n",
    "    auc_roc_1 = roc_auc_score(target_valid, probabilities_one_valid)\n",
    "    if лучший_результат < f1мера_1:\n",
    "        лучшая_модель = model\n",
    "        лучший_результат = f1мера_1\n",
    "        лучшая_глубина = n_estimators\n",
    "        f1мера = f1мера_1\n",
    "        auc_roc = auc_roc_1\n",
    "print(\n",
    "#     \"Точность (R2) наилучшей модели на валидационной выборке:\", round(лучший_результат, 2)\n",
    "      \"глубина:\", лучшая_глубина\n",
    "#       , r2_описание(лучший_результат)\n",
    "      , f'Площать под ROC-кривой {auc_roc}'\n",
    "      , f'F1-мера: {f\"{round(f1мера*100, 2)}%\"}'\n",
    "     )\n",
    "fpr, tpr, thresholds = roc_curve(target_valid, probabilities_one_valid)\n",
    "plt.figure()\n",
    "plt.plot(fpr, tpr)\n",
    "plt.plot([0, 1], [0, 1], linestyle='--')\n",
    "plt.xlim([0.0, 1.0])\n",
    "plt.ylim([0.0, 1.0])\n",
    "plt.xlabel('False Positive Rate')\n",
    "plt.ylabel('True Positive Rate')\n",
    "plt.title(f'ROC-кривая с площадью {round(auc_roc, 2)}')"
   ]
  },
  {
   "attachments": {
    "image.png": {
     "image/png": "[encoded data removed]"
    }
   },
   "cell_type": "markdown",
   "metadata": {},
   "source": [
    "##### Промежуточный вывод\n",
    "Удалось достичь величину меры f1 64.01% при 12 деревьев и ветвей. Площадь под  ROC-кривой 0,85 что говорит о том, что модель стала предсказывать гораздо лучше.Коэффициент детерминации вырас больше нулевого значения. Так же был сделан тест на большом количестве деревьев (5000) и ветвей (10000), такое увеличение не привело к существенному улучшению метрик, а длительнсть обучения сильно возросла.\n",
    "\n",
    "![image.png](attachment:image.png)"
   ]
  },
  {
   "cell_type": "markdown",
   "metadata": {},
   "source": [
    "## Проведите финальное тестирование."
   ]
  },
  {
   "cell_type": "code",
   "execution_count": 63,
   "metadata": {},
   "outputs": [
    {
     "name": "stdout",
     "output_type": "stream",
     "text": [
      "CPU times: user 33.9 ms, sys: 62 µs, total: 34 ms\n",
      "Wall time: 31.8 ms\n"
     ]
    }
   ],
   "source": [
    "%%time\n",
    "data_ohe = pd.DataFrame()\n",
    "data_ohe = data_ohe.append(pd.get_dummies(df_Churn.fillna(0), drop_first=True))\n",
    "target = data_ohe[целевой_признак]\n",
    "features = data_ohe.drop(целевой_признак, axis=1)\n",
    "features_train, fv, target_train, ft = train_test_split(\n",
    "    features, target, test_size=0.4, random_state=12345)\n",
    "features_upsampled, target_upsampled = upsample(features_train, target_train, 4)\n",
    "features_valid, features_test, target_valid, target_test = train_test_split(\n",
    "    fv, ft, test_size=0.5, random_state=12345)\n",
    "\n",
    "scaler = StandardScaler()\n",
    "scaler.fit(features_upsampled)\n",
    "\n",
    "features_train = pd.DataFrame(data=scaler.transform(features_upsampled), columns=features_upsampled.columns)\n",
    "features_valid = pd.DataFrame(data=scaler.transform(features_valid), columns=features_upsampled.columns)\n",
    "features_test = pd.DataFrame(data=scaler.transform(features_test), columns=features_upsampled.columns)"
   ]
  },
  {
   "cell_type": "code",
   "execution_count": 64,
   "metadata": {},
   "outputs": [
    {
     "name": "stdout",
     "output_type": "stream",
     "text": [
      "Площать под ROC-кривой 0.84 F1-мера: 60.36%\n",
      "CPU times: user 315 ms, sys: 7.87 ms, total: 323 ms\n",
      "Wall time: 321 ms\n"
     ]
    },
    {
     "data": {
      "text/plain": [
       "Text(0.5, 1.0, 'ROC-кривая с площадью 0.84')"
      ]
     },
     "execution_count": 64,
     "metadata": {},
     "output_type": "execute_result"
    },
    {
     "data": {
      "image/png": "[encoded data removed]",
      "text/plain": [
       "<Figure size 432x288 with 1 Axes>"
      ]
     },
     "metadata": {
      "needs_background": "light"
     },
     "output_type": "display_data"
    }
   ],
   "source": [
    "%%time\n",
    "\n",
    "# model = RandomForestClassifier(n_estimators=200, max_depth=500,  random_state=12345, class_weight='balanced')\n",
    "model = RandomForestClassifier(n_estimators=30, max_depth=12,  random_state=12345, class_weight='balanced')\n",
    "model.fit(features_train, target_upsampled)\n",
    "\n",
    "predicted_valid = model.predict(features_valid)\n",
    "f1мера = f1_score(target_valid, predicted_valid)\n",
    "# r2 = r2_score(target_valid, predicted_valid)\n",
    "probabilities_valid = model.predict_proba(features_valid)\n",
    "probabilities_one_valid = probabilities_valid[:, 1]\n",
    "auc_roc = roc_auc_score(target_valid, probabilities_one_valid)\n",
    "\n",
    "print(\n",
    "#     \"Точность (R2) на валидационной выборке:\", round(r2, 2)\n",
    "#       , r2_описание(r2)\n",
    "      f'Площать под ROC-кривой {round(auc_roc, 2)}'\n",
    "      , f'F1-мера: {f\"{round(f1мера*100, 2)}%\"}'\n",
    "     )\n",
    "fpr, tpr, thresholds = roc_curve(target_valid, probabilities_one_valid)\n",
    "plt.figure()\n",
    "plt.plot(fpr, tpr)\n",
    "plt.plot([0, 1], [0, 1], linestyle='--')\n",
    "plt.xlim([0.0, 1.0])\n",
    "plt.ylim([0.0, 1.0])\n",
    "plt.xlabel('False Positive Rate')\n",
    "plt.ylabel('True Positive Rate')\n",
    "plt.title(f'ROC-кривая с площадью {round(auc_roc, 2)}')\n",
    "\n",
    "\n"
   ]
  },
  {
   "cell_type": "code",
   "execution_count": 65,
   "metadata": {},
   "outputs": [
    {
     "name": "stdout",
     "output_type": "stream",
     "text": [
      "Площать под ROC-кривой 0.85 F1-мера: 62.04%\n"
     ]
    },
    {
     "data": {
      "text/plain": [
       "Text(0.5, 1.0, 'ROC-кривая с площадью 0.85')"
      ]
     },
     "execution_count": 65,
     "metadata": {},
     "output_type": "execute_result"
    },
    {
     "data": {
      "image/png": "[encoded data removed]",
      "text/plain": [
       "<Figure size 432x288 with 1 Axes>"
      ]
     },
     "metadata": {
      "needs_background": "light"
     },
     "output_type": "display_data"
    }
   ],
   "source": [
    "# model = RandomForestClassifier(n_estimators=200, max_depth=500,  random_state=12345, class_weight='balanced')\n",
    "model = RandomForestClassifier(n_estimators=30, max_depth=12,  random_state=12345, class_weight='balanced')\n",
    "model.fit(features_train.append(features_valid), target_upsampled.append(target_valid))\n",
    "\n",
    "predicted_valid = model.predict(features_test)\n",
    "f1мера = f1_score(target_test, predicted_valid)\n",
    "# r2 = r2_score(target_valid, predicted_valid)\n",
    "probabilities_valid = model.predict_proba(features_test)\n",
    "probabilities_one_valid = probabilities_valid[:, 1]\n",
    "auc_roc = roc_auc_score(target_test, probabilities_one_valid)\n",
    "\n",
    "print(\n",
    "#     \"Точность (R2) на тестовой выборке:\", round(r2, 2)\n",
    "#       , r2_описание(r2)\n",
    "      f'Площать под ROC-кривой {round(auc_roc, 2)}'\n",
    "      , f'F1-мера: {f\"{round(f1мера*100, 2)}%\"}'\n",
    "     )\n",
    "fpr, tpr, thresholds = roc_curve(target_test, probabilities_one_valid)\n",
    "plt.figure()\n",
    "plt.plot(fpr, tpr)\n",
    "plt.plot([0, 1], [0, 1], linestyle='--')\n",
    "plt.xlim([0.0, 1.0])\n",
    "plt.ylim([0.0, 1.0])\n",
    "plt.xlabel('False Positive Rate')\n",
    "plt.ylabel('True Positive Rate')\n",
    "plt.title(f'ROC-кривая с площадью {round(auc_roc, 2)}')"
   ]
  },
  {
   "cell_type": "markdown",
   "metadata": {},
   "source": [
    "## Вывод\n",
    "При изучении параметров наилучший результат показателя F1-меры 60.36% был достигнут на валидационной выборке для модели случайного леса. На тестовой выборке при переобучении модели на валидационной + тренировочной выборках показатель подрос до 62.04%.<br>\n",
    "Модель леса на тестовой выборке, как и модель регрессии ведут себя лучше чем случайная модель, где площадь под ROC-кривой больше 0.8.<br>\n",
    "Для улучшения прогнозирования можно:<br>\n",
    " - обогатить источник данных дополнительной информацией\n",
    " - увеличить выборку, возможно 10000 строк мало для проведения всех испытаний."
   ]
  },
  {
   "cell_type": "code",
   "execution_count": null,
   "metadata": {},
   "outputs": [],
   "source": []
  }
 ],
 "metadata": {
  "ExecuteTimeLog": [
   {
    "duration": 1590,
    "start_time": "2023-10-14T11:42:49.869Z"
   },
   {
    "duration": 440,
    "start_time": "2023-10-14T11:42:54.358Z"
   },
   {
    "duration": 149,
    "start_time": "2023-10-14T11:43:58.768Z"
   },
   {
    "duration": 6420,
    "start_time": "2023-10-14T11:51:38.567Z"
   },
   {
    "duration": 234,
    "start_time": "2023-10-14T11:57:47.667Z"
   },
   {
    "duration": 29,
    "start_time": "2023-10-14T11:58:20.977Z"
   },
   {
    "duration": 7,
    "start_time": "2023-10-14T12:03:01.471Z"
   },
   {
    "duration": 10,
    "start_time": "2023-10-14T12:03:03.961Z"
   },
   {
    "duration": 61,
    "start_time": "2023-10-14T12:03:36.200Z"
   },
   {
    "duration": 47,
    "start_time": "2023-10-14T12:04:25.620Z"
   },
   {
    "duration": 24,
    "start_time": "2023-10-14T12:05:43.290Z"
   },
   {
    "duration": 20,
    "start_time": "2023-10-14T12:05:56.729Z"
   },
   {
    "duration": 152,
    "start_time": "2023-10-14T12:14:18.428Z"
   },
   {
    "duration": 100,
    "start_time": "2023-10-14T12:19:00.982Z"
   },
   {
    "duration": 156,
    "start_time": "2023-10-14T12:24:08.007Z"
   },
   {
    "duration": 117,
    "start_time": "2023-10-14T12:27:19.301Z"
   },
   {
    "duration": 98,
    "start_time": "2023-10-14T12:27:36.456Z"
   },
   {
    "duration": 18,
    "start_time": "2023-10-14T12:28:19.160Z"
   },
   {
    "duration": 28,
    "start_time": "2023-10-14T12:28:50.387Z"
   },
   {
    "duration": 5,
    "start_time": "2023-10-14T12:32:36.818Z"
   },
   {
    "duration": 125,
    "start_time": "2023-10-14T12:34:32.795Z"
   },
   {
    "duration": 150,
    "start_time": "2023-10-14T12:34:39.506Z"
   },
   {
    "duration": 597,
    "start_time": "2023-10-14T12:35:02.711Z"
   },
   {
    "duration": 14,
    "start_time": "2023-10-14T12:35:43.796Z"
   },
   {
    "duration": 93,
    "start_time": "2023-10-14T12:35:59.055Z"
   },
   {
    "duration": 7,
    "start_time": "2023-10-14T12:37:04.857Z"
   },
   {
    "duration": 7,
    "start_time": "2023-10-14T12:37:14.676Z"
   },
   {
    "duration": 95,
    "start_time": "2023-10-14T12:37:23.766Z"
   },
   {
    "duration": 6,
    "start_time": "2023-10-14T12:37:28.502Z"
   },
   {
    "duration": 9,
    "start_time": "2023-10-14T12:38:16.461Z"
   },
   {
    "duration": 91,
    "start_time": "2023-10-14T12:38:20.421Z"
   },
   {
    "duration": 92,
    "start_time": "2023-10-14T12:38:41.141Z"
   },
   {
    "duration": 95,
    "start_time": "2023-10-14T12:39:13.951Z"
   },
   {
    "duration": 99,
    "start_time": "2023-10-14T12:40:04.426Z"
   },
   {
    "duration": 4,
    "start_time": "2023-10-14T12:40:26.917Z"
   },
   {
    "duration": 11,
    "start_time": "2023-10-14T12:43:07.297Z"
   },
   {
    "duration": 15,
    "start_time": "2023-10-14T12:43:25.847Z"
   },
   {
    "duration": 133,
    "start_time": "2023-10-14T12:45:02.130Z"
   },
   {
    "duration": 18,
    "start_time": "2023-10-14T12:46:57.957Z"
   },
   {
    "duration": 19,
    "start_time": "2023-10-14T12:47:06.477Z"
   },
   {
    "duration": 20,
    "start_time": "2023-10-14T12:47:24.596Z"
   },
   {
    "duration": 20,
    "start_time": "2023-10-14T12:48:00.892Z"
   },
   {
    "duration": 15,
    "start_time": "2023-10-14T12:51:32.523Z"
   },
   {
    "duration": 19,
    "start_time": "2023-10-14T12:52:06.441Z"
   },
   {
    "duration": 14,
    "start_time": "2023-10-14T13:02:46.557Z"
   },
   {
    "duration": 156,
    "start_time": "2023-10-14T13:02:57.656Z"
   },
   {
    "duration": 1473,
    "start_time": "2023-10-16T03:10:35.786Z"
   },
   {
    "duration": 413,
    "start_time": "2023-10-16T03:25:12.828Z"
   },
   {
    "duration": 193,
    "start_time": "2023-10-16T03:25:15.366Z"
   },
   {
    "duration": 24,
    "start_time": "2023-10-16T03:25:19.541Z"
   },
   {
    "duration": 9,
    "start_time": "2023-10-16T03:29:33.925Z"
   },
   {
    "duration": 20,
    "start_time": "2023-10-16T03:29:46.855Z"
   },
   {
    "duration": 10,
    "start_time": "2023-10-16T03:31:54.578Z"
   },
   {
    "duration": 19,
    "start_time": "2023-10-16T03:32:02.757Z"
   },
   {
    "duration": 11,
    "start_time": "2023-10-16T03:34:14.711Z"
   },
   {
    "duration": 560,
    "start_time": "2023-10-16T03:34:21.516Z"
   },
   {
    "duration": 10,
    "start_time": "2023-10-16T03:34:50.574Z"
   },
   {
    "duration": 22,
    "start_time": "2023-10-16T03:34:58.364Z"
   },
   {
    "duration": 10,
    "start_time": "2023-10-16T03:35:43.626Z"
   },
   {
    "duration": 21,
    "start_time": "2023-10-16T03:35:58.486Z"
   },
   {
    "duration": 10,
    "start_time": "2023-10-16T03:38:02.612Z"
   },
   {
    "duration": 20,
    "start_time": "2023-10-16T03:38:07.550Z"
   },
   {
    "duration": 3,
    "start_time": "2023-10-16T03:38:48.239Z"
   },
   {
    "duration": 11,
    "start_time": "2023-10-16T03:45:31.106Z"
   },
   {
    "duration": 10,
    "start_time": "2023-10-16T03:48:50.171Z"
   },
   {
    "duration": 21,
    "start_time": "2023-10-16T03:48:57.498Z"
   },
   {
    "duration": 37,
    "start_time": "2023-10-16T03:49:27.362Z"
   },
   {
    "duration": 569,
    "start_time": "2023-10-16T03:49:42.325Z"
   },
   {
    "duration": 587,
    "start_time": "2023-10-16T03:50:22.272Z"
   },
   {
    "duration": 603,
    "start_time": "2023-10-16T03:50:47.758Z"
   },
   {
    "duration": 591,
    "start_time": "2023-10-16T03:51:56.641Z"
   },
   {
    "duration": 1559,
    "start_time": "2023-10-17T03:18:27.937Z"
   },
   {
    "duration": 359,
    "start_time": "2023-10-17T03:18:29.502Z"
   },
   {
    "duration": 165,
    "start_time": "2023-10-17T03:18:32.228Z"
   },
   {
    "duration": 22,
    "start_time": "2023-10-17T03:18:36.565Z"
   },
   {
    "duration": 563,
    "start_time": "2023-10-17T03:18:47.713Z"
   },
   {
    "duration": 510,
    "start_time": "2023-10-17T03:22:52.339Z"
   },
   {
    "duration": 382,
    "start_time": "2023-10-17T03:23:32.086Z"
   },
   {
    "duration": 17,
    "start_time": "2023-10-17T03:24:15.021Z"
   },
   {
    "duration": 5,
    "start_time": "2023-10-17T03:25:12.885Z"
   },
   {
    "duration": 9,
    "start_time": "2023-10-17T03:25:31.912Z"
   },
   {
    "duration": 5,
    "start_time": "2023-10-17T03:25:59.463Z"
   },
   {
    "duration": 17,
    "start_time": "2023-10-17T03:26:17.246Z"
   },
   {
    "duration": 15,
    "start_time": "2023-10-17T03:26:31.136Z"
   },
   {
    "duration": 701,
    "start_time": "2023-10-17T03:38:42.001Z"
   },
   {
    "duration": 11,
    "start_time": "2023-10-17T03:39:36.023Z"
   },
   {
    "duration": 551,
    "start_time": "2023-10-17T03:39:47.113Z"
   },
   {
    "duration": 596,
    "start_time": "2023-10-17T03:40:50.069Z"
   },
   {
    "duration": 8993,
    "start_time": "2023-10-17T03:48:12.550Z"
   },
   {
    "duration": 8992,
    "start_time": "2023-10-17T03:50:00.119Z"
   },
   {
    "duration": 9277,
    "start_time": "2023-10-17T04:00:10.247Z"
   },
   {
    "duration": 1710,
    "start_time": "2023-10-17T16:13:34.274Z"
   },
   {
    "duration": 387,
    "start_time": "2023-10-17T16:13:54.063Z"
   },
   {
    "duration": 168,
    "start_time": "2023-10-17T16:13:59.468Z"
   },
   {
    "duration": 21,
    "start_time": "2023-10-17T16:14:12.765Z"
   },
   {
    "duration": 10,
    "start_time": "2023-10-17T16:14:42.170Z"
   },
   {
    "duration": 9483,
    "start_time": "2023-10-17T16:14:48.860Z"
   },
   {
    "duration": 62,
    "start_time": "2023-10-17T16:26:16.374Z"
   },
   {
    "duration": 42,
    "start_time": "2023-10-17T16:26:53.389Z"
   },
   {
    "duration": 189,
    "start_time": "2023-10-17T16:27:12.534Z"
   },
   {
    "duration": 175,
    "start_time": "2023-10-17T16:27:27.225Z"
   },
   {
    "duration": 245,
    "start_time": "2023-10-17T16:29:07.677Z"
   },
   {
    "duration": 207,
    "start_time": "2023-10-17T16:31:49.319Z"
   },
   {
    "duration": 10152,
    "start_time": "2023-10-17T16:32:59.079Z"
   },
   {
    "duration": 10024,
    "start_time": "2023-10-17T16:34:34.473Z"
   },
   {
    "duration": 9615,
    "start_time": "2023-10-17T16:36:50.497Z"
   },
   {
    "duration": 11,
    "start_time": "2023-10-17T16:43:33.931Z"
   },
   {
    "duration": 8785,
    "start_time": "2023-10-17T16:48:21.449Z"
   },
   {
    "duration": 1674,
    "start_time": "2023-10-18T05:00:16.787Z"
   },
   {
    "duration": 401,
    "start_time": "2023-10-18T05:00:19.187Z"
   },
   {
    "duration": 169,
    "start_time": "2023-10-18T05:00:22.706Z"
   },
   {
    "duration": 24,
    "start_time": "2023-10-18T05:00:28.158Z"
   },
   {
    "duration": 9787,
    "start_time": "2023-10-18T05:18:41.104Z"
   },
   {
    "duration": 5,
    "start_time": "2023-10-18T05:19:07.761Z"
   },
   {
    "duration": 149,
    "start_time": "2023-10-18T05:19:35.514Z"
   },
   {
    "duration": 4,
    "start_time": "2023-10-18T05:19:44.322Z"
   },
   {
    "duration": 4,
    "start_time": "2023-10-18T05:19:53.725Z"
   },
   {
    "duration": 4,
    "start_time": "2023-10-18T05:19:57.972Z"
   },
   {
    "duration": 9,
    "start_time": "2023-10-18T05:20:12.410Z"
   },
   {
    "duration": 12035,
    "start_time": "2023-10-18T05:22:32.975Z"
   },
   {
    "duration": 21,
    "start_time": "2023-10-18T05:23:36.142Z"
   },
   {
    "duration": 11402,
    "start_time": "2023-10-18T05:23:53.066Z"
   },
   {
    "duration": 1767,
    "start_time": "2023-10-18T05:25:13.263Z"
   },
   {
    "duration": 173,
    "start_time": "2023-10-18T05:25:59.572Z"
   },
   {
    "duration": 18,
    "start_time": "2023-10-18T05:26:14.447Z"
   },
   {
    "duration": 18,
    "start_time": "2023-10-18T05:26:36.970Z"
   },
   {
    "duration": 49,
    "start_time": "2023-10-18T05:27:26.104Z"
   },
   {
    "duration": 50,
    "start_time": "2023-10-18T05:27:36.151Z"
   },
   {
    "duration": 182,
    "start_time": "2023-10-18T05:31:03.372Z"
   },
   {
    "duration": 162,
    "start_time": "2023-10-18T05:31:12.013Z"
   },
   {
    "duration": 135,
    "start_time": "2023-10-18T05:37:41.388Z"
   },
   {
    "duration": 169,
    "start_time": "2023-10-18T05:37:55.211Z"
   },
   {
    "duration": 150,
    "start_time": "2023-10-18T05:38:10.482Z"
   },
   {
    "duration": 5,
    "start_time": "2023-10-18T05:38:44.070Z"
   },
   {
    "duration": 145,
    "start_time": "2023-10-18T05:39:35.738Z"
   },
   {
    "duration": 48,
    "start_time": "2023-10-18T05:41:13.228Z"
   },
   {
    "duration": 44,
    "start_time": "2023-10-18T05:41:23.066Z"
   },
   {
    "duration": 123,
    "start_time": "2023-10-18T05:42:14.539Z"
   },
   {
    "duration": 109,
    "start_time": "2023-10-18T05:42:41.794Z"
   },
   {
    "duration": 189,
    "start_time": "2023-10-18T05:45:03.901Z"
   },
   {
    "duration": 204,
    "start_time": "2023-10-18T05:45:19.978Z"
   },
   {
    "duration": 113,
    "start_time": "2023-10-18T05:45:24.963Z"
   },
   {
    "duration": 138,
    "start_time": "2023-10-18T05:46:42.157Z"
   },
   {
    "duration": 10555,
    "start_time": "2023-10-18T06:02:21.459Z"
   },
   {
    "duration": 10138,
    "start_time": "2023-10-18T06:04:18.563Z"
   },
   {
    "duration": 76,
    "start_time": "2023-10-18T06:08:36.807Z"
   },
   {
    "duration": 12,
    "start_time": "2023-10-18T06:16:44.528Z"
   },
   {
    "duration": 27,
    "start_time": "2023-10-18T06:17:23.393Z"
   },
   {
    "duration": 92,
    "start_time": "2023-10-18T06:21:29.518Z"
   },
   {
    "duration": 170,
    "start_time": "2023-10-18T06:21:40.112Z"
   },
   {
    "duration": 131,
    "start_time": "2023-10-18T06:21:48.108Z"
   },
   {
    "duration": 12,
    "start_time": "2023-10-18T06:22:17.647Z"
   },
   {
    "duration": 27,
    "start_time": "2023-10-18T06:22:22.957Z"
   },
   {
    "duration": 207,
    "start_time": "2023-10-18T06:24:36.262Z"
   },
   {
    "duration": 222,
    "start_time": "2023-10-18T06:25:10.798Z"
   },
   {
    "duration": 219,
    "start_time": "2023-10-18T06:26:13.335Z"
   },
   {
    "duration": 5,
    "start_time": "2023-10-18T06:26:56.862Z"
   },
   {
    "duration": 4,
    "start_time": "2023-10-18T06:27:06.133Z"
   },
   {
    "duration": 203,
    "start_time": "2023-10-18T06:27:13.265Z"
   },
   {
    "duration": 243,
    "start_time": "2023-10-18T06:29:05.465Z"
   },
   {
    "duration": 254,
    "start_time": "2023-10-18T06:31:10.003Z"
   },
   {
    "duration": 246,
    "start_time": "2023-10-18T06:59:34.819Z"
   },
   {
    "duration": 251,
    "start_time": "2023-10-18T07:06:40.503Z"
   },
   {
    "duration": 1147,
    "start_time": "2023-10-18T07:06:51.078Z"
   },
   {
    "duration": 156,
    "start_time": "2023-10-18T07:07:00.269Z"
   },
   {
    "duration": 12,
    "start_time": "2023-10-18T07:08:50.886Z"
   },
   {
    "duration": 1144,
    "start_time": "2023-10-18T07:09:05.392Z"
   },
   {
    "duration": 262,
    "start_time": "2023-10-18T07:10:00.943Z"
   },
   {
    "duration": 655,
    "start_time": "2023-10-18T07:10:10.053Z"
   },
   {
    "duration": 343,
    "start_time": "2023-10-18T07:10:15.981Z"
   },
   {
    "duration": 247,
    "start_time": "2023-10-18T07:10:19.403Z"
   },
   {
    "duration": 144,
    "start_time": "2023-10-18T07:10:22.765Z"
   },
   {
    "duration": 345,
    "start_time": "2023-10-18T07:10:27.127Z"
   },
   {
    "duration": 254,
    "start_time": "2023-10-18T07:10:32.092Z"
   },
   {
    "duration": 1137,
    "start_time": "2023-10-18T07:10:52.179Z"
   },
   {
    "duration": 1132,
    "start_time": "2023-10-18T07:12:17.954Z"
   },
   {
    "duration": 30327,
    "start_time": "2023-10-18T07:12:22.415Z"
   },
   {
    "duration": 270,
    "start_time": "2023-10-18T07:13:16.093Z"
   },
   {
    "duration": 13,
    "start_time": "2023-10-18T07:14:36.896Z"
   },
   {
    "duration": 1543,
    "start_time": "2023-10-19T05:59:21.576Z"
   },
   {
    "duration": 468,
    "start_time": "2023-10-19T05:59:33.619Z"
   },
   {
    "duration": 226,
    "start_time": "2023-10-19T05:59:39.578Z"
   },
   {
    "duration": 93,
    "start_time": "2023-10-19T05:59:59.163Z"
   },
   {
    "duration": 190,
    "start_time": "2023-10-19T06:00:04.186Z"
   },
   {
    "duration": 22,
    "start_time": "2023-10-19T06:00:08.220Z"
   },
   {
    "duration": 69,
    "start_time": "2023-10-19T06:00:27.701Z"
   },
   {
    "duration": 24,
    "start_time": "2023-10-19T06:00:33.525Z"
   },
   {
    "duration": 173,
    "start_time": "2023-10-19T06:00:37.371Z"
   },
   {
    "duration": 10510,
    "start_time": "2023-10-19T06:01:00.077Z"
   },
   {
    "duration": 284,
    "start_time": "2023-10-19T06:01:10.590Z"
   },
   {
    "duration": 250,
    "start_time": "2023-10-19T06:02:00.311Z"
   },
   {
    "duration": 190,
    "start_time": "2023-10-19T06:03:40.951Z"
   },
   {
    "duration": 20,
    "start_time": "2023-10-19T06:06:59.897Z"
   },
   {
    "duration": 27,
    "start_time": "2023-10-19T06:15:31.289Z"
   },
   {
    "duration": 25,
    "start_time": "2023-10-19T06:16:09.613Z"
   },
   {
    "duration": 18,
    "start_time": "2023-10-19T06:16:30.677Z"
   },
   {
    "duration": 14,
    "start_time": "2023-10-19T06:16:45.437Z"
   },
   {
    "duration": 5,
    "start_time": "2023-10-19T06:16:55.744Z"
   },
   {
    "duration": 4,
    "start_time": "2023-10-19T06:17:00.612Z"
   },
   {
    "duration": 4,
    "start_time": "2023-10-19T06:17:05.735Z"
   },
   {
    "duration": 5,
    "start_time": "2023-10-19T06:17:13.540Z"
   },
   {
    "duration": 5,
    "start_time": "2023-10-19T06:17:19.423Z"
   },
   {
    "duration": 10,
    "start_time": "2023-10-19T06:22:00.175Z"
   },
   {
    "duration": 11,
    "start_time": "2023-10-19T06:22:21.050Z"
   },
   {
    "duration": 5,
    "start_time": "2023-10-19T06:23:06.616Z"
   },
   {
    "duration": 5,
    "start_time": "2023-10-19T06:23:15.071Z"
   },
   {
    "duration": 5,
    "start_time": "2023-10-19T06:23:34.011Z"
   },
   {
    "duration": 16,
    "start_time": "2023-10-19T06:23:44.362Z"
   },
   {
    "duration": 12,
    "start_time": "2023-10-19T06:25:04.153Z"
   },
   {
    "duration": 19,
    "start_time": "2023-10-19T06:28:06.768Z"
   },
   {
    "duration": 13,
    "start_time": "2023-10-19T06:30:53.221Z"
   },
   {
    "duration": 13,
    "start_time": "2023-10-19T06:34:05.812Z"
   },
   {
    "duration": 118,
    "start_time": "2023-10-19T06:34:07.315Z"
   },
   {
    "duration": 18,
    "start_time": "2023-10-19T06:35:08.111Z"
   },
   {
    "duration": 5,
    "start_time": "2023-10-19T06:36:51.459Z"
   },
   {
    "duration": 20,
    "start_time": "2023-10-19T06:37:28.959Z"
   },
   {
    "duration": 9412,
    "start_time": "2023-10-19T06:37:41.712Z"
   },
   {
    "duration": 1543,
    "start_time": "2023-10-19T06:46:53.715Z"
   },
   {
    "duration": 81,
    "start_time": "2023-10-19T06:51:24.997Z"
   },
   {
    "duration": 845,
    "start_time": "2023-10-19T06:51:32.817Z"
   },
   {
    "duration": 19,
    "start_time": "2023-10-19T06:54:41.190Z"
   },
   {
    "duration": 25,
    "start_time": "2023-10-19T06:59:17.733Z"
   },
   {
    "duration": 517,
    "start_time": "2023-10-19T06:59:23.931Z"
   },
   {
    "duration": 1906,
    "start_time": "2023-10-19T07:01:10.970Z"
   },
   {
    "duration": 277,
    "start_time": "2023-10-19T07:01:40.912Z"
   },
   {
    "duration": 20,
    "start_time": "2023-10-19T07:44:18.504Z"
   },
   {
    "duration": 225,
    "start_time": "2023-10-19T07:46:14.570Z"
   },
   {
    "duration": 133,
    "start_time": "2023-10-19T07:46:38.321Z"
   },
   {
    "duration": 679,
    "start_time": "2023-10-19T07:47:45.583Z"
   },
   {
    "duration": 20,
    "start_time": "2023-10-19T07:52:48.418Z"
   },
   {
    "duration": 18,
    "start_time": "2023-10-19T07:52:53.583Z"
   },
   {
    "duration": 176,
    "start_time": "2023-10-19T07:53:42.332Z"
   },
   {
    "duration": 21,
    "start_time": "2023-10-19T07:54:10.362Z"
   },
   {
    "duration": 220,
    "start_time": "2023-10-19T07:54:12.929Z"
   },
   {
    "duration": 18,
    "start_time": "2023-10-19T07:54:21.960Z"
   },
   {
    "duration": 183,
    "start_time": "2023-10-19T07:54:24.901Z"
   },
   {
    "duration": 18,
    "start_time": "2023-10-19T07:55:17.658Z"
   },
   {
    "duration": 180,
    "start_time": "2023-10-19T07:55:20.878Z"
   },
   {
    "duration": 18,
    "start_time": "2023-10-19T07:55:28.723Z"
   },
   {
    "duration": 198,
    "start_time": "2023-10-19T07:55:31.468Z"
   },
   {
    "duration": 20,
    "start_time": "2023-10-19T07:55:37.400Z"
   },
   {
    "duration": 208,
    "start_time": "2023-10-19T07:55:39.864Z"
   },
   {
    "duration": 19,
    "start_time": "2023-10-19T07:55:52.081Z"
   },
   {
    "duration": 21,
    "start_time": "2023-10-19T07:55:54.635Z"
   },
   {
    "duration": 21,
    "start_time": "2023-10-19T07:55:59.812Z"
   },
   {
    "duration": 211,
    "start_time": "2023-10-19T07:56:03.080Z"
   },
   {
    "duration": 20,
    "start_time": "2023-10-19T07:56:22.193Z"
   },
   {
    "duration": 209,
    "start_time": "2023-10-19T07:56:24.565Z"
   },
   {
    "duration": 21,
    "start_time": "2023-10-19T07:56:30.334Z"
   },
   {
    "duration": 198,
    "start_time": "2023-10-19T07:56:32.273Z"
   },
   {
    "duration": 18,
    "start_time": "2023-10-19T07:56:37.329Z"
   },
   {
    "duration": 190,
    "start_time": "2023-10-19T07:56:39.132Z"
   },
   {
    "duration": 21,
    "start_time": "2023-10-19T07:56:45.927Z"
   },
   {
    "duration": 230,
    "start_time": "2023-10-19T07:56:48.985Z"
   },
   {
    "duration": 18,
    "start_time": "2023-10-19T07:56:57.538Z"
   },
   {
    "duration": 195,
    "start_time": "2023-10-19T07:57:00.449Z"
   },
   {
    "duration": 20,
    "start_time": "2023-10-19T07:57:17.497Z"
   },
   {
    "duration": 185,
    "start_time": "2023-10-19T07:57:19.442Z"
   },
   {
    "duration": 18,
    "start_time": "2023-10-19T07:57:27.418Z"
   },
   {
    "duration": 156,
    "start_time": "2023-10-19T07:57:29.945Z"
   },
   {
    "duration": 14,
    "start_time": "2023-10-19T07:57:42.992Z"
   },
   {
    "duration": 191,
    "start_time": "2023-10-19T07:57:45.356Z"
   },
   {
    "duration": 17,
    "start_time": "2023-10-19T07:57:50.815Z"
   },
   {
    "duration": 146,
    "start_time": "2023-10-19T07:57:55.817Z"
   },
   {
    "duration": 23,
    "start_time": "2023-10-19T07:58:13.697Z"
   },
   {
    "duration": 209,
    "start_time": "2023-10-19T07:58:16.116Z"
   },
   {
    "duration": 20,
    "start_time": "2023-10-19T07:58:22.480Z"
   },
   {
    "duration": 190,
    "start_time": "2023-10-19T07:58:24.675Z"
   },
   {
    "duration": 18,
    "start_time": "2023-10-19T07:58:28.664Z"
   },
   {
    "duration": 196,
    "start_time": "2023-10-19T07:58:30.691Z"
   },
   {
    "duration": 1515,
    "start_time": "2023-10-19T08:06:19.160Z"
   },
   {
    "duration": 18,
    "start_time": "2023-10-19T08:06:51.248Z"
   },
   {
    "duration": 19,
    "start_time": "2023-10-19T08:07:07.766Z"
   },
   {
    "duration": 186,
    "start_time": "2023-10-19T08:07:17.550Z"
   },
   {
    "duration": 637,
    "start_time": "2023-10-19T08:08:35.008Z"
   },
   {
    "duration": 19,
    "start_time": "2023-10-19T08:09:00.138Z"
   },
   {
    "duration": 162,
    "start_time": "2023-10-19T08:09:06.828Z"
   },
   {
    "duration": 166,
    "start_time": "2023-10-19T08:14:45.384Z"
   },
   {
    "duration": 27,
    "start_time": "2023-10-19T08:15:35.902Z"
   },
   {
    "duration": 219,
    "start_time": "2023-10-19T08:15:38.510Z"
   },
   {
    "duration": 19,
    "start_time": "2023-10-19T08:16:33.507Z"
   },
   {
    "duration": 174,
    "start_time": "2023-10-19T08:16:36.056Z"
   },
   {
    "duration": 25,
    "start_time": "2023-10-19T08:20:55.209Z"
   },
   {
    "duration": 22,
    "start_time": "2023-10-19T08:21:36.330Z"
   },
   {
    "duration": 435,
    "start_time": "2023-10-19T08:21:46.027Z"
   },
   {
    "duration": 28,
    "start_time": "2023-10-19T08:23:39.269Z"
   },
   {
    "duration": 23,
    "start_time": "2023-10-19T08:23:56.203Z"
   },
   {
    "duration": 116,
    "start_time": "2023-10-19T08:24:01.113Z"
   },
   {
    "duration": 20,
    "start_time": "2023-10-19T08:24:45.256Z"
   },
   {
    "duration": 24,
    "start_time": "2023-10-19T08:24:56.603Z"
   },
   {
    "duration": 27,
    "start_time": "2023-10-19T08:25:05.009Z"
   },
   {
    "duration": 69,
    "start_time": "2023-10-19T08:25:23.473Z"
   },
   {
    "duration": 20,
    "start_time": "2023-10-19T08:28:24.650Z"
   },
   {
    "duration": 223,
    "start_time": "2023-10-19T09:29:23.133Z"
   },
   {
    "duration": 30,
    "start_time": "2023-10-19T09:30:13.838Z"
   },
   {
    "duration": 72,
    "start_time": "2023-10-19T09:30:16.024Z"
   },
   {
    "duration": 96,
    "start_time": "2023-10-19T09:31:19.185Z"
   },
   {
    "duration": 20,
    "start_time": "2023-10-19T09:31:53.712Z"
   },
   {
    "duration": 19,
    "start_time": "2023-10-19T09:31:58.079Z"
   },
   {
    "duration": 22,
    "start_time": "2023-10-19T09:32:01.319Z"
   },
   {
    "duration": 24,
    "start_time": "2023-10-19T09:32:09.678Z"
   },
   {
    "duration": 28,
    "start_time": "2023-10-19T09:32:18.119Z"
   },
   {
    "duration": 19,
    "start_time": "2023-10-19T09:32:21.360Z"
   },
   {
    "duration": 19,
    "start_time": "2023-10-19T09:32:28.454Z"
   },
   {
    "duration": 19,
    "start_time": "2023-10-19T09:32:31.880Z"
   },
   {
    "duration": 26,
    "start_time": "2023-10-19T09:32:35.438Z"
   },
   {
    "duration": 17,
    "start_time": "2023-10-19T09:32:38.868Z"
   },
   {
    "duration": 18,
    "start_time": "2023-10-19T09:32:42.668Z"
   },
   {
    "duration": 18,
    "start_time": "2023-10-19T09:32:45.709Z"
   },
   {
    "duration": 18,
    "start_time": "2023-10-19T09:32:49.864Z"
   },
   {
    "duration": 25,
    "start_time": "2023-10-19T09:32:54.654Z"
   },
   {
    "duration": 18,
    "start_time": "2023-10-19T09:33:01.202Z"
   },
   {
    "duration": 20,
    "start_time": "2023-10-19T09:33:06.220Z"
   },
   {
    "duration": 105,
    "start_time": "2023-10-19T09:33:14.567Z"
   },
   {
    "duration": 28,
    "start_time": "2023-10-19T09:34:33.256Z"
   },
   {
    "duration": 24,
    "start_time": "2023-10-19T09:34:39.466Z"
   },
   {
    "duration": 22,
    "start_time": "2023-10-19T09:34:44.544Z"
   },
   {
    "duration": 18,
    "start_time": "2023-10-19T09:34:53.479Z"
   },
   {
    "duration": 105,
    "start_time": "2023-10-19T09:34:59.198Z"
   },
   {
    "duration": 19,
    "start_time": "2023-10-19T09:36:47.778Z"
   },
   {
    "duration": 236,
    "start_time": "2023-10-19T09:36:54.217Z"
   },
   {
    "duration": 22,
    "start_time": "2023-10-19T09:37:37.136Z"
   },
   {
    "duration": 1577,
    "start_time": "2023-10-19T09:37:43.874Z"
   },
   {
    "duration": 32,
    "start_time": "2023-10-19T09:38:36.353Z"
   },
   {
    "duration": 1202,
    "start_time": "2023-10-19T09:38:44.546Z"
   },
   {
    "duration": 18,
    "start_time": "2023-10-19T09:39:31.009Z"
   },
   {
    "duration": 446,
    "start_time": "2023-10-19T09:39:35.923Z"
   },
   {
    "duration": 28,
    "start_time": "2023-10-19T09:46:21.354Z"
   },
   {
    "duration": 255,
    "start_time": "2023-10-19T09:46:23.723Z"
   },
   {
    "duration": 28,
    "start_time": "2023-10-19T09:46:31.410Z"
   },
   {
    "duration": 361,
    "start_time": "2023-10-19T09:46:33.960Z"
   },
   {
    "duration": 29,
    "start_time": "2023-10-19T09:46:40.190Z"
   },
   {
    "duration": 242,
    "start_time": "2023-10-19T09:46:42.824Z"
   },
   {
    "duration": 21,
    "start_time": "2023-10-19T09:46:47.683Z"
   },
   {
    "duration": 278,
    "start_time": "2023-10-19T09:46:50.187Z"
   },
   {
    "duration": 23,
    "start_time": "2023-10-19T09:46:55.884Z"
   },
   {
    "duration": 20,
    "start_time": "2023-10-19T09:47:11.612Z"
   },
   {
    "duration": 202,
    "start_time": "2023-10-19T09:47:14.765Z"
   },
   {
    "duration": 21,
    "start_time": "2023-10-19T09:47:41.363Z"
   },
   {
    "duration": 21,
    "start_time": "2023-10-19T09:47:50.519Z"
   },
   {
    "duration": 125,
    "start_time": "2023-10-19T09:47:53.582Z"
   },
   {
    "duration": 20,
    "start_time": "2023-10-19T09:48:01.102Z"
   },
   {
    "duration": 1805,
    "start_time": "2023-10-19T09:48:03.390Z"
   },
   {
    "duration": 22,
    "start_time": "2023-10-19T09:48:28.581Z"
   },
   {
    "duration": 17173,
    "start_time": "2023-10-19T09:48:30.685Z"
   },
   {
    "duration": 24,
    "start_time": "2023-10-19T09:51:12.882Z"
   },
   {
    "duration": 10615,
    "start_time": "2023-10-19T09:51:19.656Z"
   },
   {
    "duration": 23,
    "start_time": "2023-10-19T09:51:35.017Z"
   },
   {
    "duration": 198,
    "start_time": "2023-10-19T09:51:39.999Z"
   },
   {
    "duration": 30,
    "start_time": "2023-10-19T09:51:56.225Z"
   },
   {
    "duration": 22,
    "start_time": "2023-10-19T09:52:07.194Z"
   },
   {
    "duration": 21,
    "start_time": "2023-10-19T09:52:10.099Z"
   },
   {
    "duration": 213,
    "start_time": "2023-10-19T09:52:13.477Z"
   },
   {
    "duration": 17008,
    "start_time": "2023-10-19T09:57:41.963Z"
   },
   {
    "duration": 16834,
    "start_time": "2023-10-19T09:59:09.676Z"
   },
   {
    "duration": 1480,
    "start_time": "2023-10-20T03:30:26.908Z"
   },
   {
    "duration": 376,
    "start_time": "2023-10-20T03:30:28.391Z"
   },
   {
    "duration": 160,
    "start_time": "2023-10-20T03:30:28.769Z"
   },
   {
    "duration": 20,
    "start_time": "2023-10-20T03:30:28.932Z"
   },
   {
    "duration": 8677,
    "start_time": "2023-10-20T03:30:28.954Z"
   },
   {
    "duration": 1187,
    "start_time": "2023-10-20T03:30:37.633Z"
   },
   {
    "duration": 88,
    "start_time": "2023-10-20T03:30:38.821Z"
   },
   {
    "duration": 18,
    "start_time": "2023-10-20T03:30:38.911Z"
   },
   {
    "duration": 20,
    "start_time": "2023-10-20T03:30:38.931Z"
   },
   {
    "duration": 18,
    "start_time": "2023-10-20T03:30:38.953Z"
   },
   {
    "duration": 213,
    "start_time": "2023-10-20T03:30:38.973Z"
   },
   {
    "duration": 1133,
    "start_time": "2023-10-20T03:30:39.187Z"
   },
   {
    "duration": 19,
    "start_time": "2023-10-20T03:30:40.321Z"
   },
   {
    "duration": 87,
    "start_time": "2023-10-20T03:30:40.342Z"
   },
   {
    "duration": 486,
    "start_time": "2023-10-20T03:30:40.431Z"
   },
   {
    "duration": 15534,
    "start_time": "2023-10-20T03:30:40.919Z"
   },
   {
    "duration": 512,
    "start_time": "2023-10-20T03:36:06.289Z"
   },
   {
    "duration": 15340,
    "start_time": "2023-10-20T03:43:08.813Z"
   },
   {
    "duration": 15699,
    "start_time": "2023-10-20T03:44:07.562Z"
   },
   {
    "duration": 484,
    "start_time": "2023-10-20T03:44:41.972Z"
   },
   {
    "duration": 15546,
    "start_time": "2023-10-20T03:44:55.395Z"
   },
   {
    "duration": 478,
    "start_time": "2023-10-20T03:45:24.162Z"
   },
   {
    "duration": 15801,
    "start_time": "2023-10-20T03:45:36.580Z"
   },
   {
    "duration": 4909,
    "start_time": "2023-10-20T03:46:29.244Z"
   },
   {
    "duration": 20596,
    "start_time": "2023-10-20T03:46:52.089Z"
   },
   {
    "duration": 36306,
    "start_time": "2023-10-20T03:47:38.410Z"
   },
   {
    "duration": 4739,
    "start_time": "2023-10-20T03:48:23.396Z"
   },
   {
    "duration": 2590,
    "start_time": "2023-10-20T04:09:24.182Z"
   },
   {
    "duration": 240,
    "start_time": "2023-10-20T04:32:22.976Z"
   },
   {
    "duration": 68,
    "start_time": "2023-10-20T04:32:56.715Z"
   },
   {
    "duration": 20,
    "start_time": "2023-10-20T04:32:56.888Z"
   },
   {
    "duration": 29,
    "start_time": "2023-10-20T04:32:57.285Z"
   },
   {
    "duration": 21,
    "start_time": "2023-10-20T04:32:57.646Z"
   },
   {
    "duration": 4773,
    "start_time": "2023-10-20T04:32:58.030Z"
   },
   {
    "duration": 408,
    "start_time": "2023-10-20T04:33:02.807Z"
   },
   {
    "duration": 20,
    "start_time": "2023-10-20T04:33:03.217Z"
   },
   {
    "duration": 834,
    "start_time": "2023-10-20T04:33:03.240Z"
   },
   {
    "duration": 340,
    "start_time": "2023-10-20T04:33:04.076Z"
   },
   {
    "duration": 3020,
    "start_time": "2023-10-20T04:35:28.842Z"
   },
   {
    "duration": 7,
    "start_time": "2023-10-20T04:36:22.779Z"
   },
   {
    "duration": 4,
    "start_time": "2023-10-20T04:36:31.583Z"
   },
   {
    "duration": 3069,
    "start_time": "2023-10-20T04:36:57.450Z"
   },
   {
    "duration": 3153,
    "start_time": "2023-10-20T04:37:20.678Z"
   },
   {
    "duration": 3141,
    "start_time": "2023-10-20T04:37:39.347Z"
   },
   {
    "duration": 3116,
    "start_time": "2023-10-20T04:37:49.427Z"
   },
   {
    "duration": 3146,
    "start_time": "2023-10-20T04:37:57.876Z"
   },
   {
    "duration": 3057,
    "start_time": "2023-10-20T04:38:27.251Z"
   },
   {
    "duration": 3145,
    "start_time": "2023-10-20T04:39:03.971Z"
   },
   {
    "duration": 3203,
    "start_time": "2023-10-20T04:39:19.895Z"
   },
   {
    "duration": 20,
    "start_time": "2023-10-20T05:08:59.804Z"
   },
   {
    "duration": 1317,
    "start_time": "2023-10-20T05:09:41.030Z"
   },
   {
    "duration": 292,
    "start_time": "2023-10-20T05:09:42.349Z"
   },
   {
    "duration": 201,
    "start_time": "2023-10-20T05:09:42.642Z"
   },
   {
    "duration": 309,
    "start_time": "2023-10-20T05:09:42.846Z"
   },
   {
    "duration": 122,
    "start_time": "2023-10-20T05:09:43.157Z"
   },
   {
    "duration": 180,
    "start_time": "2023-10-20T05:09:43.281Z"
   },
   {
    "duration": 63,
    "start_time": "2023-10-20T05:09:43.463Z"
   },
   {
    "duration": 221,
    "start_time": "2023-10-20T05:09:43.528Z"
   },
   {
    "duration": 11,
    "start_time": "2023-10-20T05:09:43.751Z"
   },
   {
    "duration": 0,
    "start_time": "2023-10-20T05:09:43.764Z"
   },
   {
    "duration": 0,
    "start_time": "2023-10-20T05:09:43.766Z"
   },
   {
    "duration": 0,
    "start_time": "2023-10-20T05:09:43.767Z"
   },
   {
    "duration": 0,
    "start_time": "2023-10-20T05:09:43.769Z"
   },
   {
    "duration": 0,
    "start_time": "2023-10-20T05:09:43.771Z"
   },
   {
    "duration": 0,
    "start_time": "2023-10-20T05:09:43.772Z"
   },
   {
    "duration": 0,
    "start_time": "2023-10-20T05:09:43.773Z"
   },
   {
    "duration": 0,
    "start_time": "2023-10-20T05:09:43.774Z"
   },
   {
    "duration": 0,
    "start_time": "2023-10-20T05:09:43.775Z"
   },
   {
    "duration": 0,
    "start_time": "2023-10-20T05:09:43.777Z"
   },
   {
    "duration": 392,
    "start_time": "2023-10-20T05:10:58.842Z"
   },
   {
    "duration": 16,
    "start_time": "2023-10-20T05:11:39.939Z"
   },
   {
    "duration": 27,
    "start_time": "2023-10-20T05:12:28.196Z"
   },
   {
    "duration": 11,
    "start_time": "2023-10-20T05:13:00.931Z"
   },
   {
    "duration": 4,
    "start_time": "2023-10-20T05:13:09.867Z"
   },
   {
    "duration": 10,
    "start_time": "2023-10-20T05:13:18.881Z"
   },
   {
    "duration": 5,
    "start_time": "2023-10-20T05:13:31.891Z"
   },
   {
    "duration": 15,
    "start_time": "2023-10-20T05:13:36.858Z"
   },
   {
    "duration": 4,
    "start_time": "2023-10-20T05:14:03.179Z"
   },
   {
    "duration": 43,
    "start_time": "2023-10-20T05:15:13.151Z"
   },
   {
    "duration": 30,
    "start_time": "2023-10-20T05:16:12.181Z"
   },
   {
    "duration": 5,
    "start_time": "2023-10-20T05:16:25.092Z"
   },
   {
    "duration": 35,
    "start_time": "2023-10-20T05:20:14.834Z"
   },
   {
    "duration": 56,
    "start_time": "2023-10-20T05:20:28.650Z"
   },
   {
    "duration": 40,
    "start_time": "2023-10-20T05:21:10.611Z"
   },
   {
    "duration": 15,
    "start_time": "2023-10-20T05:21:54.637Z"
   },
   {
    "duration": 1415,
    "start_time": "2023-10-20T05:22:31.943Z"
   },
   {
    "duration": 371,
    "start_time": "2023-10-20T05:22:33.361Z"
   },
   {
    "duration": 198,
    "start_time": "2023-10-20T05:22:33.734Z"
   },
   {
    "duration": 29,
    "start_time": "2023-10-20T05:22:33.934Z"
   },
   {
    "duration": 9059,
    "start_time": "2023-10-20T05:22:33.965Z"
   },
   {
    "duration": 895,
    "start_time": "2023-10-20T05:22:43.026Z"
   },
   {
    "duration": 89,
    "start_time": "2023-10-20T05:22:43.923Z"
   },
   {
    "duration": 27,
    "start_time": "2023-10-20T05:22:44.013Z"
   },
   {
    "duration": 221,
    "start_time": "2023-10-20T05:22:44.042Z"
   },
   {
    "duration": 0,
    "start_time": "2023-10-20T05:22:44.265Z"
   },
   {
    "duration": 0,
    "start_time": "2023-10-20T05:22:44.266Z"
   },
   {
    "duration": 0,
    "start_time": "2023-10-20T05:22:44.267Z"
   },
   {
    "duration": 0,
    "start_time": "2023-10-20T05:22:44.269Z"
   },
   {
    "duration": 0,
    "start_time": "2023-10-20T05:22:44.269Z"
   },
   {
    "duration": 0,
    "start_time": "2023-10-20T05:22:44.271Z"
   },
   {
    "duration": 0,
    "start_time": "2023-10-20T05:22:44.272Z"
   },
   {
    "duration": 0,
    "start_time": "2023-10-20T05:22:44.273Z"
   },
   {
    "duration": 0,
    "start_time": "2023-10-20T05:22:44.274Z"
   },
   {
    "duration": 0,
    "start_time": "2023-10-20T05:22:44.276Z"
   },
   {
    "duration": 1491,
    "start_time": "2023-10-20T08:01:57.853Z"
   },
   {
    "duration": 540,
    "start_time": "2023-10-20T08:01:59.354Z"
   },
   {
    "duration": 181,
    "start_time": "2023-10-20T08:01:59.895Z"
   },
   {
    "duration": 36,
    "start_time": "2023-10-20T08:02:00.081Z"
   },
   {
    "duration": 35,
    "start_time": "2023-10-20T08:02:01.988Z"
   },
   {
    "duration": 32,
    "start_time": "2023-10-20T08:02:02.025Z"
   },
   {
    "duration": 131,
    "start_time": "2023-10-20T08:02:02.058Z"
   },
   {
    "duration": 24,
    "start_time": "2023-10-20T08:02:02.191Z"
   },
   {
    "duration": 9822,
    "start_time": "2023-10-20T08:02:02.239Z"
   },
   {
    "duration": 800,
    "start_time": "2023-10-20T08:02:12.063Z"
   },
   {
    "duration": 91,
    "start_time": "2023-10-20T08:02:12.865Z"
   },
   {
    "duration": 23,
    "start_time": "2023-10-20T08:02:12.957Z"
   },
   {
    "duration": 238,
    "start_time": "2023-10-20T08:02:12.981Z"
   },
   {
    "duration": 0,
    "start_time": "2023-10-20T08:02:13.221Z"
   },
   {
    "duration": 0,
    "start_time": "2023-10-20T08:02:13.222Z"
   },
   {
    "duration": 0,
    "start_time": "2023-10-20T08:02:13.223Z"
   },
   {
    "duration": 0,
    "start_time": "2023-10-20T08:02:13.224Z"
   },
   {
    "duration": 0,
    "start_time": "2023-10-20T08:02:13.225Z"
   },
   {
    "duration": 0,
    "start_time": "2023-10-20T08:02:13.226Z"
   },
   {
    "duration": 0,
    "start_time": "2023-10-20T08:02:13.227Z"
   },
   {
    "duration": 0,
    "start_time": "2023-10-20T08:02:13.227Z"
   },
   {
    "duration": 0,
    "start_time": "2023-10-20T08:02:13.229Z"
   },
   {
    "duration": 0,
    "start_time": "2023-10-20T08:02:13.229Z"
   },
   {
    "duration": 221,
    "start_time": "2023-10-20T08:04:19.315Z"
   },
   {
    "duration": 4,
    "start_time": "2023-10-20T08:04:50.011Z"
   },
   {
    "duration": 9,
    "start_time": "2023-10-20T08:04:57.472Z"
   },
   {
    "duration": 5,
    "start_time": "2023-10-20T08:05:12.822Z"
   },
   {
    "duration": 21,
    "start_time": "2023-10-20T08:07:13.487Z"
   },
   {
    "duration": 28,
    "start_time": "2023-10-20T08:07:18.313Z"
   },
   {
    "duration": 23,
    "start_time": "2023-10-20T08:07:18.343Z"
   },
   {
    "duration": 113,
    "start_time": "2023-10-20T08:07:18.367Z"
   },
   {
    "duration": 24,
    "start_time": "2023-10-20T08:07:18.482Z"
   },
   {
    "duration": 9886,
    "start_time": "2023-10-20T08:07:18.508Z"
   },
   {
    "duration": 1256,
    "start_time": "2023-10-20T08:07:28.396Z"
   },
   {
    "duration": 58,
    "start_time": "2023-10-20T08:07:29.655Z"
   },
   {
    "duration": 51,
    "start_time": "2023-10-20T08:07:29.714Z"
   },
   {
    "duration": 13,
    "start_time": "2023-10-20T08:07:29.766Z"
   },
   {
    "duration": 20,
    "start_time": "2023-10-20T08:07:29.781Z"
   },
   {
    "duration": 16,
    "start_time": "2023-10-20T08:07:29.803Z"
   },
   {
    "duration": 239,
    "start_time": "2023-10-20T08:07:29.820Z"
   },
   {
    "duration": 497,
    "start_time": "2023-10-20T08:07:30.061Z"
   },
   {
    "duration": 18,
    "start_time": "2023-10-20T08:07:30.560Z"
   },
   {
    "duration": 89,
    "start_time": "2023-10-20T08:07:30.580Z"
   },
   {
    "duration": 191,
    "start_time": "2023-10-20T08:07:30.671Z"
   },
   {
    "duration": 206,
    "start_time": "2023-10-20T08:07:30.939Z"
   },
   {
    "duration": 225,
    "start_time": "2023-10-20T08:07:31.147Z"
   },
   {
    "duration": 5428,
    "start_time": "2023-10-20T08:07:31.373Z"
   },
   {
    "duration": 150,
    "start_time": "2023-10-20T08:07:36.802Z"
   },
   {
    "duration": 22,
    "start_time": "2023-10-20T08:09:47.979Z"
   },
   {
    "duration": 7586,
    "start_time": "2023-10-20T08:09:55.471Z"
   },
   {
    "duration": 17,
    "start_time": "2023-10-20T08:10:37.308Z"
   },
   {
    "duration": 4574,
    "start_time": "2023-10-20T08:11:02.372Z"
   },
   {
    "duration": 380,
    "start_time": "2023-10-20T08:11:26.273Z"
   },
   {
    "duration": 1296,
    "start_time": "2023-10-20T08:12:46.904Z"
   },
   {
    "duration": 416,
    "start_time": "2023-10-20T08:12:48.202Z"
   },
   {
    "duration": 162,
    "start_time": "2023-10-20T08:12:48.619Z"
   },
   {
    "duration": 18,
    "start_time": "2023-10-20T08:12:48.783Z"
   },
   {
    "duration": 9749,
    "start_time": "2023-10-20T08:12:48.803Z"
   },
   {
    "duration": 1003,
    "start_time": "2023-10-20T08:12:58.553Z"
   },
   {
    "duration": 61,
    "start_time": "2023-10-20T08:12:59.557Z"
   },
   {
    "duration": 26,
    "start_time": "2023-10-20T08:12:59.639Z"
   },
   {
    "duration": 18,
    "start_time": "2023-10-20T08:12:59.666Z"
   },
   {
    "duration": 15,
    "start_time": "2023-10-20T08:12:59.686Z"
   },
   {
    "duration": 210,
    "start_time": "2023-10-20T08:12:59.703Z"
   },
   {
    "duration": 339,
    "start_time": "2023-10-20T08:12:59.915Z"
   },
   {
    "duration": 100,
    "start_time": "2023-10-20T08:13:00.256Z"
   },
   {
    "duration": 55,
    "start_time": "2023-10-20T08:13:00.358Z"
   },
   {
    "duration": 230,
    "start_time": "2023-10-20T08:13:00.414Z"
   },
   {
    "duration": 207,
    "start_time": "2023-10-20T08:13:00.653Z"
   },
   {
    "duration": 197,
    "start_time": "2023-10-20T08:13:00.862Z"
   },
   {
    "duration": 5498,
    "start_time": "2023-10-20T08:13:01.060Z"
   },
   {
    "duration": 145,
    "start_time": "2023-10-20T08:13:06.559Z"
   },
   {
    "duration": 21,
    "start_time": "2023-10-20T09:10:14.274Z"
   },
   {
    "duration": 111,
    "start_time": "2023-10-20T09:10:16.047Z"
   },
   {
    "duration": 17,
    "start_time": "2023-10-20T09:10:17.813Z"
   },
   {
    "duration": 9640,
    "start_time": "2023-10-20T09:10:19.964Z"
   },
   {
    "duration": 1055,
    "start_time": "2023-10-20T09:10:29.606Z"
   },
   {
    "duration": 1536,
    "start_time": "2023-10-20T19:41:49.358Z"
   },
   {
    "duration": 395,
    "start_time": "2023-10-20T19:41:50.897Z"
   },
   {
    "duration": 158,
    "start_time": "2023-10-20T19:41:51.301Z"
   },
   {
    "duration": 19,
    "start_time": "2023-10-20T19:41:51.461Z"
   },
   {
    "duration": 9465,
    "start_time": "2023-10-20T19:41:51.482Z"
   },
   {
    "duration": 1560,
    "start_time": "2023-10-20T19:42:00.949Z"
   },
   {
    "duration": 92,
    "start_time": "2023-10-20T19:42:02.511Z"
   },
   {
    "duration": 19,
    "start_time": "2023-10-20T19:42:02.605Z"
   },
   {
    "duration": 30,
    "start_time": "2023-10-20T19:42:02.625Z"
   },
   {
    "duration": 39,
    "start_time": "2023-10-20T19:42:02.658Z"
   },
   {
    "duration": 242,
    "start_time": "2023-10-20T19:42:02.699Z"
   },
   {
    "duration": 376,
    "start_time": "2023-10-20T19:42:02.943Z"
   },
   {
    "duration": 18,
    "start_time": "2023-10-20T19:42:03.401Z"
   },
   {
    "duration": 83,
    "start_time": "2023-10-20T19:42:03.421Z"
   },
   {
    "duration": 309,
    "start_time": "2023-10-20T19:42:03.506Z"
   },
   {
    "duration": 213,
    "start_time": "2023-10-20T19:42:03.817Z"
   },
   {
    "duration": 281,
    "start_time": "2023-10-20T19:42:04.032Z"
   },
   {
    "duration": 5189,
    "start_time": "2023-10-20T19:42:04.314Z"
   },
   {
    "duration": 174,
    "start_time": "2023-10-20T19:42:09.505Z"
   },
   {
    "duration": 110,
    "start_time": "2023-10-20T19:44:47.307Z"
   },
   {
    "duration": 30,
    "start_time": "2023-10-20T19:44:57.909Z"
   },
   {
    "duration": 14,
    "start_time": "2023-10-20T19:49:33.867Z"
   },
   {
    "duration": 30,
    "start_time": "2023-10-20T19:49:42.291Z"
   },
   {
    "duration": 16,
    "start_time": "2023-10-20T19:49:42.323Z"
   },
   {
    "duration": 135,
    "start_time": "2023-10-20T19:49:42.342Z"
   },
   {
    "duration": 37,
    "start_time": "2023-10-20T19:49:42.479Z"
   },
   {
    "duration": 10908,
    "start_time": "2023-10-20T19:49:42.517Z"
   },
   {
    "duration": 879,
    "start_time": "2023-10-20T19:49:53.427Z"
   },
   {
    "duration": 110,
    "start_time": "2023-10-20T19:49:54.308Z"
   },
   {
    "duration": 20,
    "start_time": "2023-10-20T19:49:54.420Z"
   },
   {
    "duration": 22,
    "start_time": "2023-10-20T19:49:54.443Z"
   },
   {
    "duration": 56,
    "start_time": "2023-10-20T19:49:54.467Z"
   },
   {
    "duration": 229,
    "start_time": "2023-10-20T19:49:54.525Z"
   },
   {
    "duration": 468,
    "start_time": "2023-10-20T19:49:54.757Z"
   },
   {
    "duration": 19,
    "start_time": "2023-10-20T19:49:55.227Z"
   },
   {
    "duration": 119,
    "start_time": "2023-10-20T19:49:55.247Z"
   },
   {
    "duration": 252,
    "start_time": "2023-10-20T19:49:55.369Z"
   },
   {
    "duration": 241,
    "start_time": "2023-10-20T19:49:55.702Z"
   },
   {
    "duration": 267,
    "start_time": "2023-10-20T19:49:55.945Z"
   },
   {
    "duration": 6581,
    "start_time": "2023-10-20T19:49:56.214Z"
   },
   {
    "duration": 174,
    "start_time": "2023-10-20T19:50:02.800Z"
   },
   {
    "duration": 9902,
    "start_time": "2023-10-20T19:50:40.534Z"
   },
   {
    "duration": 9728,
    "start_time": "2023-10-20T19:51:06.592Z"
   },
   {
    "duration": 26,
    "start_time": "2023-10-20T19:52:28.100Z"
   },
   {
    "duration": 121,
    "start_time": "2023-10-20T19:52:29.599Z"
   },
   {
    "duration": 29,
    "start_time": "2023-10-20T19:52:31.418Z"
   },
   {
    "duration": 9579,
    "start_time": "2023-10-20T19:52:31.859Z"
   },
   {
    "duration": 685,
    "start_time": "2023-10-20T19:52:41.440Z"
   },
   {
    "duration": 98,
    "start_time": "2023-10-20T19:52:42.127Z"
   },
   {
    "duration": 29,
    "start_time": "2023-10-20T19:52:42.227Z"
   },
   {
    "duration": 269,
    "start_time": "2023-10-20T19:52:42.258Z"
   },
   {
    "duration": 0,
    "start_time": "2023-10-20T19:52:42.529Z"
   },
   {
    "duration": 0,
    "start_time": "2023-10-20T19:52:42.531Z"
   },
   {
    "duration": 0,
    "start_time": "2023-10-20T19:52:42.532Z"
   },
   {
    "duration": 0,
    "start_time": "2023-10-20T19:52:42.534Z"
   },
   {
    "duration": 0,
    "start_time": "2023-10-20T19:52:42.536Z"
   },
   {
    "duration": 0,
    "start_time": "2023-10-20T19:52:42.537Z"
   },
   {
    "duration": 0,
    "start_time": "2023-10-20T19:52:42.538Z"
   },
   {
    "duration": 0,
    "start_time": "2023-10-20T19:52:42.539Z"
   },
   {
    "duration": 0,
    "start_time": "2023-10-20T19:52:42.540Z"
   },
   {
    "duration": 0,
    "start_time": "2023-10-20T19:52:42.541Z"
   },
   {
    "duration": 1412,
    "start_time": "2023-10-20T19:56:29.265Z"
   },
   {
    "duration": 380,
    "start_time": "2023-10-20T19:56:32.016Z"
   },
   {
    "duration": 208,
    "start_time": "2023-10-20T19:56:32.403Z"
   },
   {
    "duration": 31,
    "start_time": "2023-10-20T19:56:32.613Z"
   },
   {
    "duration": 23,
    "start_time": "2023-10-20T20:04:12.665Z"
   },
   {
    "duration": 20,
    "start_time": "2023-10-20T20:04:12.719Z"
   },
   {
    "duration": 128,
    "start_time": "2023-10-20T20:04:12.741Z"
   },
   {
    "duration": 49,
    "start_time": "2023-10-20T20:04:12.871Z"
   },
   {
    "duration": 13959,
    "start_time": "2023-10-20T20:04:12.922Z"
   },
   {
    "duration": 634,
    "start_time": "2023-10-20T20:04:26.884Z"
   },
   {
    "duration": 124,
    "start_time": "2023-10-20T20:04:27.520Z"
   },
   {
    "duration": 37,
    "start_time": "2023-10-20T20:04:27.646Z"
   },
   {
    "duration": 102,
    "start_time": "2023-10-20T20:04:27.701Z"
   },
   {
    "duration": 0,
    "start_time": "2023-10-20T20:04:27.805Z"
   },
   {
    "duration": 0,
    "start_time": "2023-10-20T20:04:27.809Z"
   },
   {
    "duration": 0,
    "start_time": "2023-10-20T20:04:27.813Z"
   },
   {
    "duration": 0,
    "start_time": "2023-10-20T20:04:27.816Z"
   },
   {
    "duration": 0,
    "start_time": "2023-10-20T20:04:27.818Z"
   },
   {
    "duration": 0,
    "start_time": "2023-10-20T20:04:27.819Z"
   },
   {
    "duration": 0,
    "start_time": "2023-10-20T20:04:27.820Z"
   },
   {
    "duration": 0,
    "start_time": "2023-10-20T20:04:27.821Z"
   },
   {
    "duration": 0,
    "start_time": "2023-10-20T20:04:27.823Z"
   },
   {
    "duration": 0,
    "start_time": "2023-10-20T20:04:27.824Z"
   },
   {
    "duration": 29,
    "start_time": "2023-10-20T20:04:46.899Z"
   },
   {
    "duration": 14,
    "start_time": "2023-10-20T20:04:46.967Z"
   },
   {
    "duration": 147,
    "start_time": "2023-10-20T20:04:46.983Z"
   },
   {
    "duration": 28,
    "start_time": "2023-10-20T20:04:47.132Z"
   },
   {
    "duration": 11804,
    "start_time": "2023-10-20T20:04:47.163Z"
   },
   {
    "duration": 657,
    "start_time": "2023-10-20T20:04:58.969Z"
   },
   {
    "duration": 69,
    "start_time": "2023-10-20T20:04:59.703Z"
   },
   {
    "duration": 33,
    "start_time": "2023-10-20T20:04:59.801Z"
   },
   {
    "duration": 125,
    "start_time": "2023-10-20T20:04:59.836Z"
   },
   {
    "duration": 0,
    "start_time": "2023-10-20T20:04:59.963Z"
   },
   {
    "duration": 0,
    "start_time": "2023-10-20T20:04:59.964Z"
   },
   {
    "duration": 1,
    "start_time": "2023-10-20T20:04:59.965Z"
   },
   {
    "duration": 0,
    "start_time": "2023-10-20T20:04:59.967Z"
   },
   {
    "duration": 0,
    "start_time": "2023-10-20T20:04:59.968Z"
   },
   {
    "duration": 0,
    "start_time": "2023-10-20T20:04:59.969Z"
   },
   {
    "duration": 0,
    "start_time": "2023-10-20T20:04:59.970Z"
   },
   {
    "duration": 0,
    "start_time": "2023-10-20T20:04:59.971Z"
   },
   {
    "duration": 0,
    "start_time": "2023-10-20T20:04:59.972Z"
   },
   {
    "duration": 0,
    "start_time": "2023-10-20T20:04:59.973Z"
   },
   {
    "duration": 25,
    "start_time": "2023-10-20T20:05:48.160Z"
   },
   {
    "duration": 23,
    "start_time": "2023-10-20T20:05:48.206Z"
   },
   {
    "duration": 124,
    "start_time": "2023-10-20T20:05:48.231Z"
   },
   {
    "duration": 50,
    "start_time": "2023-10-20T20:05:48.357Z"
   },
   {
    "duration": 10348,
    "start_time": "2023-10-20T20:05:48.413Z"
   },
   {
    "duration": 656,
    "start_time": "2023-10-20T20:05:58.763Z"
   },
   {
    "duration": 108,
    "start_time": "2023-10-20T20:05:59.422Z"
   },
   {
    "duration": 30,
    "start_time": "2023-10-20T20:05:59.532Z"
   },
   {
    "duration": 95,
    "start_time": "2023-10-20T20:05:59.564Z"
   },
   {
    "duration": 0,
    "start_time": "2023-10-20T20:05:59.662Z"
   },
   {
    "duration": 1,
    "start_time": "2023-10-20T20:05:59.662Z"
   },
   {
    "duration": 0,
    "start_time": "2023-10-20T20:05:59.664Z"
   },
   {
    "duration": 0,
    "start_time": "2023-10-20T20:05:59.665Z"
   },
   {
    "duration": 0,
    "start_time": "2023-10-20T20:05:59.666Z"
   },
   {
    "duration": 0,
    "start_time": "2023-10-20T20:05:59.667Z"
   },
   {
    "duration": 0,
    "start_time": "2023-10-20T20:05:59.669Z"
   },
   {
    "duration": 0,
    "start_time": "2023-10-20T20:05:59.670Z"
   },
   {
    "duration": 0,
    "start_time": "2023-10-20T20:05:59.671Z"
   },
   {
    "duration": 0,
    "start_time": "2023-10-20T20:05:59.672Z"
   },
   {
    "duration": 1482,
    "start_time": "2023-10-20T20:08:02.283Z"
   },
   {
    "duration": 367,
    "start_time": "2023-10-20T20:08:03.768Z"
   },
   {
    "duration": 232,
    "start_time": "2023-10-20T20:08:04.138Z"
   },
   {
    "duration": 47,
    "start_time": "2023-10-20T20:08:04.372Z"
   },
   {
    "duration": 10782,
    "start_time": "2023-10-20T20:08:04.422Z"
   },
   {
    "duration": 616,
    "start_time": "2023-10-20T20:08:15.207Z"
   },
   {
    "duration": 140,
    "start_time": "2023-10-20T20:08:15.825Z"
   },
   {
    "duration": 39,
    "start_time": "2023-10-20T20:08:15.967Z"
   },
   {
    "duration": 242,
    "start_time": "2023-10-20T20:08:16.008Z"
   },
   {
    "duration": 0,
    "start_time": "2023-10-20T20:08:16.252Z"
   },
   {
    "duration": 0,
    "start_time": "2023-10-20T20:08:16.253Z"
   },
   {
    "duration": 0,
    "start_time": "2023-10-20T20:08:16.255Z"
   },
   {
    "duration": 0,
    "start_time": "2023-10-20T20:08:16.256Z"
   },
   {
    "duration": 0,
    "start_time": "2023-10-20T20:08:16.257Z"
   },
   {
    "duration": 0,
    "start_time": "2023-10-20T20:08:16.258Z"
   },
   {
    "duration": 0,
    "start_time": "2023-10-20T20:08:16.259Z"
   },
   {
    "duration": 1,
    "start_time": "2023-10-20T20:08:16.260Z"
   },
   {
    "duration": 0,
    "start_time": "2023-10-20T20:08:16.262Z"
   },
   {
    "duration": 0,
    "start_time": "2023-10-20T20:08:16.263Z"
   },
   {
    "duration": 25,
    "start_time": "2023-10-20T20:09:39.145Z"
   },
   {
    "duration": 49,
    "start_time": "2023-10-20T20:09:39.172Z"
   },
   {
    "duration": 134,
    "start_time": "2023-10-20T20:09:39.222Z"
   },
   {
    "duration": 201,
    "start_time": "2023-10-20T20:09:39.358Z"
   },
   {
    "duration": 10209,
    "start_time": "2023-10-20T20:09:39.561Z"
   },
   {
    "duration": 751,
    "start_time": "2023-10-20T20:09:49.772Z"
   },
   {
    "duration": 94,
    "start_time": "2023-10-20T20:09:50.525Z"
   },
   {
    "duration": 217,
    "start_time": "2023-10-20T20:09:50.621Z"
   },
   {
    "duration": 103,
    "start_time": "2023-10-20T20:09:50.839Z"
   },
   {
    "duration": 0,
    "start_time": "2023-10-20T20:09:50.945Z"
   },
   {
    "duration": 0,
    "start_time": "2023-10-20T20:09:50.946Z"
   },
   {
    "duration": 0,
    "start_time": "2023-10-20T20:09:50.947Z"
   },
   {
    "duration": 0,
    "start_time": "2023-10-20T20:09:50.948Z"
   },
   {
    "duration": 0,
    "start_time": "2023-10-20T20:09:50.949Z"
   },
   {
    "duration": 0,
    "start_time": "2023-10-20T20:09:50.950Z"
   },
   {
    "duration": 0,
    "start_time": "2023-10-20T20:09:50.951Z"
   },
   {
    "duration": 0,
    "start_time": "2023-10-20T20:09:50.952Z"
   },
   {
    "duration": 0,
    "start_time": "2023-10-20T20:09:50.953Z"
   },
   {
    "duration": 0,
    "start_time": "2023-10-20T20:09:50.954Z"
   },
   {
    "duration": 1363,
    "start_time": "2023-10-20T20:10:35.614Z"
   },
   {
    "duration": 336,
    "start_time": "2023-10-20T20:10:36.978Z"
   },
   {
    "duration": 206,
    "start_time": "2023-10-20T20:10:37.317Z"
   },
   {
    "duration": 26,
    "start_time": "2023-10-20T20:10:37.525Z"
   },
   {
    "duration": 10061,
    "start_time": "2023-10-20T20:10:37.553Z"
   },
   {
    "duration": 906,
    "start_time": "2023-10-20T20:10:47.616Z"
   },
   {
    "duration": 129,
    "start_time": "2023-10-20T20:10:48.524Z"
   },
   {
    "duration": 30,
    "start_time": "2023-10-20T20:10:48.655Z"
   },
   {
    "duration": 44,
    "start_time": "2023-10-20T20:10:48.687Z"
   },
   {
    "duration": 19,
    "start_time": "2023-10-20T20:10:48.733Z"
   },
   {
    "duration": 234,
    "start_time": "2023-10-20T20:10:48.753Z"
   },
   {
    "duration": 325,
    "start_time": "2023-10-20T20:10:48.989Z"
   },
   {
    "duration": 20,
    "start_time": "2023-10-20T20:10:49.317Z"
   },
   {
    "duration": 94,
    "start_time": "2023-10-20T20:10:49.339Z"
   },
   {
    "duration": 275,
    "start_time": "2023-10-20T20:10:49.435Z"
   },
   {
    "duration": 240,
    "start_time": "2023-10-20T20:10:49.713Z"
   },
   {
    "duration": 364,
    "start_time": "2023-10-20T20:10:49.954Z"
   },
   {
    "duration": 5576,
    "start_time": "2023-10-20T20:10:50.320Z"
   },
   {
    "duration": 182,
    "start_time": "2023-10-20T20:10:55.903Z"
   },
   {
    "duration": 97,
    "start_time": "2023-10-20T20:19:59.536Z"
   },
   {
    "duration": 15,
    "start_time": "2023-10-20T20:21:48.302Z"
   },
   {
    "duration": 10,
    "start_time": "2023-10-20T20:22:36.439Z"
   },
   {
    "duration": 13,
    "start_time": "2023-10-20T20:24:55.826Z"
   },
   {
    "duration": 13,
    "start_time": "2023-10-20T20:25:11.041Z"
   },
   {
    "duration": 13,
    "start_time": "2023-10-20T20:25:33.332Z"
   },
   {
    "duration": 12,
    "start_time": "2023-10-20T20:26:14.860Z"
   },
   {
    "duration": 11,
    "start_time": "2023-10-20T20:26:39.227Z"
   },
   {
    "duration": 385,
    "start_time": "2023-10-20T20:30:46.702Z"
   },
   {
    "duration": 214,
    "start_time": "2023-10-20T20:30:55.991Z"
   },
   {
    "duration": 216,
    "start_time": "2023-10-20T20:31:35.415Z"
   },
   {
    "duration": 234,
    "start_time": "2023-10-20T20:31:44.442Z"
   },
   {
    "duration": 235,
    "start_time": "2023-10-20T20:31:54.763Z"
   },
   {
    "duration": 91,
    "start_time": "2023-10-21T08:35:49.963Z"
   },
   {
    "duration": 1127,
    "start_time": "2023-10-21T08:36:28.615Z"
   },
   {
    "duration": 965,
    "start_time": "2023-10-21T08:36:36.580Z"
   },
   {
    "duration": 150,
    "start_time": "2023-10-21T08:36:38.927Z"
   },
   {
    "duration": 39,
    "start_time": "2023-10-21T08:42:46.534Z"
   },
   {
    "duration": 100,
    "start_time": "2023-10-21T08:43:24.489Z"
   },
   {
    "duration": 13,
    "start_time": "2023-10-21T08:43:45.198Z"
   },
   {
    "duration": 17,
    "start_time": "2023-10-21T08:44:17.662Z"
   },
   {
    "duration": 16,
    "start_time": "2023-10-21T08:44:34.803Z"
   },
   {
    "duration": 255,
    "start_time": "2023-10-21T08:45:12.837Z"
   },
   {
    "duration": 270,
    "start_time": "2023-10-21T08:45:19.590Z"
   },
   {
    "duration": 15,
    "start_time": "2023-10-21T08:45:48.117Z"
   },
   {
    "duration": 23,
    "start_time": "2023-10-21T08:51:46.679Z"
   },
   {
    "duration": 22,
    "start_time": "2023-10-21T08:51:54.263Z"
   },
   {
    "duration": 24,
    "start_time": "2023-10-21T08:52:34.903Z"
   },
   {
    "duration": 18,
    "start_time": "2023-10-21T08:52:48.789Z"
   },
   {
    "duration": 133,
    "start_time": "2023-10-21T08:57:11.420Z"
   },
   {
    "duration": 88,
    "start_time": "2023-10-21T08:57:18.930Z"
   },
   {
    "duration": 144,
    "start_time": "2023-10-21T08:57:24.296Z"
   },
   {
    "duration": 247,
    "start_time": "2023-10-21T08:57:40.512Z"
   },
   {
    "duration": 390,
    "start_time": "2023-10-21T08:58:04.897Z"
   },
   {
    "duration": 211,
    "start_time": "2023-10-21T08:58:58.503Z"
   },
   {
    "duration": 409,
    "start_time": "2023-10-21T08:59:02.684Z"
   },
   {
    "duration": 225,
    "start_time": "2023-10-21T09:00:10.918Z"
   },
   {
    "duration": 240,
    "start_time": "2023-10-21T09:00:18.007Z"
   },
   {
    "duration": 25,
    "start_time": "2023-10-21T09:03:05.659Z"
   },
   {
    "duration": 982,
    "start_time": "2023-10-21T09:03:12.220Z"
   },
   {
    "duration": 935,
    "start_time": "2023-10-21T09:04:24.879Z"
   },
   {
    "duration": 1046,
    "start_time": "2023-10-21T09:09:45.965Z"
   },
   {
    "duration": 978,
    "start_time": "2023-10-21T09:09:58.597Z"
   },
   {
    "duration": 28,
    "start_time": "2023-10-21T09:22:08.796Z"
   },
   {
    "duration": 1359,
    "start_time": "2023-10-21T09:22:51.515Z"
   },
   {
    "duration": 132,
    "start_time": "2023-10-21T09:27:33.803Z"
   },
   {
    "duration": 7,
    "start_time": "2023-10-21T09:28:12.582Z"
   },
   {
    "duration": 8,
    "start_time": "2023-10-21T09:29:18.187Z"
   },
   {
    "duration": 5,
    "start_time": "2023-10-21T09:29:26.627Z"
   },
   {
    "duration": 708,
    "start_time": "2023-10-21T09:29:44.753Z"
   },
   {
    "duration": 767,
    "start_time": "2023-10-21T09:31:26.001Z"
   },
   {
    "duration": 683,
    "start_time": "2023-10-21T09:32:08.515Z"
   },
   {
    "duration": 7185,
    "start_time": "2023-10-21T09:32:19.938Z"
   },
   {
    "duration": 603,
    "start_time": "2023-10-21T09:34:04.125Z"
   },
   {
    "duration": 758,
    "start_time": "2023-10-21T09:34:56.412Z"
   },
   {
    "duration": 11,
    "start_time": "2023-10-21T09:35:36.962Z"
   },
   {
    "duration": 11,
    "start_time": "2023-10-21T09:35:40.486Z"
   },
   {
    "duration": 6,
    "start_time": "2023-10-21T09:35:53.900Z"
   },
   {
    "duration": 7,
    "start_time": "2023-10-21T09:36:03.227Z"
   },
   {
    "duration": 19,
    "start_time": "2023-10-21T09:37:23.809Z"
   },
   {
    "duration": 33,
    "start_time": "2023-10-21T09:37:30.681Z"
   },
   {
    "duration": 10,
    "start_time": "2023-10-21T09:37:49.537Z"
   },
   {
    "duration": 13,
    "start_time": "2023-10-21T09:37:58.283Z"
   },
   {
    "duration": 11,
    "start_time": "2023-10-21T09:38:03.981Z"
   },
   {
    "duration": 38,
    "start_time": "2023-10-21T09:38:07.000Z"
   },
   {
    "duration": 13,
    "start_time": "2023-10-21T09:38:36.747Z"
   },
   {
    "duration": 37,
    "start_time": "2023-10-21T09:38:50.512Z"
   },
   {
    "duration": 19,
    "start_time": "2023-10-21T09:39:06.346Z"
   },
   {
    "duration": 19,
    "start_time": "2023-10-21T09:39:15.976Z"
   },
   {
    "duration": 11,
    "start_time": "2023-10-21T09:40:29.183Z"
   },
   {
    "duration": 19,
    "start_time": "2023-10-21T09:40:36.841Z"
   },
   {
    "duration": 11,
    "start_time": "2023-10-21T09:40:45.684Z"
   },
   {
    "duration": 7,
    "start_time": "2023-10-21T09:41:01.924Z"
   },
   {
    "duration": 6,
    "start_time": "2023-10-21T09:41:09.605Z"
   },
   {
    "duration": 5,
    "start_time": "2023-10-21T09:41:17.359Z"
   },
   {
    "duration": 5,
    "start_time": "2023-10-21T09:42:16.059Z"
   },
   {
    "duration": 4,
    "start_time": "2023-10-21T09:43:09.810Z"
   },
   {
    "duration": 579,
    "start_time": "2023-10-21T09:43:45.579Z"
   },
   {
    "duration": 17,
    "start_time": "2023-10-21T09:44:00.804Z"
   },
   {
    "duration": 18,
    "start_time": "2023-10-21T09:44:07.619Z"
   },
   {
    "duration": 4,
    "start_time": "2023-10-21T09:44:19.045Z"
   },
   {
    "duration": 9,
    "start_time": "2023-10-21T09:46:58.159Z"
   },
   {
    "duration": 9,
    "start_time": "2023-10-21T09:47:26.566Z"
   },
   {
    "duration": 9,
    "start_time": "2023-10-21T09:48:03.177Z"
   },
   {
    "duration": 4,
    "start_time": "2023-10-21T09:48:54.998Z"
   },
   {
    "duration": 10,
    "start_time": "2023-10-21T09:49:14.180Z"
   },
   {
    "duration": 13,
    "start_time": "2023-10-21T09:49:26.773Z"
   },
   {
    "duration": 490,
    "start_time": "2023-10-21T09:49:52.193Z"
   },
   {
    "duration": 12,
    "start_time": "2023-10-21T09:49:59.599Z"
   },
   {
    "duration": 72,
    "start_time": "2023-10-21T09:50:56.999Z"
   },
   {
    "duration": 96,
    "start_time": "2023-10-21T09:51:00.278Z"
   },
   {
    "duration": 4,
    "start_time": "2023-10-21T09:51:04.490Z"
   },
   {
    "duration": 7,
    "start_time": "2023-10-21T09:51:08.893Z"
   },
   {
    "duration": 14,
    "start_time": "2023-10-21T09:51:20.142Z"
   },
   {
    "duration": 5,
    "start_time": "2023-10-21T09:51:25.571Z"
   },
   {
    "duration": 6,
    "start_time": "2023-10-21T09:52:22.362Z"
   },
   {
    "duration": 5,
    "start_time": "2023-10-21T09:53:09.456Z"
   },
   {
    "duration": 5,
    "start_time": "2023-10-21T09:53:25.737Z"
   },
   {
    "duration": 5,
    "start_time": "2023-10-21T09:53:39.358Z"
   },
   {
    "duration": 21,
    "start_time": "2023-10-21T09:54:05.817Z"
   },
   {
    "duration": 139,
    "start_time": "2023-10-21T09:54:14.388Z"
   },
   {
    "duration": 946,
    "start_time": "2023-10-21T09:54:37.823Z"
   },
   {
    "duration": 828,
    "start_time": "2023-10-21T09:56:08.843Z"
   },
   {
    "duration": 865,
    "start_time": "2023-10-21T09:56:48.610Z"
   },
   {
    "duration": 21,
    "start_time": "2023-10-21T09:58:19.883Z"
   },
   {
    "duration": 14,
    "start_time": "2023-10-21T09:58:30.442Z"
   },
   {
    "duration": 105,
    "start_time": "2023-10-21T09:58:54.410Z"
   },
   {
    "duration": 806,
    "start_time": "2023-10-21T09:59:28.709Z"
   },
   {
    "duration": 711,
    "start_time": "2023-10-21T10:00:16.860Z"
   },
   {
    "duration": 9421,
    "start_time": "2023-10-21T10:02:36.695Z"
   },
   {
    "duration": 10097,
    "start_time": "2023-10-21T10:04:07.112Z"
   },
   {
    "duration": 21,
    "start_time": "2023-10-21T10:04:26.292Z"
   },
   {
    "duration": 73,
    "start_time": "2023-10-21T10:10:22.706Z"
   },
   {
    "duration": 8072,
    "start_time": "2023-10-21T10:10:27.358Z"
   },
   {
    "duration": 7998,
    "start_time": "2023-10-21T10:13:45.521Z"
   },
   {
    "duration": 43,
    "start_time": "2023-10-21T10:14:30.800Z"
   },
   {
    "duration": 60,
    "start_time": "2023-10-21T10:14:40.874Z"
   },
   {
    "duration": 5,
    "start_time": "2023-10-21T10:14:45.479Z"
   },
   {
    "duration": 20,
    "start_time": "2023-10-21T10:15:49.526Z"
   },
   {
    "duration": 20,
    "start_time": "2023-10-21T10:16:39.421Z"
   },
   {
    "duration": 6,
    "start_time": "2023-10-21T10:17:46.669Z"
   },
   {
    "duration": 177,
    "start_time": "2023-10-21T10:18:17.034Z"
   },
   {
    "duration": 3,
    "start_time": "2023-10-21T10:18:56.218Z"
   },
   {
    "duration": 18,
    "start_time": "2023-10-21T10:19:12.766Z"
   },
   {
    "duration": 141,
    "start_time": "2023-10-21T10:19:41.868Z"
   },
   {
    "duration": 4,
    "start_time": "2023-10-21T10:19:52.729Z"
   },
   {
    "duration": 3,
    "start_time": "2023-10-21T10:19:55.648Z"
   },
   {
    "duration": 4,
    "start_time": "2023-10-21T10:20:07.393Z"
   },
   {
    "duration": 3,
    "start_time": "2023-10-21T10:20:13.825Z"
   },
   {
    "duration": 18,
    "start_time": "2023-10-21T10:20:49.249Z"
   },
   {
    "duration": 4,
    "start_time": "2023-10-21T10:20:59.641Z"
   },
   {
    "duration": 8349,
    "start_time": "2023-10-21T10:21:27.567Z"
   },
   {
    "duration": 8950,
    "start_time": "2023-10-21T10:21:59.566Z"
   },
   {
    "duration": 682,
    "start_time": "2023-10-21T10:22:15.175Z"
   },
   {
    "duration": 8682,
    "start_time": "2023-10-21T10:22:17.726Z"
   },
   {
    "duration": 23,
    "start_time": "2023-10-21T10:23:30.681Z"
   },
   {
    "duration": 168,
    "start_time": "2023-10-21T10:23:30.706Z"
   },
   {
    "duration": 35,
    "start_time": "2023-10-21T10:23:30.876Z"
   },
   {
    "duration": 961,
    "start_time": "2023-10-21T10:23:30.913Z"
   },
   {
    "duration": 758,
    "start_time": "2023-10-21T10:23:31.876Z"
   },
   {
    "duration": 8976,
    "start_time": "2023-10-21T10:23:32.636Z"
   },
   {
    "duration": 49,
    "start_time": "2023-10-21T10:25:14.997Z"
   },
   {
    "duration": 824,
    "start_time": "2023-10-21T10:25:32.841Z"
   },
   {
    "duration": 1005,
    "start_time": "2023-10-21T10:29:15.733Z"
   },
   {
    "duration": 1387,
    "start_time": "2023-10-21T10:29:47.942Z"
   },
   {
    "duration": 114,
    "start_time": "2023-10-21T10:29:49.331Z"
   },
   {
    "duration": 19,
    "start_time": "2023-10-21T10:29:49.447Z"
   },
   {
    "duration": 975,
    "start_time": "2023-10-21T10:29:49.468Z"
   },
   {
    "duration": 704,
    "start_time": "2023-10-21T10:29:50.446Z"
   },
   {
    "duration": 787,
    "start_time": "2023-10-21T10:29:51.152Z"
   },
   {
    "duration": 874,
    "start_time": "2023-10-21T10:30:56.099Z"
   },
   {
    "duration": 1516,
    "start_time": "2023-10-21T10:31:08.174Z"
   },
   {
    "duration": 110,
    "start_time": "2023-10-21T10:31:09.692Z"
   },
   {
    "duration": 18,
    "start_time": "2023-10-21T10:31:09.804Z"
   },
   {
    "duration": 957,
    "start_time": "2023-10-21T10:31:09.823Z"
   },
   {
    "duration": 725,
    "start_time": "2023-10-21T10:31:10.782Z"
   },
   {
    "duration": 798,
    "start_time": "2023-10-21T10:31:11.509Z"
   },
   {
    "duration": 988,
    "start_time": "2023-10-21T10:32:49.301Z"
   },
   {
    "duration": 1439,
    "start_time": "2023-10-21T10:33:18.954Z"
   },
   {
    "duration": 113,
    "start_time": "2023-10-21T10:33:20.395Z"
   },
   {
    "duration": 23,
    "start_time": "2023-10-21T10:33:20.510Z"
   },
   {
    "duration": 1031,
    "start_time": "2023-10-21T10:33:20.539Z"
   },
   {
    "duration": 731,
    "start_time": "2023-10-21T10:33:21.573Z"
   },
   {
    "duration": 887,
    "start_time": "2023-10-21T10:33:22.307Z"
   },
   {
    "duration": 1551,
    "start_time": "2023-10-21T10:35:30.751Z"
   },
   {
    "duration": 111,
    "start_time": "2023-10-21T10:35:32.304Z"
   },
   {
    "duration": 18,
    "start_time": "2023-10-21T10:35:32.416Z"
   },
   {
    "duration": 935,
    "start_time": "2023-10-21T10:35:32.436Z"
   },
   {
    "duration": 752,
    "start_time": "2023-10-21T10:35:33.374Z"
   },
   {
    "duration": 894,
    "start_time": "2023-10-21T10:35:34.127Z"
   },
   {
    "duration": 128,
    "start_time": "2023-10-21T10:35:35.023Z"
   },
   {
    "duration": 127,
    "start_time": "2023-10-21T10:35:35.152Z"
   },
   {
    "duration": 933,
    "start_time": "2023-10-21T10:36:57.093Z"
   },
   {
    "duration": 803,
    "start_time": "2023-10-21T10:37:16.380Z"
   },
   {
    "duration": 135,
    "start_time": "2023-10-21T10:37:34.883Z"
   },
   {
    "duration": 126,
    "start_time": "2023-10-21T10:37:51.387Z"
   },
   {
    "duration": 27,
    "start_time": "2023-10-21T10:40:18.919Z"
   },
   {
    "duration": 959,
    "start_time": "2023-10-21T10:40:55.966Z"
   },
   {
    "duration": 1582,
    "start_time": "2023-10-21T10:41:05.048Z"
   },
   {
    "duration": 117,
    "start_time": "2023-10-21T10:41:06.632Z"
   },
   {
    "duration": 20,
    "start_time": "2023-10-21T10:41:06.751Z"
   },
   {
    "duration": 1027,
    "start_time": "2023-10-21T10:41:06.773Z"
   },
   {
    "duration": 723,
    "start_time": "2023-10-21T10:41:07.803Z"
   },
   {
    "duration": 800,
    "start_time": "2023-10-21T10:41:08.528Z"
   },
   {
    "duration": 152,
    "start_time": "2023-10-21T10:41:09.330Z"
   },
   {
    "duration": 111,
    "start_time": "2023-10-21T10:41:09.484Z"
   },
   {
    "duration": 108,
    "start_time": "2023-10-21T10:41:09.607Z"
   },
   {
    "duration": 12,
    "start_time": "2023-10-21T10:45:14.953Z"
   },
   {
    "duration": 14,
    "start_time": "2023-10-21T10:45:43.230Z"
   },
   {
    "duration": 1657,
    "start_time": "2023-10-21T10:46:10.544Z"
   },
   {
    "duration": 125,
    "start_time": "2023-10-21T10:46:12.206Z"
   },
   {
    "duration": 27,
    "start_time": "2023-10-21T10:46:12.333Z"
   },
   {
    "duration": 1044,
    "start_time": "2023-10-21T10:46:12.363Z"
   },
   {
    "duration": 771,
    "start_time": "2023-10-21T10:46:13.409Z"
   },
   {
    "duration": 873,
    "start_time": "2023-10-21T10:46:14.182Z"
   },
   {
    "duration": 144,
    "start_time": "2023-10-21T10:46:15.056Z"
   },
   {
    "duration": 149,
    "start_time": "2023-10-21T10:46:15.209Z"
   },
   {
    "duration": 127,
    "start_time": "2023-10-21T10:46:15.360Z"
   },
   {
    "duration": 5,
    "start_time": "2023-10-21T10:46:46.852Z"
   },
   {
    "duration": 12,
    "start_time": "2023-10-21T10:46:54.764Z"
   },
   {
    "duration": 1748,
    "start_time": "2023-10-21T10:47:13.807Z"
   },
   {
    "duration": 129,
    "start_time": "2023-10-21T10:47:15.557Z"
   },
   {
    "duration": 41,
    "start_time": "2023-10-21T10:47:15.688Z"
   },
   {
    "duration": 1318,
    "start_time": "2023-10-21T10:47:15.732Z"
   },
   {
    "duration": 795,
    "start_time": "2023-10-21T10:47:17.052Z"
   },
   {
    "duration": 1043,
    "start_time": "2023-10-21T10:47:17.849Z"
   },
   {
    "duration": 167,
    "start_time": "2023-10-21T10:47:18.894Z"
   },
   {
    "duration": 151,
    "start_time": "2023-10-21T10:47:19.063Z"
   },
   {
    "duration": 127,
    "start_time": "2023-10-21T10:47:19.218Z"
   },
   {
    "duration": 0,
    "start_time": "2023-10-21T10:47:19.348Z"
   },
   {
    "duration": 24,
    "start_time": "2023-10-21T10:48:22.471Z"
   },
   {
    "duration": 10,
    "start_time": "2023-10-21T10:48:26.500Z"
   },
   {
    "duration": 21,
    "start_time": "2023-10-21T10:48:44.108Z"
   },
   {
    "duration": 20,
    "start_time": "2023-10-21T10:48:48.260Z"
   },
   {
    "duration": 7,
    "start_time": "2023-10-21T10:48:51.303Z"
   },
   {
    "duration": 35,
    "start_time": "2023-10-21T12:41:26.214Z"
   },
   {
    "duration": 10,
    "start_time": "2023-10-21T12:43:24.977Z"
   },
   {
    "duration": 7,
    "start_time": "2023-10-21T12:45:02.568Z"
   },
   {
    "duration": 99,
    "start_time": "2023-10-21T12:45:46.815Z"
   },
   {
    "duration": 6,
    "start_time": "2023-10-21T12:46:03.545Z"
   },
   {
    "duration": 7,
    "start_time": "2023-10-21T12:46:24.623Z"
   },
   {
    "duration": 7,
    "start_time": "2023-10-21T12:46:39.595Z"
   },
   {
    "duration": 7,
    "start_time": "2023-10-21T12:46:48.634Z"
   },
   {
    "duration": 7,
    "start_time": "2023-10-21T12:47:07.262Z"
   },
   {
    "duration": 9,
    "start_time": "2023-10-21T12:47:10.902Z"
   },
   {
    "duration": 12,
    "start_time": "2023-10-21T12:47:14.520Z"
   },
   {
    "duration": 7,
    "start_time": "2023-10-21T12:47:21.868Z"
   },
   {
    "duration": 84,
    "start_time": "2023-10-21T12:54:18.971Z"
   },
   {
    "duration": 12670,
    "start_time": "2023-10-21T12:55:07.643Z"
   },
   {
    "duration": 44,
    "start_time": "2023-10-21T12:55:35.943Z"
   },
   {
    "duration": 12469,
    "start_time": "2023-10-21T12:55:39.644Z"
   },
   {
    "duration": 6246,
    "start_time": "2023-10-21T12:57:30.174Z"
   },
   {
    "duration": 6342,
    "start_time": "2023-10-21T12:59:18.671Z"
   },
   {
    "duration": 1788,
    "start_time": "2023-10-21T12:59:43.304Z"
   },
   {
    "duration": 163,
    "start_time": "2023-10-21T12:59:45.094Z"
   },
   {
    "duration": 20,
    "start_time": "2023-10-21T12:59:45.259Z"
   },
   {
    "duration": 1357,
    "start_time": "2023-10-21T12:59:45.282Z"
   },
   {
    "duration": 825,
    "start_time": "2023-10-21T12:59:46.644Z"
   },
   {
    "duration": 965,
    "start_time": "2023-10-21T12:59:47.471Z"
   },
   {
    "duration": 177,
    "start_time": "2023-10-21T12:59:48.439Z"
   },
   {
    "duration": 137,
    "start_time": "2023-10-21T12:59:48.629Z"
   },
   {
    "duration": 176,
    "start_time": "2023-10-21T12:59:48.767Z"
   },
   {
    "duration": 0,
    "start_time": "2023-10-21T12:59:48.946Z"
   },
   {
    "duration": 22,
    "start_time": "2023-10-21T13:00:16.233Z"
   },
   {
    "duration": 17,
    "start_time": "2023-10-21T13:00:18.578Z"
   },
   {
    "duration": 16,
    "start_time": "2023-10-21T13:00:19.733Z"
   },
   {
    "duration": 19,
    "start_time": "2023-10-21T13:00:40.425Z"
   },
   {
    "duration": 1697,
    "start_time": "2023-10-21T13:01:07.728Z"
   },
   {
    "duration": 145,
    "start_time": "2023-10-21T13:01:09.427Z"
   },
   {
    "duration": 54,
    "start_time": "2023-10-21T13:01:09.574Z"
   },
   {
    "duration": 1325,
    "start_time": "2023-10-21T13:01:09.637Z"
   },
   {
    "duration": 857,
    "start_time": "2023-10-21T13:01:10.965Z"
   },
   {
    "duration": 958,
    "start_time": "2023-10-21T13:01:11.831Z"
   },
   {
    "duration": 170,
    "start_time": "2023-10-21T13:01:12.791Z"
   },
   {
    "duration": 138,
    "start_time": "2023-10-21T13:01:12.963Z"
   },
   {
    "duration": 173,
    "start_time": "2023-10-21T13:01:13.103Z"
   },
   {
    "duration": 0,
    "start_time": "2023-10-21T13:01:13.279Z"
   },
   {
    "duration": 21,
    "start_time": "2023-10-21T13:01:32.715Z"
   },
   {
    "duration": 16,
    "start_time": "2023-10-21T13:01:34.135Z"
   },
   {
    "duration": 7,
    "start_time": "2023-10-21T13:01:43.196Z"
   },
   {
    "duration": 7,
    "start_time": "2023-10-21T13:01:49.102Z"
   },
   {
    "duration": 18,
    "start_time": "2023-10-21T13:02:35.379Z"
   },
   {
    "duration": 17,
    "start_time": "2023-10-21T13:02:37.077Z"
   },
   {
    "duration": 16,
    "start_time": "2023-10-21T13:02:38.383Z"
   },
   {
    "duration": 16,
    "start_time": "2023-10-21T13:02:39.435Z"
   },
   {
    "duration": 18,
    "start_time": "2023-10-21T13:02:40.898Z"
   },
   {
    "duration": 1792,
    "start_time": "2023-10-21T13:02:52.025Z"
   },
   {
    "duration": 176,
    "start_time": "2023-10-21T13:02:53.827Z"
   },
   {
    "duration": 47,
    "start_time": "2023-10-21T13:02:54.005Z"
   },
   {
    "duration": 1405,
    "start_time": "2023-10-21T13:02:54.055Z"
   },
   {
    "duration": 960,
    "start_time": "2023-10-21T13:02:55.463Z"
   },
   {
    "duration": 1291,
    "start_time": "2023-10-21T13:02:56.430Z"
   },
   {
    "duration": 219,
    "start_time": "2023-10-21T13:02:57.727Z"
   },
   {
    "duration": 174,
    "start_time": "2023-10-21T13:02:57.954Z"
   },
   {
    "duration": 164,
    "start_time": "2023-10-21T13:02:58.134Z"
   },
   {
    "duration": 0,
    "start_time": "2023-10-21T13:02:58.300Z"
   },
   {
    "duration": 5554,
    "start_time": "2023-10-21T13:03:03.289Z"
   },
   {
    "duration": 13090,
    "start_time": "2023-10-21T13:03:26.027Z"
   },
   {
    "duration": 12409,
    "start_time": "2023-10-21T13:03:47.011Z"
   },
   {
    "duration": 12833,
    "start_time": "2023-10-21T13:04:14.782Z"
   },
   {
    "duration": 13,
    "start_time": "2023-10-21T13:05:23.346Z"
   },
   {
    "duration": 23,
    "start_time": "2023-10-21T13:08:13.729Z"
   },
   {
    "duration": 79,
    "start_time": "2023-10-21T13:08:58.335Z"
   },
   {
    "duration": 11,
    "start_time": "2023-10-21T13:09:02.887Z"
   },
   {
    "duration": 15,
    "start_time": "2023-10-21T13:10:14.230Z"
   },
   {
    "duration": 24,
    "start_time": "2023-10-21T13:14:57.808Z"
   },
   {
    "duration": 91,
    "start_time": "2023-10-21T13:19:46.810Z"
   },
   {
    "duration": 1182,
    "start_time": "2023-10-21T13:21:52.591Z"
   },
   {
    "duration": 1197,
    "start_time": "2023-10-21T13:24:06.931Z"
   },
   {
    "duration": 92,
    "start_time": "2023-10-21T13:24:24.439Z"
   },
   {
    "duration": 194,
    "start_time": "2023-10-21T13:24:27.784Z"
   },
   {
    "duration": 801,
    "start_time": "2023-10-21T13:24:33.395Z"
   },
   {
    "duration": 1655,
    "start_time": "2023-10-21T13:24:39.822Z"
   },
   {
    "duration": 860,
    "start_time": "2023-10-21T13:25:04.182Z"
   },
   {
    "duration": 132,
    "start_time": "2023-10-21T13:25:08.549Z"
   },
   {
    "duration": 171,
    "start_time": "2023-10-21T13:25:11.394Z"
   },
   {
    "duration": 18,
    "start_time": "2023-10-21T13:25:14.622Z"
   },
   {
    "duration": 13,
    "start_time": "2023-10-21T13:25:35.787Z"
   },
   {
    "duration": 10,
    "start_time": "2023-10-21T13:25:44.395Z"
   },
   {
    "duration": 7,
    "start_time": "2023-10-21T13:25:48.527Z"
   },
   {
    "duration": 6,
    "start_time": "2023-10-21T13:25:53.274Z"
   },
   {
    "duration": 10,
    "start_time": "2023-10-21T13:26:08.031Z"
   },
   {
    "duration": 4,
    "start_time": "2023-10-21T13:26:24.090Z"
   },
   {
    "duration": 4,
    "start_time": "2023-10-21T13:26:37.646Z"
   },
   {
    "duration": 18,
    "start_time": "2023-10-21T13:26:56.244Z"
   },
   {
    "duration": 12,
    "start_time": "2023-10-21T13:27:09.375Z"
   },
   {
    "duration": 1707,
    "start_time": "2023-10-21T13:27:54.731Z"
   },
   {
    "duration": 121,
    "start_time": "2023-10-21T13:27:56.441Z"
   },
   {
    "duration": 18,
    "start_time": "2023-10-21T13:27:56.564Z"
   },
   {
    "duration": 1130,
    "start_time": "2023-10-21T13:27:56.583Z"
   },
   {
    "duration": 1761,
    "start_time": "2023-10-21T13:27:57.715Z"
   },
   {
    "duration": 943,
    "start_time": "2023-10-21T13:27:59.478Z"
   },
   {
    "duration": 185,
    "start_time": "2023-10-21T13:28:00.424Z"
   },
   {
    "duration": 157,
    "start_time": "2023-10-21T13:28:00.611Z"
   },
   {
    "duration": 129,
    "start_time": "2023-10-21T13:28:00.769Z"
   },
   {
    "duration": 0,
    "start_time": "2023-10-21T13:28:00.899Z"
   },
   {
    "duration": 0,
    "start_time": "2023-10-21T13:28:00.901Z"
   },
   {
    "duration": 21,
    "start_time": "2023-10-21T13:28:18.613Z"
   },
   {
    "duration": 4,
    "start_time": "2023-10-21T13:28:28.498Z"
   },
   {
    "duration": 11,
    "start_time": "2023-10-21T13:29:13.694Z"
   },
   {
    "duration": 1581,
    "start_time": "2023-10-21T13:29:26.418Z"
   },
   {
    "duration": 127,
    "start_time": "2023-10-21T13:29:28.008Z"
   },
   {
    "duration": 23,
    "start_time": "2023-10-21T13:29:28.137Z"
   },
   {
    "duration": 1126,
    "start_time": "2023-10-21T13:29:28.161Z"
   },
   {
    "duration": 1714,
    "start_time": "2023-10-21T13:29:29.290Z"
   },
   {
    "duration": 1000,
    "start_time": "2023-10-21T13:29:31.008Z"
   },
   {
    "duration": 149,
    "start_time": "2023-10-21T13:29:32.024Z"
   },
   {
    "duration": 164,
    "start_time": "2023-10-21T13:29:32.175Z"
   },
   {
    "duration": 115,
    "start_time": "2023-10-21T13:29:32.341Z"
   },
   {
    "duration": 0,
    "start_time": "2023-10-21T13:29:32.457Z"
   },
   {
    "duration": 0,
    "start_time": "2023-10-21T13:29:32.459Z"
   },
   {
    "duration": 12222,
    "start_time": "2023-10-21T13:29:38.405Z"
   },
   {
    "duration": 197,
    "start_time": "2023-10-21T13:29:50.631Z"
   },
   {
    "duration": 984,
    "start_time": "2023-10-21T13:30:47.295Z"
   },
   {
    "duration": 122,
    "start_time": "2023-10-21T13:32:27.328Z"
   },
   {
    "duration": 7,
    "start_time": "2023-10-21T13:33:06.286Z"
   },
   {
    "duration": 7,
    "start_time": "2023-10-21T13:33:16.327Z"
   },
   {
    "duration": 9,
    "start_time": "2023-10-21T13:34:31.810Z"
   },
   {
    "duration": 17,
    "start_time": "2023-10-21T13:34:35.034Z"
   },
   {
    "duration": 86,
    "start_time": "2023-10-21T13:43:12.582Z"
   },
   {
    "duration": 184,
    "start_time": "2023-10-21T13:43:18.380Z"
   },
   {
    "duration": 86,
    "start_time": "2023-10-21T13:44:36.836Z"
   },
   {
    "duration": 5,
    "start_time": "2023-10-21T13:44:48.495Z"
   },
   {
    "duration": 137,
    "start_time": "2023-10-21T13:46:55.543Z"
   },
   {
    "duration": 12,
    "start_time": "2023-10-21T13:53:07.356Z"
   },
   {
    "duration": 58,
    "start_time": "2023-10-21T13:57:23.591Z"
   },
   {
    "duration": 2550,
    "start_time": "2023-10-21T13:57:38.298Z"
   },
   {
    "duration": 4,
    "start_time": "2023-10-21T13:58:50.765Z"
   },
   {
    "duration": 38,
    "start_time": "2023-10-21T14:02:39.498Z"
   },
   {
    "duration": 147,
    "start_time": "2023-10-21T14:02:39.538Z"
   },
   {
    "duration": 38,
    "start_time": "2023-10-21T14:02:39.687Z"
   },
   {
    "duration": 1046,
    "start_time": "2023-10-21T14:02:39.727Z"
   },
   {
    "duration": 1531,
    "start_time": "2023-10-21T14:02:40.777Z"
   },
   {
    "duration": 875,
    "start_time": "2023-10-21T14:02:42.310Z"
   },
   {
    "duration": 135,
    "start_time": "2023-10-21T14:02:43.187Z"
   },
   {
    "duration": 238,
    "start_time": "2023-10-21T14:02:43.324Z"
   },
   {
    "duration": 2,
    "start_time": "2023-10-21T14:02:43.564Z"
   },
   {
    "duration": 12439,
    "start_time": "2023-10-21T14:02:43.568Z"
   },
   {
    "duration": 218,
    "start_time": "2023-10-21T14:02:56.010Z"
   },
   {
    "duration": 6,
    "start_time": "2023-10-21T14:02:56.231Z"
   },
   {
    "duration": 2214,
    "start_time": "2023-10-21T14:02:56.240Z"
   },
   {
    "duration": 34,
    "start_time": "2023-10-21T14:03:33.127Z"
   },
   {
    "duration": 6,
    "start_time": "2023-10-21T14:03:38.598Z"
   },
   {
    "duration": 109,
    "start_time": "2023-10-21T14:03:49.192Z"
   },
   {
    "duration": 5,
    "start_time": "2023-10-21T14:04:14.452Z"
   },
   {
    "duration": 25,
    "start_time": "2023-10-21T14:04:45.911Z"
   },
   {
    "duration": 32,
    "start_time": "2023-10-21T14:04:48.889Z"
   },
   {
    "duration": 7,
    "start_time": "2023-10-21T14:04:52.493Z"
   },
   {
    "duration": 111,
    "start_time": "2023-10-21T14:04:54.301Z"
   },
   {
    "duration": 79,
    "start_time": "2023-10-21T14:05:35.354Z"
   },
   {
    "duration": 24,
    "start_time": "2023-10-21T14:05:41.386Z"
   },
   {
    "duration": 64,
    "start_time": "2023-10-21T14:06:04.480Z"
   },
   {
    "duration": 23,
    "start_time": "2023-10-21T14:06:15.644Z"
   },
   {
    "duration": 17,
    "start_time": "2023-10-21T14:06:28.670Z"
   },
   {
    "duration": 25,
    "start_time": "2023-10-21T14:07:30.673Z"
   },
   {
    "duration": 22,
    "start_time": "2023-10-21T14:07:41.754Z"
   },
   {
    "duration": 22,
    "start_time": "2023-10-21T14:07:53.707Z"
   },
   {
    "duration": 34,
    "start_time": "2023-10-21T14:08:37.641Z"
   },
   {
    "duration": 13,
    "start_time": "2023-10-21T14:08:42.376Z"
   },
   {
    "duration": 14,
    "start_time": "2023-10-21T14:08:48.959Z"
   },
   {
    "duration": 142,
    "start_time": "2023-10-21T14:09:21.050Z"
   },
   {
    "duration": 12,
    "start_time": "2023-10-21T14:09:24.926Z"
   },
   {
    "duration": 29,
    "start_time": "2023-10-21T14:09:36.773Z"
   },
   {
    "duration": 1907,
    "start_time": "2023-10-21T14:09:48.845Z"
   },
   {
    "duration": 7,
    "start_time": "2023-10-21T14:11:08.888Z"
   },
   {
    "duration": 2232,
    "start_time": "2023-10-21T14:11:11.131Z"
   },
   {
    "duration": 16,
    "start_time": "2023-10-21T14:11:30.508Z"
   },
   {
    "duration": 6,
    "start_time": "2023-10-21T14:12:28.116Z"
   },
   {
    "duration": 18,
    "start_time": "2023-10-21T14:12:33.907Z"
   },
   {
    "duration": 21,
    "start_time": "2023-10-21T14:12:35.975Z"
   },
   {
    "duration": 454,
    "start_time": "2023-10-21T14:13:01.244Z"
   },
   {
    "duration": 370,
    "start_time": "2023-10-21T14:13:32.932Z"
   },
   {
    "duration": 376,
    "start_time": "2023-10-21T14:13:50.491Z"
   },
   {
    "duration": 16,
    "start_time": "2023-10-21T14:14:09.789Z"
   },
   {
    "duration": 2,
    "start_time": "2023-10-21T14:14:26.338Z"
   },
   {
    "duration": 5,
    "start_time": "2023-10-21T14:14:32.737Z"
   },
   {
    "duration": 21,
    "start_time": "2023-10-21T14:14:38.801Z"
   },
   {
    "duration": 4,
    "start_time": "2023-10-21T14:14:41.092Z"
   },
   {
    "duration": 4,
    "start_time": "2023-10-21T14:14:50.513Z"
   },
   {
    "duration": 429,
    "start_time": "2023-10-21T14:15:17.111Z"
   },
   {
    "duration": 17,
    "start_time": "2023-10-21T14:15:45.114Z"
   },
   {
    "duration": 37,
    "start_time": "2023-10-21T14:16:43.897Z"
   },
   {
    "duration": 126,
    "start_time": "2023-10-21T14:16:43.936Z"
   },
   {
    "duration": 16,
    "start_time": "2023-10-21T14:16:44.064Z"
   },
   {
    "duration": 1035,
    "start_time": "2023-10-21T14:16:44.082Z"
   },
   {
    "duration": 1829,
    "start_time": "2023-10-21T14:16:45.120Z"
   },
   {
    "duration": 1706,
    "start_time": "2023-10-21T14:16:46.951Z"
   },
   {
    "duration": 121,
    "start_time": "2023-10-21T14:16:48.659Z"
   },
   {
    "duration": 125,
    "start_time": "2023-10-21T14:16:48.782Z"
   },
   {
    "duration": 3,
    "start_time": "2023-10-21T14:16:48.909Z"
   },
   {
    "duration": 11995,
    "start_time": "2023-10-21T14:16:48.914Z"
   },
   {
    "duration": 246,
    "start_time": "2023-10-21T14:17:00.912Z"
   },
   {
    "duration": 681,
    "start_time": "2023-10-21T14:17:01.160Z"
   },
   {
    "duration": 172,
    "start_time": "2023-10-21T14:17:01.843Z"
   },
   {
    "duration": 69,
    "start_time": "2023-10-21T14:17:02.018Z"
   },
   {
    "duration": 507,
    "start_time": "2023-10-21T14:17:02.089Z"
   },
   {
    "duration": 0,
    "start_time": "2023-10-21T14:17:02.598Z"
   },
   {
    "duration": 82,
    "start_time": "2023-10-21T14:17:32.969Z"
   },
   {
    "duration": 7,
    "start_time": "2023-10-21T14:17:37.328Z"
   },
   {
    "duration": 19,
    "start_time": "2023-10-21T14:17:43.499Z"
   },
   {
    "duration": 502,
    "start_time": "2023-10-21T14:17:47.551Z"
   },
   {
    "duration": 425,
    "start_time": "2023-10-21T14:18:01.323Z"
   },
   {
    "duration": 1567,
    "start_time": "2023-10-21T14:18:10.471Z"
   },
   {
    "duration": 123,
    "start_time": "2023-10-21T14:18:12.040Z"
   },
   {
    "duration": 25,
    "start_time": "2023-10-21T14:18:12.166Z"
   },
   {
    "duration": 961,
    "start_time": "2023-10-21T14:18:12.192Z"
   },
   {
    "duration": 1513,
    "start_time": "2023-10-21T14:18:13.156Z"
   },
   {
    "duration": 882,
    "start_time": "2023-10-21T14:18:14.671Z"
   },
   {
    "duration": 134,
    "start_time": "2023-10-21T14:18:15.555Z"
   },
   {
    "duration": 141,
    "start_time": "2023-10-21T14:18:15.690Z"
   },
   {
    "duration": 2,
    "start_time": "2023-10-21T14:18:15.833Z"
   },
   {
    "duration": 13186,
    "start_time": "2023-10-21T14:18:15.837Z"
   },
   {
    "duration": 238,
    "start_time": "2023-10-21T14:18:29.025Z"
   },
   {
    "duration": 688,
    "start_time": "2023-10-21T14:18:29.265Z"
   },
   {
    "duration": 121,
    "start_time": "2023-10-21T14:18:29.955Z"
   },
   {
    "duration": 0,
    "start_time": "2023-10-21T14:18:30.079Z"
   },
   {
    "duration": 0,
    "start_time": "2023-10-21T14:18:30.080Z"
   },
   {
    "duration": 2,
    "start_time": "2023-10-21T14:18:57.040Z"
   },
   {
    "duration": 19,
    "start_time": "2023-10-21T14:18:59.055Z"
   },
   {
    "duration": 17,
    "start_time": "2023-10-21T14:19:09.536Z"
   },
   {
    "duration": 630,
    "start_time": "2023-10-21T14:19:21.468Z"
   },
   {
    "duration": 4,
    "start_time": "2023-10-21T14:20:03.393Z"
   },
   {
    "duration": 18,
    "start_time": "2023-10-21T14:20:09.086Z"
   },
   {
    "duration": 593,
    "start_time": "2023-10-21T14:20:11.304Z"
   },
   {
    "duration": 497,
    "start_time": "2023-10-21T14:21:08.101Z"
   },
   {
    "duration": 1441,
    "start_time": "2023-10-21T14:21:23.147Z"
   },
   {
    "duration": 113,
    "start_time": "2023-10-21T14:21:24.590Z"
   },
   {
    "duration": 18,
    "start_time": "2023-10-21T14:21:24.705Z"
   },
   {
    "duration": 1054,
    "start_time": "2023-10-21T14:21:24.725Z"
   },
   {
    "duration": 1579,
    "start_time": "2023-10-21T14:21:25.782Z"
   },
   {
    "duration": 828,
    "start_time": "2023-10-21T14:21:27.363Z"
   },
   {
    "duration": 133,
    "start_time": "2023-10-21T14:21:28.193Z"
   },
   {
    "duration": 120,
    "start_time": "2023-10-21T14:21:28.328Z"
   },
   {
    "duration": 3,
    "start_time": "2023-10-21T14:21:28.450Z"
   },
   {
    "duration": 11971,
    "start_time": "2023-10-21T14:21:28.454Z"
   },
   {
    "duration": 283,
    "start_time": "2023-10-21T14:21:40.428Z"
   },
   {
    "duration": 5,
    "start_time": "2023-10-21T14:21:40.713Z"
   },
   {
    "duration": 37,
    "start_time": "2023-10-21T14:21:40.719Z"
   },
   {
    "duration": 34,
    "start_time": "2023-10-21T14:21:40.759Z"
   },
   {
    "duration": 105,
    "start_time": "2023-10-21T14:21:40.795Z"
   },
   {
    "duration": 0,
    "start_time": "2023-10-21T14:21:40.902Z"
   },
   {
    "duration": 0,
    "start_time": "2023-10-21T14:21:40.907Z"
   },
   {
    "duration": 619,
    "start_time": "2023-10-21T14:21:52.470Z"
   },
   {
    "duration": 103,
    "start_time": "2023-10-21T14:22:04.302Z"
   },
   {
    "duration": 519,
    "start_time": "2023-10-21T14:22:08.876Z"
   },
   {
    "duration": 6,
    "start_time": "2023-10-21T14:24:59.030Z"
   },
   {
    "duration": 627,
    "start_time": "2023-10-21T14:25:02.329Z"
   },
   {
    "duration": 3,
    "start_time": "2023-10-21T14:27:44.595Z"
   },
   {
    "duration": 5,
    "start_time": "2023-10-21T14:28:14.364Z"
   },
   {
    "duration": 19,
    "start_time": "2023-10-21T14:28:17.598Z"
   },
   {
    "duration": 825,
    "start_time": "2023-10-21T14:28:19.377Z"
   },
   {
    "duration": 3660,
    "start_time": "2023-10-21T14:29:34.566Z"
   },
   {
    "duration": 5347,
    "start_time": "2023-10-21T14:29:59.366Z"
   },
   {
    "duration": 17,
    "start_time": "2023-10-21T14:30:25.789Z"
   },
   {
    "duration": 16,
    "start_time": "2023-10-21T14:30:30.812Z"
   },
   {
    "duration": 919,
    "start_time": "2023-10-21T14:30:42.805Z"
   },
   {
    "duration": 1107,
    "start_time": "2023-10-21T14:30:49.182Z"
   },
   {
    "duration": 1865,
    "start_time": "2023-10-21T14:30:53.867Z"
   },
   {
    "duration": 3,
    "start_time": "2023-10-21T14:31:05.406Z"
   },
   {
    "duration": 172,
    "start_time": "2023-10-21T14:31:20.380Z"
   },
   {
    "duration": 5,
    "start_time": "2023-10-21T14:31:51.404Z"
   },
   {
    "duration": 6,
    "start_time": "2023-10-21T14:32:03.236Z"
   },
   {
    "duration": 4,
    "start_time": "2023-10-21T14:33:26.265Z"
   },
   {
    "duration": 5,
    "start_time": "2023-10-21T14:33:48.970Z"
   },
   {
    "duration": 5,
    "start_time": "2023-10-21T14:36:44.371Z"
   },
   {
    "duration": 1521,
    "start_time": "2023-10-21T14:36:56.803Z"
   },
   {
    "duration": 152,
    "start_time": "2023-10-21T14:36:58.327Z"
   },
   {
    "duration": 27,
    "start_time": "2023-10-21T14:36:58.481Z"
   },
   {
    "duration": 1051,
    "start_time": "2023-10-21T14:36:58.509Z"
   },
   {
    "duration": 1613,
    "start_time": "2023-10-21T14:36:59.563Z"
   },
   {
    "duration": 944,
    "start_time": "2023-10-21T14:37:01.178Z"
   },
   {
    "duration": 147,
    "start_time": "2023-10-21T14:37:02.124Z"
   },
   {
    "duration": 136,
    "start_time": "2023-10-21T14:37:02.273Z"
   },
   {
    "duration": 2,
    "start_time": "2023-10-21T14:37:02.411Z"
   },
   {
    "duration": 11908,
    "start_time": "2023-10-21T14:37:02.415Z"
   },
   {
    "duration": 87,
    "start_time": "2023-10-21T14:37:14.325Z"
   },
   {
    "duration": 224,
    "start_time": "2023-10-21T14:37:14.415Z"
   },
   {
    "duration": 7,
    "start_time": "2023-10-21T14:37:51.603Z"
   },
   {
    "duration": 26,
    "start_time": "2023-10-21T14:38:06.842Z"
   },
   {
    "duration": 191,
    "start_time": "2023-10-21T14:38:17.078Z"
   },
   {
    "duration": 1122,
    "start_time": "2023-10-21T14:39:59.349Z"
   },
   {
    "duration": 993,
    "start_time": "2023-10-21T14:40:30.877Z"
   },
   {
    "duration": 1061,
    "start_time": "2023-10-21T14:41:44.264Z"
   },
   {
    "duration": 166,
    "start_time": "2023-10-21T14:42:26.590Z"
   },
   {
    "duration": 547,
    "start_time": "2023-10-21T14:42:37.178Z"
   },
   {
    "duration": 832,
    "start_time": "2023-10-21T14:42:45.211Z"
   },
   {
    "duration": 576,
    "start_time": "2023-10-21T14:42:57.459Z"
   },
   {
    "duration": 436,
    "start_time": "2023-10-21T14:43:52.873Z"
   },
   {
    "duration": 1551,
    "start_time": "2023-10-21T14:43:54.871Z"
   },
   {
    "duration": 3487,
    "start_time": "2023-10-21T14:50:50.927Z"
   },
   {
    "duration": 195,
    "start_time": "2023-10-21T14:50:54.417Z"
   },
   {
    "duration": 19,
    "start_time": "2023-10-21T14:50:54.614Z"
   },
   {
    "duration": 999,
    "start_time": "2023-10-21T14:50:54.634Z"
   },
   {
    "duration": 2587,
    "start_time": "2023-10-21T14:50:55.635Z"
   },
   {
    "duration": 946,
    "start_time": "2023-10-21T14:50:58.224Z"
   },
   {
    "duration": 232,
    "start_time": "2023-10-21T14:50:59.172Z"
   },
   {
    "duration": 142,
    "start_time": "2023-10-21T14:50:59.407Z"
   },
   {
    "duration": 3,
    "start_time": "2023-10-21T14:50:59.552Z"
   },
   {
    "duration": 15370,
    "start_time": "2023-10-21T14:50:59.557Z"
   },
   {
    "duration": 87,
    "start_time": "2023-10-21T14:51:14.931Z"
   },
   {
    "duration": 279,
    "start_time": "2023-10-21T14:51:15.020Z"
   },
   {
    "duration": 8,
    "start_time": "2023-10-21T14:52:17.347Z"
   },
   {
    "duration": 35,
    "start_time": "2023-10-21T14:52:27.480Z"
   },
   {
    "duration": 1873,
    "start_time": "2023-10-21T14:53:38.012Z"
   },
   {
    "duration": 212,
    "start_time": "2023-10-21T14:53:39.888Z"
   },
   {
    "duration": 25,
    "start_time": "2023-10-21T14:53:40.103Z"
   },
   {
    "duration": 1386,
    "start_time": "2023-10-21T14:53:40.130Z"
   },
   {
    "duration": 1690,
    "start_time": "2023-10-21T14:53:41.519Z"
   },
   {
    "duration": 1046,
    "start_time": "2023-10-21T14:53:43.212Z"
   },
   {
    "duration": 167,
    "start_time": "2023-10-21T14:53:44.260Z"
   },
   {
    "duration": 136,
    "start_time": "2023-10-21T14:53:44.428Z"
   },
   {
    "duration": 3,
    "start_time": "2023-10-21T14:53:44.566Z"
   },
   {
    "duration": 11452,
    "start_time": "2023-10-21T14:53:44.571Z"
   },
   {
    "duration": 10,
    "start_time": "2023-10-21T14:53:56.027Z"
   },
   {
    "duration": 321,
    "start_time": "2023-10-21T14:53:56.041Z"
   },
   {
    "duration": 2439,
    "start_time": "2023-10-21T14:55:08.819Z"
   },
   {
    "duration": 348,
    "start_time": "2023-10-21T14:55:11.260Z"
   },
   {
    "duration": 25,
    "start_time": "2023-10-21T14:55:11.611Z"
   },
   {
    "duration": 1373,
    "start_time": "2023-10-21T14:55:11.638Z"
   },
   {
    "duration": 1645,
    "start_time": "2023-10-21T14:55:13.014Z"
   },
   {
    "duration": 912,
    "start_time": "2023-10-21T14:55:14.661Z"
   },
   {
    "duration": 195,
    "start_time": "2023-10-21T14:55:15.575Z"
   },
   {
    "duration": 140,
    "start_time": "2023-10-21T14:55:15.772Z"
   },
   {
    "duration": 7,
    "start_time": "2023-10-21T14:55:15.914Z"
   },
   {
    "duration": 12612,
    "start_time": "2023-10-21T14:55:15.923Z"
   },
   {
    "duration": 7,
    "start_time": "2023-10-21T14:55:28.607Z"
   },
   {
    "duration": 165,
    "start_time": "2023-10-21T14:55:28.615Z"
   },
   {
    "duration": 17647,
    "start_time": "2023-10-21T14:55:28.782Z"
   },
   {
    "duration": 18026,
    "start_time": "2023-10-21T14:56:37.868Z"
   },
   {
    "duration": 17646,
    "start_time": "2023-10-21T14:59:34.593Z"
   },
   {
    "duration": 141,
    "start_time": "2023-10-21T15:00:11.316Z"
   },
   {
    "duration": 1839,
    "start_time": "2023-10-21T15:00:25.676Z"
   },
   {
    "duration": 124,
    "start_time": "2023-10-21T15:00:27.518Z"
   },
   {
    "duration": 16,
    "start_time": "2023-10-21T15:00:27.644Z"
   },
   {
    "duration": 1198,
    "start_time": "2023-10-21T15:00:27.662Z"
   },
   {
    "duration": 1739,
    "start_time": "2023-10-21T15:00:28.863Z"
   },
   {
    "duration": 936,
    "start_time": "2023-10-21T15:00:30.604Z"
   },
   {
    "duration": 192,
    "start_time": "2023-10-21T15:00:31.547Z"
   },
   {
    "duration": 193,
    "start_time": "2023-10-21T15:00:31.741Z"
   },
   {
    "duration": 6,
    "start_time": "2023-10-21T15:00:31.936Z"
   },
   {
    "duration": 12998,
    "start_time": "2023-10-21T15:00:31.944Z"
   },
   {
    "duration": 9,
    "start_time": "2023-10-21T15:00:45.007Z"
   },
   {
    "duration": 173,
    "start_time": "2023-10-21T15:00:45.019Z"
   },
   {
    "duration": 3037,
    "start_time": "2023-10-21T15:01:54.388Z"
   },
   {
    "duration": 286,
    "start_time": "2023-10-21T15:01:57.430Z"
   },
   {
    "duration": 30,
    "start_time": "2023-10-21T15:01:57.719Z"
   },
   {
    "duration": 1181,
    "start_time": "2023-10-21T15:01:57.750Z"
   },
   {
    "duration": 1960,
    "start_time": "2023-10-21T15:01:58.936Z"
   },
   {
    "duration": 1090,
    "start_time": "2023-10-21T15:02:00.908Z"
   },
   {
    "duration": 206,
    "start_time": "2023-10-21T15:02:02.000Z"
   },
   {
    "duration": 173,
    "start_time": "2023-10-21T15:02:02.222Z"
   },
   {
    "duration": 3,
    "start_time": "2023-10-21T15:02:02.398Z"
   },
   {
    "duration": 13602,
    "start_time": "2023-10-21T15:02:02.407Z"
   },
   {
    "duration": 15,
    "start_time": "2023-10-21T15:02:16.020Z"
   },
   {
    "duration": 249,
    "start_time": "2023-10-21T15:02:16.046Z"
   },
   {
    "duration": 2025,
    "start_time": "2023-10-21T15:03:04.462Z"
   },
   {
    "duration": 181,
    "start_time": "2023-10-21T15:03:06.489Z"
   },
   {
    "duration": 40,
    "start_time": "2023-10-21T15:03:06.673Z"
   },
   {
    "duration": 1370,
    "start_time": "2023-10-21T15:03:06.715Z"
   },
   {
    "duration": 1772,
    "start_time": "2023-10-21T15:03:08.088Z"
   },
   {
    "duration": 857,
    "start_time": "2023-10-21T15:03:09.862Z"
   },
   {
    "duration": 153,
    "start_time": "2023-10-21T15:03:10.722Z"
   },
   {
    "duration": 186,
    "start_time": "2023-10-21T15:03:10.878Z"
   },
   {
    "duration": 3,
    "start_time": "2023-10-21T15:03:11.066Z"
   },
   {
    "duration": 12357,
    "start_time": "2023-10-21T15:03:11.071Z"
   },
   {
    "duration": 83,
    "start_time": "2023-10-21T15:03:23.430Z"
   },
   {
    "duration": 211,
    "start_time": "2023-10-21T15:03:23.517Z"
   },
   {
    "duration": 2052,
    "start_time": "2023-10-21T15:04:12.922Z"
   },
   {
    "duration": 194,
    "start_time": "2023-10-21T15:04:14.977Z"
   },
   {
    "duration": 18,
    "start_time": "2023-10-21T15:04:15.173Z"
   },
   {
    "duration": 1433,
    "start_time": "2023-10-21T15:04:15.209Z"
   },
   {
    "duration": 1797,
    "start_time": "2023-10-21T15:04:16.645Z"
   },
   {
    "duration": 939,
    "start_time": "2023-10-21T15:04:18.444Z"
   },
   {
    "duration": 188,
    "start_time": "2023-10-21T15:04:19.385Z"
   },
   {
    "duration": 140,
    "start_time": "2023-10-21T15:04:19.575Z"
   },
   {
    "duration": 3,
    "start_time": "2023-10-21T15:04:19.717Z"
   },
   {
    "duration": 12899,
    "start_time": "2023-10-21T15:04:19.722Z"
   },
   {
    "duration": 12,
    "start_time": "2023-10-21T15:04:32.628Z"
   },
   {
    "duration": 215,
    "start_time": "2023-10-21T15:04:32.709Z"
   },
   {
    "duration": 29896,
    "start_time": "2023-10-21T15:04:32.931Z"
   },
   {
    "duration": 4,
    "start_time": "2023-10-21T15:10:20.041Z"
   },
   {
    "duration": 166,
    "start_time": "2023-10-21T15:10:50.566Z"
   },
   {
    "duration": 134,
    "start_time": "2023-10-21T15:10:55.295Z"
   },
   {
    "duration": 6,
    "start_time": "2023-10-21T15:11:02.234Z"
   },
   {
    "duration": 5,
    "start_time": "2023-10-21T15:11:32.365Z"
   },
   {
    "duration": 9,
    "start_time": "2023-10-21T15:11:37.733Z"
   },
   {
    "duration": 14,
    "start_time": "2023-10-21T15:13:00.704Z"
   },
   {
    "duration": 601,
    "start_time": "2023-10-21T15:13:21.230Z"
   },
   {
    "duration": 8,
    "start_time": "2023-10-21T15:13:26.520Z"
   },
   {
    "duration": 443,
    "start_time": "2023-10-21T15:13:30.619Z"
   },
   {
    "duration": 2708,
    "start_time": "2023-10-21T15:14:07.863Z"
   },
   {
    "duration": 5262,
    "start_time": "2023-10-21T15:14:39.222Z"
   },
   {
    "duration": 1735,
    "start_time": "2023-10-21T15:15:17.000Z"
   },
   {
    "duration": 149,
    "start_time": "2023-10-21T15:15:18.738Z"
   },
   {
    "duration": 31,
    "start_time": "2023-10-21T15:15:18.889Z"
   },
   {
    "duration": 1283,
    "start_time": "2023-10-21T15:15:18.922Z"
   },
   {
    "duration": 1778,
    "start_time": "2023-10-21T15:15:20.210Z"
   },
   {
    "duration": 1127,
    "start_time": "2023-10-21T15:15:21.990Z"
   },
   {
    "duration": 205,
    "start_time": "2023-10-21T15:15:23.122Z"
   },
   {
    "duration": 191,
    "start_time": "2023-10-21T15:15:23.333Z"
   },
   {
    "duration": 3,
    "start_time": "2023-10-21T15:15:23.529Z"
   },
   {
    "duration": 14697,
    "start_time": "2023-10-21T15:15:23.534Z"
   },
   {
    "duration": 79,
    "start_time": "2023-10-21T15:15:38.233Z"
   },
   {
    "duration": 179,
    "start_time": "2023-10-21T15:15:38.315Z"
   },
   {
    "duration": 28547,
    "start_time": "2023-10-21T15:15:38.496Z"
   },
   {
    "duration": 4,
    "start_time": "2023-10-21T15:16:07.047Z"
   },
   {
    "duration": 2720,
    "start_time": "2023-10-21T15:16:07.053Z"
   },
   {
    "duration": 5692,
    "start_time": "2023-10-21T15:17:19.867Z"
   },
   {
    "duration": 1640,
    "start_time": "2023-10-21T15:17:37.473Z"
   },
   {
    "duration": 140,
    "start_time": "2023-10-21T15:17:39.121Z"
   },
   {
    "duration": 25,
    "start_time": "2023-10-21T15:17:39.263Z"
   },
   {
    "duration": 1137,
    "start_time": "2023-10-21T15:17:39.309Z"
   },
   {
    "duration": 1791,
    "start_time": "2023-10-21T15:17:40.448Z"
   },
   {
    "duration": 1016,
    "start_time": "2023-10-21T15:17:42.240Z"
   },
   {
    "duration": 201,
    "start_time": "2023-10-21T15:17:43.259Z"
   },
   {
    "duration": 190,
    "start_time": "2023-10-21T15:17:43.462Z"
   },
   {
    "duration": 5,
    "start_time": "2023-10-21T15:17:43.654Z"
   },
   {
    "duration": 14357,
    "start_time": "2023-10-21T15:17:43.662Z"
   },
   {
    "duration": 48,
    "start_time": "2023-10-21T15:17:58.022Z"
   },
   {
    "duration": 174,
    "start_time": "2023-10-21T15:17:58.076Z"
   },
   {
    "duration": 30682,
    "start_time": "2023-10-21T15:17:58.256Z"
   },
   {
    "duration": 8,
    "start_time": "2023-10-21T15:18:28.946Z"
   },
   {
    "duration": 5260,
    "start_time": "2023-10-21T15:18:28.961Z"
   },
   {
    "duration": 15264,
    "start_time": "2023-10-21T15:31:54.985Z"
   },
   {
    "duration": 1871,
    "start_time": "2023-10-21T15:34:36.565Z"
   },
   {
    "duration": 171,
    "start_time": "2023-10-21T15:34:38.439Z"
   },
   {
    "duration": 27,
    "start_time": "2023-10-21T15:34:38.613Z"
   },
   {
    "duration": 1554,
    "start_time": "2023-10-21T15:34:38.642Z"
   },
   {
    "duration": 1846,
    "start_time": "2023-10-21T15:34:40.199Z"
   },
   {
    "duration": 1034,
    "start_time": "2023-10-21T15:34:42.047Z"
   },
   {
    "duration": 196,
    "start_time": "2023-10-21T15:34:43.083Z"
   },
   {
    "duration": 195,
    "start_time": "2023-10-21T15:34:43.282Z"
   },
   {
    "duration": 3,
    "start_time": "2023-10-21T15:34:43.479Z"
   },
   {
    "duration": 12938,
    "start_time": "2023-10-21T15:34:43.484Z"
   },
   {
    "duration": 11,
    "start_time": "2023-10-21T15:34:56.424Z"
   },
   {
    "duration": 269,
    "start_time": "2023-10-21T15:34:56.438Z"
   },
   {
    "duration": 27798,
    "start_time": "2023-10-21T15:34:56.709Z"
   },
   {
    "duration": 5,
    "start_time": "2023-10-21T15:35:24.510Z"
   },
   {
    "duration": 5433,
    "start_time": "2023-10-21T15:35:24.516Z"
   },
   {
    "duration": 16020,
    "start_time": "2023-10-21T15:35:29.951Z"
   },
   {
    "duration": 15,
    "start_time": "2023-10-21T15:36:28.914Z"
   },
   {
    "duration": 15809,
    "start_time": "2023-10-21T15:36:44.864Z"
   },
   {
    "duration": 1890,
    "start_time": "2023-10-21T15:37:21.465Z"
   },
   {
    "duration": 167,
    "start_time": "2023-10-21T15:37:23.358Z"
   },
   {
    "duration": 27,
    "start_time": "2023-10-21T15:37:23.527Z"
   },
   {
    "duration": 1492,
    "start_time": "2023-10-21T15:37:23.557Z"
   },
   {
    "duration": 2335,
    "start_time": "2023-10-21T15:37:25.052Z"
   },
   {
    "duration": 892,
    "start_time": "2023-10-21T15:37:27.390Z"
   },
   {
    "duration": 180,
    "start_time": "2023-10-21T15:37:28.283Z"
   },
   {
    "duration": 178,
    "start_time": "2023-10-21T15:37:28.466Z"
   },
   {
    "duration": 4,
    "start_time": "2023-10-21T15:37:28.646Z"
   },
   {
    "duration": 12666,
    "start_time": "2023-10-21T15:37:28.651Z"
   },
   {
    "duration": 82,
    "start_time": "2023-10-21T15:37:41.325Z"
   },
   {
    "duration": 170,
    "start_time": "2023-10-21T15:37:41.410Z"
   },
   {
    "duration": 28565,
    "start_time": "2023-10-21T15:37:41.583Z"
   },
   {
    "duration": 9,
    "start_time": "2023-10-21T15:38:10.154Z"
   },
   {
    "duration": 5768,
    "start_time": "2023-10-21T15:38:10.169Z"
   },
   {
    "duration": 16114,
    "start_time": "2023-10-21T15:38:15.940Z"
   },
   {
    "duration": 13513,
    "start_time": "2023-10-21T15:40:17.294Z"
   },
   {
    "duration": 700,
    "start_time": "2023-10-21T15:41:08.767Z"
   },
   {
    "duration": 612,
    "start_time": "2023-10-21T15:41:18.464Z"
   },
   {
    "duration": 1790,
    "start_time": "2023-10-21T15:41:26.355Z"
   },
   {
    "duration": 156,
    "start_time": "2023-10-21T15:41:28.147Z"
   },
   {
    "duration": 26,
    "start_time": "2023-10-21T15:41:28.315Z"
   },
   {
    "duration": 1386,
    "start_time": "2023-10-21T15:41:28.343Z"
   },
   {
    "duration": 1914,
    "start_time": "2023-10-21T15:41:29.733Z"
   },
   {
    "duration": 1126,
    "start_time": "2023-10-21T15:41:31.649Z"
   },
   {
    "duration": 199,
    "start_time": "2023-10-21T15:41:32.778Z"
   },
   {
    "duration": 163,
    "start_time": "2023-10-21T15:41:32.979Z"
   },
   {
    "duration": 6,
    "start_time": "2023-10-21T15:41:33.144Z"
   },
   {
    "duration": 13785,
    "start_time": "2023-10-21T15:41:33.151Z"
   },
   {
    "duration": 70,
    "start_time": "2023-10-21T15:41:46.946Z"
   },
   {
    "duration": 183,
    "start_time": "2023-10-21T15:41:47.018Z"
   },
   {
    "duration": 29868,
    "start_time": "2023-10-21T15:41:47.203Z"
   },
   {
    "duration": 5,
    "start_time": "2023-10-21T15:42:17.074Z"
   },
   {
    "duration": 5737,
    "start_time": "2023-10-21T15:42:17.081Z"
   },
   {
    "duration": 1110,
    "start_time": "2023-10-21T15:42:22.824Z"
   },
   {
    "duration": 19395,
    "start_time": "2023-10-21T15:42:27.754Z"
   },
   {
    "duration": 20538,
    "start_time": "2023-10-21T15:43:07.729Z"
   },
   {
    "duration": 21950,
    "start_time": "2023-10-21T15:43:55.554Z"
   },
   {
    "duration": 38,
    "start_time": "2023-10-21T15:44:55.716Z"
   },
   {
    "duration": 186,
    "start_time": "2023-10-21T15:44:55.756Z"
   },
   {
    "duration": 22,
    "start_time": "2023-10-21T15:44:55.944Z"
   },
   {
    "duration": 1199,
    "start_time": "2023-10-21T15:44:55.969Z"
   },
   {
    "duration": 2087,
    "start_time": "2023-10-21T15:44:57.170Z"
   },
   {
    "duration": 1277,
    "start_time": "2023-10-21T15:44:59.259Z"
   },
   {
    "duration": 159,
    "start_time": "2023-10-21T15:45:00.540Z"
   },
   {
    "duration": 187,
    "start_time": "2023-10-21T15:45:00.707Z"
   },
   {
    "duration": 4,
    "start_time": "2023-10-21T15:45:00.896Z"
   },
   {
    "duration": 13118,
    "start_time": "2023-10-21T15:45:00.916Z"
   },
   {
    "duration": 82,
    "start_time": "2023-10-21T15:45:14.039Z"
   },
   {
    "duration": 301,
    "start_time": "2023-10-21T15:45:14.141Z"
   },
   {
    "duration": 2380,
    "start_time": "2023-10-21T15:46:05.723Z"
   },
   {
    "duration": 207,
    "start_time": "2023-10-21T15:46:08.106Z"
   },
   {
    "duration": 25,
    "start_time": "2023-10-21T15:46:08.316Z"
   },
   {
    "duration": 1576,
    "start_time": "2023-10-21T15:46:08.343Z"
   },
   {
    "duration": 2241,
    "start_time": "2023-10-21T15:46:09.922Z"
   },
   {
    "duration": 1206,
    "start_time": "2023-10-21T15:46:12.165Z"
   },
   {
    "duration": 207,
    "start_time": "2023-10-21T15:46:13.376Z"
   },
   {
    "duration": 1069,
    "start_time": "2023-10-21T15:46:13.585Z"
   },
   {
    "duration": 114,
    "start_time": "2023-10-21T15:46:14.656Z"
   },
   {
    "duration": 12167,
    "start_time": "2023-10-21T15:46:14.772Z"
   },
   {
    "duration": 75,
    "start_time": "2023-10-21T15:46:26.941Z"
   },
   {
    "duration": 172,
    "start_time": "2023-10-21T15:46:27.019Z"
   },
   {
    "duration": 27455,
    "start_time": "2023-10-21T15:46:27.194Z"
   },
   {
    "duration": 6,
    "start_time": "2023-10-21T15:46:54.652Z"
   },
   {
    "duration": 5025,
    "start_time": "2023-10-21T15:46:54.660Z"
   },
   {
    "duration": 21303,
    "start_time": "2023-10-21T15:46:59.687Z"
   },
   {
    "duration": 110,
    "start_time": "2023-10-21T15:52:53.465Z"
   },
   {
    "duration": 215,
    "start_time": "2023-10-21T15:53:18.194Z"
   },
   {
    "duration": 32,
    "start_time": "2023-10-21T15:54:03.429Z"
   },
   {
    "duration": 272,
    "start_time": "2023-10-21T15:54:09.893Z"
   },
   {
    "duration": 80,
    "start_time": "2023-10-21T15:54:25.447Z"
   },
   {
    "duration": 258,
    "start_time": "2023-10-21T15:54:34.134Z"
   },
   {
    "duration": 1819,
    "start_time": "2023-10-21T15:56:51.664Z"
   },
   {
    "duration": 168,
    "start_time": "2023-10-21T15:56:53.487Z"
   },
   {
    "duration": 24,
    "start_time": "2023-10-21T15:56:53.657Z"
   },
   {
    "duration": 1143,
    "start_time": "2023-10-21T15:56:53.683Z"
   },
   {
    "duration": 2039,
    "start_time": "2023-10-21T15:56:54.830Z"
   },
   {
    "duration": 1031,
    "start_time": "2023-10-21T15:56:56.871Z"
   },
   {
    "duration": 173,
    "start_time": "2023-10-21T15:56:57.907Z"
   },
   {
    "duration": 153,
    "start_time": "2023-10-21T15:56:58.082Z"
   },
   {
    "duration": 3,
    "start_time": "2023-10-21T15:56:58.237Z"
   },
   {
    "duration": 12169,
    "start_time": "2023-10-21T15:56:58.242Z"
   },
   {
    "duration": 8,
    "start_time": "2023-10-21T15:57:10.414Z"
   },
   {
    "duration": 151,
    "start_time": "2023-10-21T15:57:10.429Z"
   },
   {
    "duration": 44466,
    "start_time": "2023-10-21T15:57:10.582Z"
   },
   {
    "duration": 5,
    "start_time": "2023-10-21T15:57:55.050Z"
   },
   {
    "duration": 4615,
    "start_time": "2023-10-21T15:57:55.056Z"
   },
   {
    "duration": 3,
    "start_time": "2023-10-21T15:57:59.673Z"
   },
   {
    "duration": 305,
    "start_time": "2023-10-21T15:57:59.678Z"
   },
   {
    "duration": 39,
    "start_time": "2023-10-21T16:02:24.099Z"
   },
   {
    "duration": 10,
    "start_time": "2023-10-21T16:03:11.801Z"
   },
   {
    "duration": 32,
    "start_time": "2023-10-21T16:05:04.290Z"
   },
   {
    "duration": 134,
    "start_time": "2023-10-21T16:06:32.467Z"
   },
   {
    "duration": 132,
    "start_time": "2023-10-21T16:07:02.684Z"
   },
   {
    "duration": 434,
    "start_time": "2023-10-21T16:07:55.526Z"
   },
   {
    "duration": 333,
    "start_time": "2023-10-21T16:10:40.546Z"
   },
   {
    "duration": 330,
    "start_time": "2023-10-21T16:10:49.055Z"
   },
   {
    "duration": 26,
    "start_time": "2023-10-21T16:14:24.089Z"
   },
   {
    "duration": 89,
    "start_time": "2023-10-21T16:14:47.924Z"
   },
   {
    "duration": 83,
    "start_time": "2023-10-21T16:22:26.132Z"
   },
   {
    "duration": 186,
    "start_time": "2023-10-21T16:26:35.938Z"
   },
   {
    "duration": 976,
    "start_time": "2023-10-21T16:37:41.907Z"
   },
   {
    "duration": 47,
    "start_time": "2023-10-21T16:38:10.497Z"
   },
   {
    "duration": 2196,
    "start_time": "2023-10-21T16:38:13.630Z"
   },
   {
    "duration": 3442,
    "start_time": "2023-10-21T16:40:23.978Z"
   },
   {
    "duration": 2312,
    "start_time": "2023-10-21T16:41:24.330Z"
   },
   {
    "duration": 2346,
    "start_time": "2023-10-21T16:41:44.539Z"
   },
   {
    "duration": 2337,
    "start_time": "2023-10-21T16:42:07.130Z"
   },
   {
    "duration": 18,
    "start_time": "2023-10-21T16:43:04.304Z"
   },
   {
    "duration": 6,
    "start_time": "2023-10-21T16:43:10.344Z"
   },
   {
    "duration": 10,
    "start_time": "2023-10-21T16:43:36.103Z"
   },
   {
    "duration": 5,
    "start_time": "2023-10-21T16:43:41.776Z"
   },
   {
    "duration": 5,
    "start_time": "2023-10-21T16:44:04.632Z"
   },
   {
    "duration": 1736,
    "start_time": "2023-10-21T16:44:16.971Z"
   },
   {
    "duration": 149,
    "start_time": "2023-10-21T16:44:18.718Z"
   },
   {
    "duration": 38,
    "start_time": "2023-10-21T16:44:18.869Z"
   },
   {
    "duration": 1227,
    "start_time": "2023-10-21T16:44:18.909Z"
   },
   {
    "duration": 1812,
    "start_time": "2023-10-21T16:44:20.139Z"
   },
   {
    "duration": 971,
    "start_time": "2023-10-21T16:44:21.952Z"
   },
   {
    "duration": 163,
    "start_time": "2023-10-21T16:44:22.925Z"
   },
   {
    "duration": 164,
    "start_time": "2023-10-21T16:44:23.090Z"
   },
   {
    "duration": 4,
    "start_time": "2023-10-21T16:44:23.256Z"
   },
   {
    "duration": 13752,
    "start_time": "2023-10-21T16:44:23.262Z"
   },
   {
    "duration": 20,
    "start_time": "2023-10-21T16:44:37.020Z"
   },
   {
    "duration": 146,
    "start_time": "2023-10-21T16:44:37.112Z"
   },
   {
    "duration": 6816,
    "start_time": "2023-10-21T16:46:02.905Z"
   },
   {
    "duration": 177,
    "start_time": "2023-10-21T16:46:09.728Z"
   },
   {
    "duration": 26,
    "start_time": "2023-10-21T16:46:09.910Z"
   },
   {
    "duration": 1270,
    "start_time": "2023-10-21T16:46:09.940Z"
   },
   {
    "duration": 1880,
    "start_time": "2023-10-21T16:46:11.211Z"
   },
   {
    "duration": 921,
    "start_time": "2023-10-21T16:46:13.093Z"
   },
   {
    "duration": 198,
    "start_time": "2023-10-21T16:46:14.022Z"
   },
   {
    "duration": 148,
    "start_time": "2023-10-21T16:46:14.229Z"
   },
   {
    "duration": 3,
    "start_time": "2023-10-21T16:46:14.378Z"
   },
   {
    "duration": 13391,
    "start_time": "2023-10-21T16:46:18.361Z"
   },
   {
    "duration": 5,
    "start_time": "2023-10-21T16:46:31.813Z"
   },
   {
    "duration": 1278,
    "start_time": "2023-10-21T16:48:31.858Z"
   },
   {
    "duration": 3213,
    "start_time": "2023-10-21T16:50:03.236Z"
   },
   {
    "duration": 182,
    "start_time": "2023-10-21T16:50:06.451Z"
   },
   {
    "duration": 18,
    "start_time": "2023-10-21T16:50:06.635Z"
   },
   {
    "duration": 1412,
    "start_time": "2023-10-21T16:50:06.655Z"
   },
   {
    "duration": 1827,
    "start_time": "2023-10-21T16:50:08.070Z"
   },
   {
    "duration": 1055,
    "start_time": "2023-10-21T16:50:09.900Z"
   },
   {
    "duration": 160,
    "start_time": "2023-10-21T16:50:10.957Z"
   },
   {
    "duration": 151,
    "start_time": "2023-10-21T16:50:11.120Z"
   },
   {
    "duration": 3,
    "start_time": "2023-10-21T16:50:11.273Z"
   },
   {
    "duration": 14639,
    "start_time": "2023-10-21T16:50:11.277Z"
   },
   {
    "duration": 20,
    "start_time": "2023-10-21T16:50:25.928Z"
   },
   {
    "duration": 179,
    "start_time": "2023-10-21T16:50:26.006Z"
   },
   {
    "duration": 900,
    "start_time": "2023-10-21T16:50:26.187Z"
   },
   {
    "duration": 2425,
    "start_time": "2023-10-21T16:51:08.102Z"
   },
   {
    "duration": 190,
    "start_time": "2023-10-21T16:51:10.530Z"
   },
   {
    "duration": 19,
    "start_time": "2023-10-21T16:51:10.727Z"
   },
   {
    "duration": 1197,
    "start_time": "2023-10-21T16:51:10.748Z"
   },
   {
    "duration": 1638,
    "start_time": "2023-10-21T16:51:11.948Z"
   },
   {
    "duration": 915,
    "start_time": "2023-10-21T16:51:13.588Z"
   },
   {
    "duration": 175,
    "start_time": "2023-10-21T16:51:14.504Z"
   },
   {
    "duration": 159,
    "start_time": "2023-10-21T16:51:14.682Z"
   },
   {
    "duration": 7,
    "start_time": "2023-10-21T16:51:14.843Z"
   },
   {
    "duration": 14462,
    "start_time": "2023-10-21T16:51:14.852Z"
   },
   {
    "duration": 88,
    "start_time": "2023-10-21T16:51:29.319Z"
   },
   {
    "duration": 137,
    "start_time": "2023-10-21T16:51:29.417Z"
   },
   {
    "duration": 18944,
    "start_time": "2023-10-21T16:51:29.556Z"
   },
   {
    "duration": 10,
    "start_time": "2023-10-21T16:51:48.511Z"
   },
   {
    "duration": 4666,
    "start_time": "2023-10-21T16:51:48.524Z"
   },
   {
    "duration": 16,
    "start_time": "2023-10-21T16:51:53.192Z"
   },
   {
    "duration": 343,
    "start_time": "2023-10-21T16:51:53.211Z"
   },
   {
    "duration": 388,
    "start_time": "2023-10-21T16:51:53.556Z"
   },
   {
    "duration": 66,
    "start_time": "2023-10-21T16:51:53.946Z"
   },
   {
    "duration": 9,
    "start_time": "2023-10-21T16:51:54.014Z"
   },
   {
    "duration": 2537,
    "start_time": "2023-10-21T16:51:54.025Z"
   },
   {
    "duration": 742,
    "start_time": "2023-10-21T16:52:39.573Z"
   },
   {
    "duration": 7,
    "start_time": "2023-10-21T16:52:58.109Z"
   },
   {
    "duration": 5,
    "start_time": "2023-10-21T16:53:11.550Z"
   },
   {
    "duration": 95,
    "start_time": "2023-10-21T16:53:56.765Z"
   },
   {
    "duration": 10,
    "start_time": "2023-10-21T16:54:01.639Z"
   },
   {
    "duration": 5,
    "start_time": "2023-10-21T16:54:07.871Z"
   },
   {
    "duration": 803,
    "start_time": "2023-10-21T16:54:32.260Z"
   },
   {
    "duration": 10584,
    "start_time": "2023-10-21T16:55:04.595Z"
   },
   {
    "duration": 4,
    "start_time": "2023-10-21T16:55:45.563Z"
   },
   {
    "duration": 8,
    "start_time": "2023-10-21T16:55:53.169Z"
   },
   {
    "duration": 97803,
    "start_time": "2023-10-21T16:56:02.910Z"
   },
   {
    "duration": 101346,
    "start_time": "2023-10-21T16:58:26.810Z"
   },
   {
    "duration": 98693,
    "start_time": "2023-10-21T17:01:56.765Z"
   },
   {
    "duration": 89,
    "start_time": "2023-10-21T17:05:56.565Z"
   },
   {
    "duration": 230583,
    "start_time": "2023-10-21T17:06:23.253Z"
   },
   {
    "duration": 140231,
    "start_time": "2023-10-21T17:17:55.738Z"
   },
   {
    "duration": 30229,
    "start_time": "2023-10-21T17:24:34.803Z"
   },
   {
    "duration": 30154,
    "start_time": "2023-10-21T17:25:30.136Z"
   },
   {
    "duration": 84130,
    "start_time": "2023-10-21T17:26:18.159Z"
   },
   {
    "duration": 105323,
    "start_time": "2023-10-21T17:27:49.126Z"
   },
   {
    "duration": 1077770,
    "start_time": "2023-10-21T17:29:43.362Z"
   },
   {
    "duration": 1407,
    "start_time": "2023-10-21T18:14:28.377Z"
   },
   {
    "duration": 20877,
    "start_time": "2023-10-21T18:14:37.619Z"
   },
   {
    "duration": 247568,
    "start_time": "2023-10-21T18:15:05.984Z"
   },
   {
    "duration": 163523,
    "start_time": "2023-10-21T18:19:29.624Z"
   },
   {
    "duration": 1028,
    "start_time": "2023-10-21T18:22:13.150Z"
   },
   {
    "duration": 1050,
    "start_time": "2023-10-21T18:22:30.249Z"
   },
   {
    "duration": 18701,
    "start_time": "2023-10-21T18:23:34.173Z"
   },
   {
    "duration": 1538,
    "start_time": "2023-10-21T18:30:19.127Z"
   },
   {
    "duration": 127,
    "start_time": "2023-10-21T18:30:20.667Z"
   },
   {
    "duration": 11,
    "start_time": "2023-10-21T18:30:20.796Z"
   },
   {
    "duration": 42,
    "start_time": "2023-10-21T18:30:20.809Z"
   },
   {
    "duration": 73,
    "start_time": "2023-10-21T18:30:20.854Z"
   },
   {
    "duration": 28,
    "start_time": "2023-10-21T18:30:20.929Z"
   },
   {
    "duration": 77,
    "start_time": "2023-10-21T18:30:20.959Z"
   },
   {
    "duration": 148,
    "start_time": "2023-10-21T18:30:21.038Z"
   },
   {
    "duration": 130,
    "start_time": "2023-10-21T18:30:21.188Z"
   },
   {
    "duration": 2,
    "start_time": "2023-10-21T18:30:21.320Z"
   },
   {
    "duration": 93,
    "start_time": "2023-10-21T18:30:21.324Z"
   },
   {
    "duration": 8,
    "start_time": "2023-10-21T18:30:21.419Z"
   },
   {
    "duration": 299,
    "start_time": "2023-10-21T18:30:21.508Z"
   },
   {
    "duration": 3721,
    "start_time": "2023-10-21T18:30:21.810Z"
   },
   {
    "duration": 6,
    "start_time": "2023-10-21T18:30:25.533Z"
   },
   {
    "duration": 2740,
    "start_time": "2023-10-21T18:30:25.542Z"
   },
   {
    "duration": 3,
    "start_time": "2023-10-21T18:30:28.285Z"
   },
   {
    "duration": 248,
    "start_time": "2023-10-21T18:30:28.290Z"
   },
   {
    "duration": 391,
    "start_time": "2023-10-21T18:30:28.540Z"
   },
   {
    "duration": 86,
    "start_time": "2023-10-21T18:30:28.932Z"
   },
   {
    "duration": 123,
    "start_time": "2023-10-21T18:30:29.033Z"
   },
   {
    "duration": 30982,
    "start_time": "2023-10-21T18:30:29.158Z"
   },
   {
    "duration": 14788,
    "start_time": "2023-10-21T18:31:00.142Z"
   },
   {
    "duration": 3,
    "start_time": "2023-10-21T18:31:14.932Z"
   },
   {
    "duration": 58,
    "start_time": "2023-10-21T18:31:14.937Z"
   },
   {
    "duration": 1541,
    "start_time": "2023-10-21T18:31:14.997Z"
   },
   {
    "duration": 1580,
    "start_time": "2023-10-21T18:33:11.898Z"
   },
   {
    "duration": 111,
    "start_time": "2023-10-21T18:33:13.480Z"
   },
   {
    "duration": 16,
    "start_time": "2023-10-21T18:33:13.592Z"
   },
   {
    "duration": 31,
    "start_time": "2023-10-21T18:33:13.610Z"
   },
   {
    "duration": 44,
    "start_time": "2023-10-21T18:33:13.643Z"
   },
   {
    "duration": 42,
    "start_time": "2023-10-21T18:33:13.688Z"
   },
   {
    "duration": 48,
    "start_time": "2023-10-21T18:33:13.732Z"
   },
   {
    "duration": 153,
    "start_time": "2023-10-21T18:33:13.782Z"
   },
   {
    "duration": 124,
    "start_time": "2023-10-21T18:33:13.936Z"
   },
   {
    "duration": 2,
    "start_time": "2023-10-21T18:33:14.062Z"
   },
   {
    "duration": 247,
    "start_time": "2023-10-21T18:33:14.065Z"
   },
   {
    "duration": 5,
    "start_time": "2023-10-21T18:33:14.314Z"
   },
   {
    "duration": 363,
    "start_time": "2023-10-21T18:33:14.321Z"
   },
   {
    "duration": 3323,
    "start_time": "2023-10-21T18:33:14.686Z"
   },
   {
    "duration": 4,
    "start_time": "2023-10-21T18:33:18.011Z"
   },
   {
    "duration": 2680,
    "start_time": "2023-10-21T18:33:18.017Z"
   },
   {
    "duration": 3,
    "start_time": "2023-10-21T18:33:20.707Z"
   },
   {
    "duration": 262,
    "start_time": "2023-10-21T18:33:20.712Z"
   },
   {
    "duration": 333,
    "start_time": "2023-10-21T18:33:20.976Z"
   },
   {
    "duration": 13,
    "start_time": "2023-10-21T18:33:21.311Z"
   },
   {
    "duration": 207,
    "start_time": "2023-10-21T18:33:21.326Z"
   },
   {
    "duration": 30546,
    "start_time": "2023-10-21T18:33:21.534Z"
   },
   {
    "duration": 12943,
    "start_time": "2023-10-21T18:33:52.081Z"
   },
   {
    "duration": 3,
    "start_time": "2023-10-21T18:34:05.026Z"
   },
   {
    "duration": 48,
    "start_time": "2023-10-21T18:34:05.031Z"
   },
   {
    "duration": 1461,
    "start_time": "2023-10-21T18:34:05.080Z"
   },
   {
    "duration": 146,
    "start_time": "2023-10-21T18:34:49.491Z"
   },
   {
    "duration": 1675,
    "start_time": "2023-10-21T18:34:56.810Z"
   },
   {
    "duration": 123,
    "start_time": "2023-10-21T18:34:58.487Z"
   },
   {
    "duration": 6,
    "start_time": "2023-10-21T18:34:58.612Z"
   },
   {
    "duration": 22,
    "start_time": "2023-10-21T18:34:58.620Z"
   },
   {
    "duration": 78,
    "start_time": "2023-10-21T18:34:58.645Z"
   },
   {
    "duration": 34,
    "start_time": "2023-10-21T18:34:58.726Z"
   },
   {
    "duration": 69,
    "start_time": "2023-10-21T18:34:58.762Z"
   },
   {
    "duration": 156,
    "start_time": "2023-10-21T18:34:58.833Z"
   },
   {
    "duration": 161,
    "start_time": "2023-10-21T18:34:58.991Z"
   },
   {
    "duration": 2,
    "start_time": "2023-10-21T18:34:59.154Z"
   },
   {
    "duration": 259,
    "start_time": "2023-10-21T18:34:59.158Z"
   },
   {
    "duration": 82,
    "start_time": "2023-10-21T18:34:59.428Z"
   },
   {
    "duration": 269,
    "start_time": "2023-10-21T18:34:59.515Z"
   },
   {
    "duration": 3726,
    "start_time": "2023-10-21T18:34:59.786Z"
   },
   {
    "duration": 5,
    "start_time": "2023-10-21T18:35:03.514Z"
   },
   {
    "duration": 3570,
    "start_time": "2023-10-21T18:35:03.521Z"
   },
   {
    "duration": 3,
    "start_time": "2023-10-21T18:35:07.092Z"
   },
   {
    "duration": 256,
    "start_time": "2023-10-21T18:35:07.107Z"
   },
   {
    "duration": 260,
    "start_time": "2023-10-21T18:35:07.365Z"
   },
   {
    "duration": 82,
    "start_time": "2023-10-21T18:35:07.627Z"
   },
   {
    "duration": 140,
    "start_time": "2023-10-21T18:35:07.712Z"
   },
   {
    "duration": 25238,
    "start_time": "2023-10-21T18:35:07.854Z"
   },
   {
    "duration": 11696,
    "start_time": "2023-10-21T18:35:33.095Z"
   },
   {
    "duration": 3,
    "start_time": "2023-10-21T18:35:44.793Z"
   },
   {
    "duration": 45,
    "start_time": "2023-10-21T18:35:44.809Z"
   },
   {
    "duration": 1357,
    "start_time": "2023-10-21T18:35:44.855Z"
   },
   {
    "duration": 1511,
    "start_time": "2023-10-21T18:37:49.664Z"
   },
   {
    "duration": 122,
    "start_time": "2023-10-21T18:37:51.177Z"
   },
   {
    "duration": 7,
    "start_time": "2023-10-21T18:37:51.301Z"
   },
   {
    "duration": 29,
    "start_time": "2023-10-21T18:37:51.310Z"
   },
   {
    "duration": 43,
    "start_time": "2023-10-21T18:37:51.342Z"
   },
   {
    "duration": 32,
    "start_time": "2023-10-21T18:37:51.387Z"
   },
   {
    "duration": 40,
    "start_time": "2023-10-21T18:37:51.421Z"
   },
   {
    "duration": 167,
    "start_time": "2023-10-21T18:37:51.463Z"
   },
   {
    "duration": 129,
    "start_time": "2023-10-21T18:37:51.633Z"
   },
   {
    "duration": 2,
    "start_time": "2023-10-21T18:37:51.765Z"
   },
   {
    "duration": 139,
    "start_time": "2023-10-21T18:37:51.769Z"
   },
   {
    "duration": 7,
    "start_time": "2023-10-21T18:37:51.910Z"
   },
   {
    "duration": 310,
    "start_time": "2023-10-21T18:37:51.921Z"
   },
   {
    "duration": 3112,
    "start_time": "2023-10-21T18:37:52.234Z"
   },
   {
    "duration": 4,
    "start_time": "2023-10-21T18:37:55.348Z"
   },
   {
    "duration": 2726,
    "start_time": "2023-10-21T18:37:55.353Z"
   },
   {
    "duration": 3,
    "start_time": "2023-10-21T18:37:58.081Z"
   },
   {
    "duration": 267,
    "start_time": "2023-10-21T18:37:58.086Z"
   },
   {
    "duration": 267,
    "start_time": "2023-10-21T18:37:58.355Z"
   },
   {
    "duration": 19,
    "start_time": "2023-10-21T18:37:58.623Z"
   },
   {
    "duration": 118,
    "start_time": "2023-10-21T18:37:58.708Z"
   },
   {
    "duration": 19823,
    "start_time": "2023-10-21T18:37:58.828Z"
   },
   {
    "duration": 231,
    "start_time": "2023-10-21T18:38:18.652Z"
   },
   {
    "duration": 3,
    "start_time": "2023-10-21T18:38:18.884Z"
   },
   {
    "duration": 42,
    "start_time": "2023-10-21T18:38:18.888Z"
   },
   {
    "duration": 1043,
    "start_time": "2023-10-21T18:38:18.932Z"
   },
   {
    "duration": 1456,
    "start_time": "2023-10-21T18:39:18.635Z"
   },
   {
    "duration": 140,
    "start_time": "2023-10-21T18:39:20.092Z"
   },
   {
    "duration": 5,
    "start_time": "2023-10-21T18:39:20.235Z"
   },
   {
    "duration": 19,
    "start_time": "2023-10-21T18:39:20.242Z"
   },
   {
    "duration": 82,
    "start_time": "2023-10-21T18:39:20.263Z"
   },
   {
    "duration": 31,
    "start_time": "2023-10-21T18:39:20.347Z"
   },
   {
    "duration": 55,
    "start_time": "2023-10-21T18:39:20.380Z"
   },
   {
    "duration": 144,
    "start_time": "2023-10-21T18:39:20.437Z"
   },
   {
    "duration": 134,
    "start_time": "2023-10-21T18:39:20.583Z"
   },
   {
    "duration": 3,
    "start_time": "2023-10-21T18:39:20.718Z"
   },
   {
    "duration": 191,
    "start_time": "2023-10-21T18:39:20.723Z"
   },
   {
    "duration": 92,
    "start_time": "2023-10-21T18:39:20.916Z"
   },
   {
    "duration": 270,
    "start_time": "2023-10-21T18:39:21.013Z"
   },
   {
    "duration": 3300,
    "start_time": "2023-10-21T18:39:21.286Z"
   },
   {
    "duration": 4,
    "start_time": "2023-10-21T18:39:24.588Z"
   },
   {
    "duration": 3200,
    "start_time": "2023-10-21T18:39:24.607Z"
   },
   {
    "duration": 5,
    "start_time": "2023-10-21T18:39:27.809Z"
   },
   {
    "duration": 321,
    "start_time": "2023-10-21T18:39:27.815Z"
   },
   {
    "duration": 501,
    "start_time": "2023-10-21T18:39:28.138Z"
   },
   {
    "duration": 169,
    "start_time": "2023-10-21T18:39:28.641Z"
   },
   {
    "duration": 113,
    "start_time": "2023-10-21T18:39:28.813Z"
   },
   {
    "duration": 28572,
    "start_time": "2023-10-21T18:39:28.928Z"
   },
   {
    "duration": 12180,
    "start_time": "2023-10-21T18:39:57.507Z"
   },
   {
    "duration": 3,
    "start_time": "2023-10-21T18:40:09.689Z"
   },
   {
    "duration": 36,
    "start_time": "2023-10-21T18:40:09.707Z"
   },
   {
    "duration": 1374,
    "start_time": "2023-10-21T18:40:09.745Z"
   },
   {
    "duration": 1614,
    "start_time": "2023-10-21T18:40:51.947Z"
   },
   {
    "duration": 145,
    "start_time": "2023-10-21T18:40:53.564Z"
   },
   {
    "duration": 5,
    "start_time": "2023-10-21T18:40:53.710Z"
   },
   {
    "duration": 41,
    "start_time": "2023-10-21T18:40:53.717Z"
   },
   {
    "duration": 44,
    "start_time": "2023-10-21T18:40:53.760Z"
   },
   {
    "duration": 27,
    "start_time": "2023-10-21T18:40:53.807Z"
   },
   {
    "duration": 35,
    "start_time": "2023-10-21T18:40:53.836Z"
   },
   {
    "duration": 162,
    "start_time": "2023-10-21T18:40:53.873Z"
   },
   {
    "duration": 134,
    "start_time": "2023-10-21T18:40:54.036Z"
   },
   {
    "duration": 3,
    "start_time": "2023-10-21T18:40:54.171Z"
   },
   {
    "duration": 136,
    "start_time": "2023-10-21T18:40:54.176Z"
   },
   {
    "duration": 6,
    "start_time": "2023-10-21T18:40:54.314Z"
   },
   {
    "duration": 372,
    "start_time": "2023-10-21T18:40:54.322Z"
   },
   {
    "duration": 3436,
    "start_time": "2023-10-21T18:40:54.698Z"
   },
   {
    "duration": 9,
    "start_time": "2023-10-21T18:40:58.137Z"
   },
   {
    "duration": 2887,
    "start_time": "2023-10-21T18:40:58.148Z"
   },
   {
    "duration": 4,
    "start_time": "2023-10-21T18:41:01.037Z"
   },
   {
    "duration": 296,
    "start_time": "2023-10-21T18:41:01.044Z"
   },
   {
    "duration": 291,
    "start_time": "2023-10-21T18:41:01.341Z"
   },
   {
    "duration": 15,
    "start_time": "2023-10-21T18:41:01.634Z"
   },
   {
    "duration": 177,
    "start_time": "2023-10-21T18:41:01.710Z"
   },
   {
    "duration": 24635,
    "start_time": "2023-10-21T18:41:01.889Z"
   },
   {
    "duration": 11615,
    "start_time": "2023-10-21T18:41:26.525Z"
   },
   {
    "duration": 4,
    "start_time": "2023-10-21T18:41:38.142Z"
   },
   {
    "duration": 37,
    "start_time": "2023-10-21T18:41:38.148Z"
   },
   {
    "duration": 1324,
    "start_time": "2023-10-21T18:41:38.187Z"
   },
   {
    "duration": 51,
    "start_time": "2023-10-21T18:42:07.147Z"
   },
   {
    "duration": 1195,
    "start_time": "2023-10-21T18:42:07.331Z"
   },
   {
    "duration": 53,
    "start_time": "2023-10-21T18:42:16.472Z"
   },
   {
    "duration": 1592,
    "start_time": "2023-10-21T18:42:16.647Z"
   },
   {
    "duration": 217,
    "start_time": "2023-10-21T18:42:31.384Z"
   },
   {
    "duration": 102,
    "start_time": "2023-10-21T18:42:31.604Z"
   },
   {
    "duration": 38,
    "start_time": "2023-10-21T18:42:38.343Z"
   },
   {
    "duration": 1687,
    "start_time": "2023-10-21T18:42:38.520Z"
   },
   {
    "duration": 87,
    "start_time": "2023-10-21T18:43:56.511Z"
   },
   {
    "duration": 937,
    "start_time": "2023-10-21T18:44:07.987Z"
   },
   {
    "duration": 4960,
    "start_time": "2023-10-21T18:46:22.908Z"
   },
   {
    "duration": 10809,
    "start_time": "2023-10-21T18:46:46.188Z"
   },
   {
    "duration": 6600,
    "start_time": "2023-10-21T18:47:09.078Z"
   },
   {
    "duration": 54,
    "start_time": "2023-10-21T18:48:14.466Z"
   },
   {
    "duration": 1302,
    "start_time": "2023-10-21T18:48:14.840Z"
   },
   {
    "duration": 541,
    "start_time": "2023-10-21T18:48:21.953Z"
   },
   {
    "duration": 45,
    "start_time": "2023-10-21T18:48:33.476Z"
   },
   {
    "duration": 47,
    "start_time": "2023-10-21T18:48:40.308Z"
   },
   {
    "duration": 15061,
    "start_time": "2023-10-21T18:49:18.120Z"
   },
   {
    "duration": 10628,
    "start_time": "2023-10-21T18:49:48.161Z"
   },
   {
    "duration": 9,
    "start_time": "2023-10-21T18:51:15.489Z"
   },
   {
    "duration": 1488,
    "start_time": "2023-10-21T18:51:38.518Z"
   },
   {
    "duration": 137,
    "start_time": "2023-10-21T18:51:40.009Z"
   },
   {
    "duration": 5,
    "start_time": "2023-10-21T18:51:40.148Z"
   },
   {
    "duration": 34,
    "start_time": "2023-10-21T18:51:40.155Z"
   },
   {
    "duration": 67,
    "start_time": "2023-10-21T18:51:40.207Z"
   },
   {
    "duration": 60,
    "start_time": "2023-10-21T18:51:40.276Z"
   },
   {
    "duration": 37,
    "start_time": "2023-10-21T18:51:40.339Z"
   },
   {
    "duration": 180,
    "start_time": "2023-10-21T18:51:40.378Z"
   },
   {
    "duration": 157,
    "start_time": "2023-10-21T18:51:40.560Z"
   },
   {
    "duration": 3,
    "start_time": "2023-10-21T18:51:40.720Z"
   },
   {
    "duration": 186,
    "start_time": "2023-10-21T18:51:40.725Z"
   },
   {
    "duration": 6,
    "start_time": "2023-10-21T18:51:40.913Z"
   },
   {
    "duration": 415,
    "start_time": "2023-10-21T18:51:40.921Z"
   },
   {
    "duration": 8046,
    "start_time": "2023-10-21T18:51:41.339Z"
   },
   {
    "duration": 6,
    "start_time": "2023-10-21T18:51:49.387Z"
   },
   {
    "duration": 6488,
    "start_time": "2023-10-21T18:51:49.409Z"
   },
   {
    "duration": 8,
    "start_time": "2023-10-21T18:51:55.900Z"
   },
   {
    "duration": 280,
    "start_time": "2023-10-21T18:51:55.910Z"
   },
   {
    "duration": 372,
    "start_time": "2023-10-21T18:51:56.192Z"
   },
   {
    "duration": 62,
    "start_time": "2023-10-21T18:51:56.567Z"
   },
   {
    "duration": 195,
    "start_time": "2023-10-21T18:51:56.633Z"
   },
   {
    "duration": 28540,
    "start_time": "2023-10-21T18:51:56.831Z"
   },
   {
    "duration": 11994,
    "start_time": "2023-10-21T18:52:25.373Z"
   },
   {
    "duration": 3,
    "start_time": "2023-10-21T18:52:37.370Z"
   },
   {
    "duration": 52,
    "start_time": "2023-10-21T18:52:37.375Z"
   },
   {
    "duration": 1294,
    "start_time": "2023-10-21T18:52:37.430Z"
   },
   {
    "duration": 814,
    "start_time": "2023-10-21T18:52:38.726Z"
   },
   {
    "duration": 1684,
    "start_time": "2023-10-21T18:52:52.493Z"
   },
   {
    "duration": 113,
    "start_time": "2023-10-21T18:52:54.179Z"
   },
   {
    "duration": 15,
    "start_time": "2023-10-21T18:52:54.294Z"
   },
   {
    "duration": 25,
    "start_time": "2023-10-21T18:52:54.311Z"
   },
   {
    "duration": 88,
    "start_time": "2023-10-21T18:52:54.339Z"
   },
   {
    "duration": 37,
    "start_time": "2023-10-21T18:52:54.429Z"
   },
   {
    "duration": 67,
    "start_time": "2023-10-21T18:52:54.468Z"
   },
   {
    "duration": 154,
    "start_time": "2023-10-21T18:52:54.537Z"
   },
   {
    "duration": 151,
    "start_time": "2023-10-21T18:52:54.693Z"
   },
   {
    "duration": 3,
    "start_time": "2023-10-21T18:52:54.846Z"
   },
   {
    "duration": 257,
    "start_time": "2023-10-21T18:52:54.851Z"
   },
   {
    "duration": 5,
    "start_time": "2023-10-21T18:52:55.110Z"
   },
   {
    "duration": 291,
    "start_time": "2023-10-21T18:52:55.118Z"
   },
   {
    "duration": 7938,
    "start_time": "2023-10-21T18:52:55.412Z"
   },
   {
    "duration": 6,
    "start_time": "2023-10-21T18:53:03.353Z"
   },
   {
    "duration": 6893,
    "start_time": "2023-10-21T18:53:03.361Z"
   },
   {
    "duration": 5,
    "start_time": "2023-10-21T18:53:10.257Z"
   },
   {
    "duration": 312,
    "start_time": "2023-10-21T18:53:10.265Z"
   },
   {
    "duration": 402,
    "start_time": "2023-10-21T18:53:10.582Z"
   },
   {
    "duration": 31,
    "start_time": "2023-10-21T18:53:10.987Z"
   },
   {
    "duration": 214,
    "start_time": "2023-10-21T18:53:11.021Z"
   },
   {
    "duration": 25981,
    "start_time": "2023-10-21T18:53:11.237Z"
   },
   {
    "duration": 11954,
    "start_time": "2023-10-21T18:53:37.220Z"
   },
   {
    "duration": 4,
    "start_time": "2023-10-21T18:53:49.176Z"
   },
   {
    "duration": 79,
    "start_time": "2023-10-21T18:53:49.182Z"
   },
   {
    "duration": 1368,
    "start_time": "2023-10-21T18:53:49.263Z"
   },
   {
    "duration": 568,
    "start_time": "2023-10-21T18:53:50.633Z"
   },
   {
    "duration": 1841,
    "start_time": "2023-10-22T11:16:18.577Z"
   },
   {
    "duration": 222,
    "start_time": "2023-10-22T11:16:20.420Z"
   },
   {
    "duration": 7,
    "start_time": "2023-10-22T11:16:20.644Z"
   },
   {
    "duration": 36,
    "start_time": "2023-10-22T11:16:20.654Z"
   },
   {
    "duration": 69,
    "start_time": "2023-10-22T11:16:20.692Z"
   },
   {
    "duration": 32,
    "start_time": "2023-10-22T11:16:20.764Z"
   },
   {
    "duration": 51,
    "start_time": "2023-10-22T11:16:20.798Z"
   },
   {
    "duration": 137,
    "start_time": "2023-10-22T11:16:20.852Z"
   },
   {
    "duration": 220,
    "start_time": "2023-10-22T11:16:20.990Z"
   },
   {
    "duration": 3,
    "start_time": "2023-10-22T11:16:21.213Z"
   },
   {
    "duration": 128,
    "start_time": "2023-10-22T11:16:21.218Z"
   },
   {
    "duration": 6,
    "start_time": "2023-10-22T11:16:21.348Z"
   },
   {
    "duration": 211,
    "start_time": "2023-10-22T11:16:21.360Z"
   },
   {
    "duration": 15439,
    "start_time": "2023-10-22T11:16:21.575Z"
   },
   {
    "duration": 5,
    "start_time": "2023-10-22T11:16:37.015Z"
   },
   {
    "duration": 5579,
    "start_time": "2023-10-22T11:16:37.022Z"
   },
   {
    "duration": 4,
    "start_time": "2023-10-22T11:16:42.602Z"
   },
   {
    "duration": 304,
    "start_time": "2023-10-22T11:16:42.607Z"
   },
   {
    "duration": 256,
    "start_time": "2023-10-22T11:16:42.912Z"
   },
   {
    "duration": 3,
    "start_time": "2023-10-22T11:16:43.169Z"
   },
   {
    "duration": 53,
    "start_time": "2023-10-22T11:16:43.173Z"
   },
   {
    "duration": 25525,
    "start_time": "2023-10-22T11:16:43.228Z"
   },
   {
    "duration": 334,
    "start_time": "2023-10-22T11:17:08.754Z"
   },
   {
    "duration": 2,
    "start_time": "2023-10-22T11:17:09.090Z"
   },
   {
    "duration": 37,
    "start_time": "2023-10-22T11:17:09.094Z"
   },
   {
    "duration": 1217,
    "start_time": "2023-10-22T11:17:09.133Z"
   },
   {
    "duration": 496,
    "start_time": "2023-10-22T11:17:10.355Z"
   },
   {
    "duration": 32,
    "start_time": "2023-10-22T11:42:59.633Z"
   },
   {
    "duration": 4,
    "start_time": "2023-10-22T11:43:20.669Z"
   },
   {
    "duration": 4,
    "start_time": "2023-10-22T11:43:24.973Z"
   },
   {
    "duration": 23,
    "start_time": "2023-10-22T11:44:30.515Z"
   },
   {
    "duration": 34,
    "start_time": "2023-10-22T11:46:32.665Z"
   },
   {
    "duration": 1564,
    "start_time": "2023-10-22T11:47:01.764Z"
   },
   {
    "duration": 134,
    "start_time": "2023-10-22T11:47:03.330Z"
   },
   {
    "duration": 6,
    "start_time": "2023-10-22T11:47:03.467Z"
   },
   {
    "duration": 44,
    "start_time": "2023-10-22T11:47:03.476Z"
   },
   {
    "duration": 78,
    "start_time": "2023-10-22T11:47:03.522Z"
   },
   {
    "duration": 26,
    "start_time": "2023-10-22T11:47:03.602Z"
   },
   {
    "duration": 53,
    "start_time": "2023-10-22T11:47:03.630Z"
   },
   {
    "duration": 134,
    "start_time": "2023-10-22T11:47:03.685Z"
   },
   {
    "duration": 144,
    "start_time": "2023-10-22T11:47:03.821Z"
   },
   {
    "duration": 2,
    "start_time": "2023-10-22T11:47:03.968Z"
   },
   {
    "duration": 174,
    "start_time": "2023-10-22T11:47:03.971Z"
   },
   {
    "duration": 9,
    "start_time": "2023-10-22T11:47:04.155Z"
   },
   {
    "duration": 160,
    "start_time": "2023-10-22T11:47:04.245Z"
   },
   {
    "duration": 14017,
    "start_time": "2023-10-22T11:47:04.407Z"
   },
   {
    "duration": 5,
    "start_time": "2023-10-22T11:47:18.426Z"
   },
   {
    "duration": 5592,
    "start_time": "2023-10-22T11:47:18.432Z"
   },
   {
    "duration": 3,
    "start_time": "2023-10-22T11:47:24.027Z"
   },
   {
    "duration": 312,
    "start_time": "2023-10-22T11:47:24.044Z"
   },
   {
    "duration": 293,
    "start_time": "2023-10-22T11:47:24.359Z"
   },
   {
    "duration": 3,
    "start_time": "2023-10-22T11:47:24.654Z"
   },
   {
    "duration": 65,
    "start_time": "2023-10-22T11:47:24.658Z"
   },
   {
    "duration": 24570,
    "start_time": "2023-10-22T11:47:24.725Z"
   },
   {
    "duration": 327,
    "start_time": "2023-10-22T11:47:49.297Z"
   },
   {
    "duration": 3,
    "start_time": "2023-10-22T11:47:49.626Z"
   },
   {
    "duration": 50,
    "start_time": "2023-10-22T11:47:49.630Z"
   },
   {
    "duration": 1622,
    "start_time": "2023-10-22T11:47:49.682Z"
   },
   {
    "duration": 350,
    "start_time": "2023-10-22T11:47:51.307Z"
   },
   {
    "duration": 30,
    "start_time": "2023-10-22T11:48:29.641Z"
   },
   {
    "duration": 1549,
    "start_time": "2023-10-22T11:48:52.539Z"
   },
   {
    "duration": 139,
    "start_time": "2023-10-22T11:48:54.090Z"
   },
   {
    "duration": 17,
    "start_time": "2023-10-22T11:48:54.231Z"
   },
   {
    "duration": 20,
    "start_time": "2023-10-22T11:48:54.251Z"
   },
   {
    "duration": 82,
    "start_time": "2023-10-22T11:48:54.273Z"
   },
   {
    "duration": 44,
    "start_time": "2023-10-22T11:48:54.357Z"
   },
   {
    "duration": 65,
    "start_time": "2023-10-22T11:48:54.403Z"
   },
   {
    "duration": 183,
    "start_time": "2023-10-22T11:48:54.470Z"
   },
   {
    "duration": 126,
    "start_time": "2023-10-22T11:48:54.655Z"
   },
   {
    "duration": 2,
    "start_time": "2023-10-22T11:48:54.783Z"
   },
   {
    "duration": 157,
    "start_time": "2023-10-22T11:48:54.787Z"
   },
   {
    "duration": 98,
    "start_time": "2023-10-22T11:48:54.947Z"
   },
   {
    "duration": 139,
    "start_time": "2023-10-22T11:48:55.047Z"
   },
   {
    "duration": 15019,
    "start_time": "2023-10-22T11:48:55.189Z"
   },
   {
    "duration": 5,
    "start_time": "2023-10-22T11:49:10.210Z"
   },
   {
    "duration": 5583,
    "start_time": "2023-10-22T11:49:10.217Z"
   },
   {
    "duration": 4,
    "start_time": "2023-10-22T11:49:15.801Z"
   },
   {
    "duration": 314,
    "start_time": "2023-10-22T11:49:15.806Z"
   },
   {
    "duration": 338,
    "start_time": "2023-10-22T11:49:16.122Z"
   },
   {
    "duration": 4,
    "start_time": "2023-10-22T11:49:16.461Z"
   },
   {
    "duration": 73,
    "start_time": "2023-10-22T11:49:16.467Z"
   },
   {
    "duration": 25326,
    "start_time": "2023-10-22T11:49:16.542Z"
   },
   {
    "duration": 353,
    "start_time": "2023-10-22T11:49:41.870Z"
   },
   {
    "duration": 3,
    "start_time": "2023-10-22T11:49:42.224Z"
   },
   {
    "duration": 64,
    "start_time": "2023-10-22T11:49:42.229Z"
   },
   {
    "duration": 1139,
    "start_time": "2023-10-22T11:49:42.295Z"
   },
   {
    "duration": 616,
    "start_time": "2023-10-22T11:49:43.436Z"
   },
   {
    "duration": 31,
    "start_time": "2023-10-22T11:51:05.974Z"
   },
   {
    "duration": 4,
    "start_time": "2023-10-22T11:51:11.933Z"
   },
   {
    "duration": 21,
    "start_time": "2023-10-22T11:51:23.669Z"
   },
   {
    "duration": 9,
    "start_time": "2023-10-22T11:51:48.373Z"
   },
   {
    "duration": 10,
    "start_time": "2023-10-22T11:52:18.458Z"
   },
   {
    "duration": 13,
    "start_time": "2023-10-22T11:52:30.455Z"
   },
   {
    "duration": 14,
    "start_time": "2023-10-22T11:53:44.188Z"
   },
   {
    "duration": 11,
    "start_time": "2023-10-22T11:53:58.262Z"
   },
   {
    "duration": 10,
    "start_time": "2023-10-22T11:54:56.295Z"
   },
   {
    "duration": 10,
    "start_time": "2023-10-22T11:55:03.674Z"
   },
   {
    "duration": 10,
    "start_time": "2023-10-22T11:55:13.449Z"
   },
   {
    "duration": 11,
    "start_time": "2023-10-22T11:55:40.706Z"
   },
   {
    "duration": 15,
    "start_time": "2023-10-22T11:55:54.409Z"
   },
   {
    "duration": 15,
    "start_time": "2023-10-22T11:56:00.938Z"
   },
   {
    "duration": 5,
    "start_time": "2023-10-22T11:57:16.050Z"
   },
   {
    "duration": 4,
    "start_time": "2023-10-22T11:57:47.128Z"
   },
   {
    "duration": 6,
    "start_time": "2023-10-22T11:58:31.175Z"
   },
   {
    "duration": 6,
    "start_time": "2023-10-22T11:59:59.808Z"
   },
   {
    "duration": 5,
    "start_time": "2023-10-22T12:00:13.029Z"
   },
   {
    "duration": 5,
    "start_time": "2023-10-22T12:00:26.733Z"
   },
   {
    "duration": 5,
    "start_time": "2023-10-22T12:00:50.125Z"
   },
   {
    "duration": 5,
    "start_time": "2023-10-22T12:01:32.469Z"
   },
   {
    "duration": 18,
    "start_time": "2023-10-22T12:03:43.322Z"
   },
   {
    "duration": 108,
    "start_time": "2023-10-22T12:04:10.202Z"
   },
   {
    "duration": 13584,
    "start_time": "2023-10-22T12:04:46.013Z"
   },
   {
    "duration": 1403,
    "start_time": "2023-10-22T12:05:36.275Z"
   },
   {
    "duration": 106,
    "start_time": "2023-10-22T12:05:37.680Z"
   },
   {
    "duration": 4,
    "start_time": "2023-10-22T12:05:37.788Z"
   },
   {
    "duration": 30,
    "start_time": "2023-10-22T12:05:37.794Z"
   },
   {
    "duration": 49,
    "start_time": "2023-10-22T12:05:37.827Z"
   },
   {
    "duration": 26,
    "start_time": "2023-10-22T12:05:37.878Z"
   },
   {
    "duration": 54,
    "start_time": "2023-10-22T12:05:37.906Z"
   },
   {
    "duration": 136,
    "start_time": "2023-10-22T12:05:37.962Z"
   },
   {
    "duration": 120,
    "start_time": "2023-10-22T12:05:38.100Z"
   },
   {
    "duration": 3,
    "start_time": "2023-10-22T12:05:38.221Z"
   },
   {
    "duration": 102,
    "start_time": "2023-10-22T12:05:38.226Z"
   },
   {
    "duration": 8,
    "start_time": "2023-10-22T12:05:38.349Z"
   },
   {
    "duration": 8,
    "start_time": "2023-10-22T12:05:38.445Z"
   },
   {
    "duration": 9,
    "start_time": "2023-10-22T12:05:38.456Z"
   },
   {
    "duration": 9,
    "start_time": "2023-10-22T12:05:38.467Z"
   },
   {
    "duration": 206,
    "start_time": "2023-10-22T12:05:38.477Z"
   },
   {
    "duration": 14453,
    "start_time": "2023-10-22T12:05:38.685Z"
   },
   {
    "duration": 25,
    "start_time": "2023-10-22T12:05:53.139Z"
   },
   {
    "duration": 0,
    "start_time": "2023-10-22T12:05:53.166Z"
   },
   {
    "duration": 0,
    "start_time": "2023-10-22T12:05:53.168Z"
   },
   {
    "duration": 0,
    "start_time": "2023-10-22T12:05:53.170Z"
   },
   {
    "duration": 0,
    "start_time": "2023-10-22T12:05:53.171Z"
   },
   {
    "duration": 0,
    "start_time": "2023-10-22T12:05:53.173Z"
   },
   {
    "duration": 0,
    "start_time": "2023-10-22T12:05:53.174Z"
   },
   {
    "duration": 0,
    "start_time": "2023-10-22T12:05:53.176Z"
   },
   {
    "duration": 0,
    "start_time": "2023-10-22T12:05:53.178Z"
   },
   {
    "duration": 0,
    "start_time": "2023-10-22T12:05:53.179Z"
   },
   {
    "duration": 0,
    "start_time": "2023-10-22T12:05:53.180Z"
   },
   {
    "duration": 0,
    "start_time": "2023-10-22T12:05:53.181Z"
   },
   {
    "duration": 0,
    "start_time": "2023-10-22T12:05:53.182Z"
   },
   {
    "duration": 0,
    "start_time": "2023-10-22T12:05:53.183Z"
   },
   {
    "duration": 9805,
    "start_time": "2023-10-22T12:06:11.818Z"
   },
   {
    "duration": 27,
    "start_time": "2023-10-22T12:06:37.475Z"
   },
   {
    "duration": 116,
    "start_time": "2023-10-22T12:07:02.569Z"
   },
   {
    "duration": 4,
    "start_time": "2023-10-22T12:07:11.575Z"
   },
   {
    "duration": 5672,
    "start_time": "2023-10-22T12:07:11.935Z"
   },
   {
    "duration": 3,
    "start_time": "2023-10-22T12:07:17.609Z"
   },
   {
    "duration": 234,
    "start_time": "2023-10-22T12:07:26.979Z"
   },
   {
    "duration": 292,
    "start_time": "2023-10-22T12:08:56.752Z"
   },
   {
    "duration": 46,
    "start_time": "2023-10-22T12:10:32.621Z"
   },
   {
    "duration": 24041,
    "start_time": "2023-10-22T12:10:34.718Z"
   },
   {
    "duration": 249,
    "start_time": "2023-10-22T12:10:58.761Z"
   },
   {
    "duration": 40,
    "start_time": "2023-10-22T12:10:59.012Z"
   },
   {
    "duration": 1112,
    "start_time": "2023-10-22T12:10:59.054Z"
   },
   {
    "duration": 1301,
    "start_time": "2023-10-22T12:12:16.220Z"
   },
   {
    "duration": 764,
    "start_time": "2023-10-22T12:12:34.706Z"
   },
   {
    "duration": 482,
    "start_time": "2023-10-22T12:12:56.850Z"
   },
   {
    "duration": 26,
    "start_time": "2023-10-22T12:17:36.640Z"
   },
   {
    "duration": 42,
    "start_time": "2023-10-22T12:17:59.637Z"
   },
   {
    "duration": 1213,
    "start_time": "2023-10-22T12:18:04.038Z"
   },
   {
    "duration": 11,
    "start_time": "2023-10-22T12:19:32.482Z"
   },
   {
    "duration": 12,
    "start_time": "2023-10-22T12:19:49.898Z"
   },
   {
    "duration": 6,
    "start_time": "2023-10-22T12:20:14.770Z"
   },
   {
    "duration": 1309,
    "start_time": "2023-10-22T12:20:18.868Z"
   },
   {
    "duration": 2529,
    "start_time": "2023-10-22T12:23:26.791Z"
   },
   {
    "duration": 2359,
    "start_time": "2023-10-22T12:23:37.414Z"
   },
   {
    "duration": 2748,
    "start_time": "2023-10-22T12:25:00.797Z"
   },
   {
    "duration": 38,
    "start_time": "2023-10-22T12:25:15.174Z"
   },
   {
    "duration": 2349,
    "start_time": "2023-10-22T12:25:15.746Z"
   },
   {
    "duration": 2735,
    "start_time": "2023-10-22T12:25:18.097Z"
   },
   {
    "duration": 2829,
    "start_time": "2023-10-22T12:26:22.371Z"
   },
   {
    "duration": 21927,
    "start_time": "2023-10-22T12:27:28.804Z"
   },
   {
    "duration": 163,
    "start_time": "2023-10-22T12:28:13.633Z"
   },
   {
    "duration": 53,
    "start_time": "2023-10-22T12:28:39.220Z"
   },
   {
    "duration": 28111,
    "start_time": "2023-10-22T12:28:55.101Z"
   },
   {
    "duration": 26852,
    "start_time": "2023-10-22T12:29:35.676Z"
   },
   {
    "duration": 245,
    "start_time": "2023-10-22T12:30:02.530Z"
   },
   {
    "duration": 26754,
    "start_time": "2023-10-22T12:30:36.731Z"
   },
   {
    "duration": 26635,
    "start_time": "2023-10-22T12:31:07.268Z"
   },
   {
    "duration": 1373,
    "start_time": "2023-10-22T12:31:33.905Z"
   },
   {
    "duration": 10829,
    "start_time": "2023-10-22T12:32:00.286Z"
   },
   {
    "duration": 10912,
    "start_time": "2023-10-22T12:32:17.023Z"
   },
   {
    "duration": 11310,
    "start_time": "2023-10-22T12:33:43.574Z"
   },
   {
    "duration": 6651,
    "start_time": "2023-10-22T12:34:35.162Z"
   },
   {
    "duration": 597,
    "start_time": "2023-10-22T12:35:24.010Z"
   },
   {
    "duration": 37,
    "start_time": "2023-10-22T12:35:26.881Z"
   },
   {
    "duration": 445,
    "start_time": "2023-10-22T12:35:28.869Z"
   },
   {
    "duration": 507,
    "start_time": "2023-10-22T12:35:49.165Z"
   },
   {
    "duration": 23,
    "start_time": "2023-10-22T16:30:32.000Z"
   },
   {
    "duration": 122,
    "start_time": "2023-10-22T16:30:32.963Z"
   },
   {
    "duration": 5,
    "start_time": "2023-10-22T16:30:34.922Z"
   },
   {
    "duration": 50,
    "start_time": "2023-10-22T16:30:42.279Z"
   },
   {
    "duration": 47,
    "start_time": "2023-10-22T16:30:47.111Z"
   },
   {
    "duration": 10,
    "start_time": "2023-10-22T16:32:02.576Z"
   },
   {
    "duration": 43,
    "start_time": "2023-10-22T16:32:27.740Z"
   },
   {
    "duration": 150,
    "start_time": "2023-10-22T16:32:59.514Z"
   },
   {
    "duration": 30,
    "start_time": "2023-10-22T16:33:06.096Z"
   },
   {
    "duration": 127,
    "start_time": "2023-10-22T16:33:22.000Z"
   },
   {
    "duration": 31,
    "start_time": "2023-10-22T16:34:38.746Z"
   },
   {
    "duration": 38,
    "start_time": "2023-10-22T16:35:37.655Z"
   },
   {
    "duration": 157,
    "start_time": "2023-10-22T16:45:11.037Z"
   },
   {
    "duration": 152,
    "start_time": "2023-10-22T16:46:16.756Z"
   }
  ],
  "kernelspec": {
   "display_name": "Python 3",
   "language": "python",
   "name": "python3"
  },
  "language_info": {
   "codemirror_mode": {
    "name": "ipython",
    "version": 3
   },
   "file_extension": ".py",
   "mimetype": "text/x-python",
   "name": "python",
   "nbconvert_exporter": "python",
   "pygments_lexer": "ipython3",
   "version": "3.7.6"
  },
  "toc": {
   "base_numbering": "0",
   "nav_menu": {},
   "number_sections": true,
   "sideBar": true,
   "skip_h1_title": true,
   "title_cell": "Содержание",
   "title_sidebar": "Contents",
   "toc_cell": true,
   "toc_position": {
    "height": "calc(100% - 180px)",
    "left": "10px",
    "top": "150px",
    "width": "243px"
   },
   "toc_section_display": true,
   "toc_window_display": true
  }
 },
 "nbformat": 4,
 "nbformat_minor": 2
}
